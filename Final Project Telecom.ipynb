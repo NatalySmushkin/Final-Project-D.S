{
 "cells": [
  {
   "cell_type": "markdown",
   "metadata": {},
   "source": [
    "## TELECOM OPERATOR"
   ]
  },
  {
   "cell_type": "markdown",
   "metadata": {},
   "source": [
    "The telecom operator would like to forecast their churn of clients."
   ]
  },
  {
   "cell_type": "code",
   "execution_count": 1,
   "metadata": {
    "collapsed": true
   },
   "outputs": [],
   "source": [
    "import pandas as pd\n",
    "import numpy as np\n",
    "from functools import reduce\n",
    "import matplotlib.pyplot as plt \n",
    "import seaborn as sns\n",
    "from sklearn.preprocessing import StandardScaler\n",
    "from sklearn.model_selection import train_test_split\n",
    "from sklearn.linear_model import LogisticRegression\n",
    "from sklearn.ensemble import RandomForestClassifier\n",
    "from sklearn.metrics import roc_auc_score, accuracy_score, f1_score, precision_score, recall_score, confusion_matrix\n",
    "from xgboost import XGBClassifier\n",
    "from sklearn.metrics import roc_auc_score\n",
    "from catboost import CatBoostClassifier\n",
    "import lightgbm as lgb\n",
    "from sklearn.model_selection import RandomizedSearchCV\n",
    "import warnings\n",
    "warnings.filterwarnings(\"ignore\")"
   ]
  },
  {
   "cell_type": "markdown",
   "metadata": {},
   "source": [
    "The data consists of 4 files: "
   ]
  },
  {
   "cell_type": "markdown",
   "metadata": {},
   "source": [
    "* Contract"
   ]
  },
  {
   "cell_type": "code",
   "execution_count": 2,
   "metadata": {
    "collapsed": true
   },
   "outputs": [],
   "source": [
    "contract = pd.read_csv('/datasets/final_provider/contract.csv')"
   ]
  },
  {
   "cell_type": "code",
   "execution_count": 3,
   "metadata": {
    "collapsed": true
   },
   "outputs": [
    {
     "data": {
      "text/html": [
       "<div>\n",
       "<style scoped>\n",
       "    .dataframe tbody tr th:only-of-type {\n",
       "        vertical-align: middle;\n",
       "    }\n",
       "\n",
       "    .dataframe tbody tr th {\n",
       "        vertical-align: top;\n",
       "    }\n",
       "\n",
       "    .dataframe thead th {\n",
       "        text-align: right;\n",
       "    }\n",
       "</style>\n",
       "<table border=\"1\" class=\"dataframe\">\n",
       "  <thead>\n",
       "    <tr style=\"text-align: right;\">\n",
       "      <th></th>\n",
       "      <th>customerID</th>\n",
       "      <th>BeginDate</th>\n",
       "      <th>EndDate</th>\n",
       "      <th>Type</th>\n",
       "      <th>PaperlessBilling</th>\n",
       "      <th>PaymentMethod</th>\n",
       "      <th>MonthlyCharges</th>\n",
       "      <th>TotalCharges</th>\n",
       "    </tr>\n",
       "  </thead>\n",
       "  <tbody>\n",
       "    <tr>\n",
       "      <td>0</td>\n",
       "      <td>7590-VHVEG</td>\n",
       "      <td>2020-01-01</td>\n",
       "      <td>No</td>\n",
       "      <td>Month-to-month</td>\n",
       "      <td>Yes</td>\n",
       "      <td>Electronic check</td>\n",
       "      <td>29.85</td>\n",
       "      <td>29.85</td>\n",
       "    </tr>\n",
       "    <tr>\n",
       "      <td>1</td>\n",
       "      <td>5575-GNVDE</td>\n",
       "      <td>2017-04-01</td>\n",
       "      <td>No</td>\n",
       "      <td>One year</td>\n",
       "      <td>No</td>\n",
       "      <td>Mailed check</td>\n",
       "      <td>56.95</td>\n",
       "      <td>1889.5</td>\n",
       "    </tr>\n",
       "    <tr>\n",
       "      <td>2</td>\n",
       "      <td>3668-QPYBK</td>\n",
       "      <td>2019-10-01</td>\n",
       "      <td>2019-12-01 00:00:00</td>\n",
       "      <td>Month-to-month</td>\n",
       "      <td>Yes</td>\n",
       "      <td>Mailed check</td>\n",
       "      <td>53.85</td>\n",
       "      <td>108.15</td>\n",
       "    </tr>\n",
       "    <tr>\n",
       "      <td>3</td>\n",
       "      <td>7795-CFOCW</td>\n",
       "      <td>2016-05-01</td>\n",
       "      <td>No</td>\n",
       "      <td>One year</td>\n",
       "      <td>No</td>\n",
       "      <td>Bank transfer (automatic)</td>\n",
       "      <td>42.30</td>\n",
       "      <td>1840.75</td>\n",
       "    </tr>\n",
       "    <tr>\n",
       "      <td>4</td>\n",
       "      <td>9237-HQITU</td>\n",
       "      <td>2019-09-01</td>\n",
       "      <td>2019-11-01 00:00:00</td>\n",
       "      <td>Month-to-month</td>\n",
       "      <td>Yes</td>\n",
       "      <td>Electronic check</td>\n",
       "      <td>70.70</td>\n",
       "      <td>151.65</td>\n",
       "    </tr>\n",
       "  </tbody>\n",
       "</table>\n",
       "</div>"
      ],
      "text/plain": [
       "   customerID   BeginDate              EndDate            Type  \\\n",
       "0  7590-VHVEG  2020-01-01                   No  Month-to-month   \n",
       "1  5575-GNVDE  2017-04-01                   No        One year   \n",
       "2  3668-QPYBK  2019-10-01  2019-12-01 00:00:00  Month-to-month   \n",
       "3  7795-CFOCW  2016-05-01                   No        One year   \n",
       "4  9237-HQITU  2019-09-01  2019-11-01 00:00:00  Month-to-month   \n",
       "\n",
       "  PaperlessBilling              PaymentMethod  MonthlyCharges TotalCharges  \n",
       "0              Yes           Electronic check           29.85        29.85  \n",
       "1               No               Mailed check           56.95       1889.5  \n",
       "2              Yes               Mailed check           53.85       108.15  \n",
       "3               No  Bank transfer (automatic)           42.30      1840.75  \n",
       "4              Yes           Electronic check           70.70       151.65  "
      ]
     },
     "execution_count": 3,
     "metadata": {},
     "output_type": "execute_result"
    }
   ],
   "source": [
    "contract.head()"
   ]
  },
  {
   "cell_type": "code",
   "execution_count": 4,
   "metadata": {
    "collapsed": true
   },
   "outputs": [
    {
     "name": "stdout",
     "output_type": "stream",
     "text": [
      "<class 'pandas.core.frame.DataFrame'>\n",
      "RangeIndex: 7043 entries, 0 to 7042\n",
      "Data columns (total 8 columns):\n",
      "customerID          7043 non-null object\n",
      "BeginDate           7043 non-null object\n",
      "EndDate             7043 non-null object\n",
      "Type                7043 non-null object\n",
      "PaperlessBilling    7043 non-null object\n",
      "PaymentMethod       7043 non-null object\n",
      "MonthlyCharges      7043 non-null float64\n",
      "TotalCharges        7043 non-null object\n",
      "dtypes: float64(1), object(7)\n",
      "memory usage: 440.3+ KB\n"
     ]
    }
   ],
   "source": [
    "contract.info()"
   ]
  },
  {
   "cell_type": "markdown",
   "metadata": {},
   "source": [
    "Dataset \"contract\" - client's contract information, has 7043 entries with 8 columns ( 7 -string type, 1 - float).\n",
    "\n",
    "We can see that column \"TotalCharges\" need to be converted to numeric type."
   ]
  },
  {
   "cell_type": "code",
   "execution_count": 5,
   "metadata": {
    "collapsed": true
   },
   "outputs": [],
   "source": [
    "contract['TotalCharges']=pd.to_numeric(contract['TotalCharges'],errors='coerce')"
   ]
  },
  {
   "cell_type": "markdown",
   "metadata": {},
   "source": [
    "Let's convert column \"BeginDate\" to date type."
   ]
  },
  {
   "cell_type": "code",
   "execution_count": 6,
   "metadata": {
    "collapsed": true
   },
   "outputs": [],
   "source": [
    "contract['BeginDate'] = pd.to_datetime(contract['BeginDate'], format='%Y-%m-%d')"
   ]
  },
  {
   "cell_type": "markdown",
   "metadata": {},
   "source": [
    "* Client"
   ]
  },
  {
   "cell_type": "code",
   "execution_count": 7,
   "metadata": {
    "collapsed": true
   },
   "outputs": [],
   "source": [
    "client = pd.read_csv('/datasets/final_provider/personal.csv')"
   ]
  },
  {
   "cell_type": "code",
   "execution_count": 8,
   "metadata": {
    "collapsed": true
   },
   "outputs": [
    {
     "data": {
      "text/html": [
       "<div>\n",
       "<style scoped>\n",
       "    .dataframe tbody tr th:only-of-type {\n",
       "        vertical-align: middle;\n",
       "    }\n",
       "\n",
       "    .dataframe tbody tr th {\n",
       "        vertical-align: top;\n",
       "    }\n",
       "\n",
       "    .dataframe thead th {\n",
       "        text-align: right;\n",
       "    }\n",
       "</style>\n",
       "<table border=\"1\" class=\"dataframe\">\n",
       "  <thead>\n",
       "    <tr style=\"text-align: right;\">\n",
       "      <th></th>\n",
       "      <th>customerID</th>\n",
       "      <th>gender</th>\n",
       "      <th>SeniorCitizen</th>\n",
       "      <th>Partner</th>\n",
       "      <th>Dependents</th>\n",
       "    </tr>\n",
       "  </thead>\n",
       "  <tbody>\n",
       "    <tr>\n",
       "      <td>0</td>\n",
       "      <td>7590-VHVEG</td>\n",
       "      <td>Female</td>\n",
       "      <td>0</td>\n",
       "      <td>Yes</td>\n",
       "      <td>No</td>\n",
       "    </tr>\n",
       "    <tr>\n",
       "      <td>1</td>\n",
       "      <td>5575-GNVDE</td>\n",
       "      <td>Male</td>\n",
       "      <td>0</td>\n",
       "      <td>No</td>\n",
       "      <td>No</td>\n",
       "    </tr>\n",
       "    <tr>\n",
       "      <td>2</td>\n",
       "      <td>3668-QPYBK</td>\n",
       "      <td>Male</td>\n",
       "      <td>0</td>\n",
       "      <td>No</td>\n",
       "      <td>No</td>\n",
       "    </tr>\n",
       "    <tr>\n",
       "      <td>3</td>\n",
       "      <td>7795-CFOCW</td>\n",
       "      <td>Male</td>\n",
       "      <td>0</td>\n",
       "      <td>No</td>\n",
       "      <td>No</td>\n",
       "    </tr>\n",
       "    <tr>\n",
       "      <td>4</td>\n",
       "      <td>9237-HQITU</td>\n",
       "      <td>Female</td>\n",
       "      <td>0</td>\n",
       "      <td>No</td>\n",
       "      <td>No</td>\n",
       "    </tr>\n",
       "  </tbody>\n",
       "</table>\n",
       "</div>"
      ],
      "text/plain": [
       "   customerID  gender  SeniorCitizen Partner Dependents\n",
       "0  7590-VHVEG  Female              0     Yes         No\n",
       "1  5575-GNVDE    Male              0      No         No\n",
       "2  3668-QPYBK    Male              0      No         No\n",
       "3  7795-CFOCW    Male              0      No         No\n",
       "4  9237-HQITU  Female              0      No         No"
      ]
     },
     "execution_count": 8,
     "metadata": {},
     "output_type": "execute_result"
    }
   ],
   "source": [
    "client.head()"
   ]
  },
  {
   "cell_type": "code",
   "execution_count": 9,
   "metadata": {
    "collapsed": true
   },
   "outputs": [
    {
     "name": "stdout",
     "output_type": "stream",
     "text": [
      "<class 'pandas.core.frame.DataFrame'>\n",
      "RangeIndex: 7043 entries, 0 to 7042\n",
      "Data columns (total 5 columns):\n",
      "customerID       7043 non-null object\n",
      "gender           7043 non-null object\n",
      "SeniorCitizen    7043 non-null int64\n",
      "Partner          7043 non-null object\n",
      "Dependents       7043 non-null object\n",
      "dtypes: int64(1), object(4)\n",
      "memory usage: 275.2+ KB\n"
     ]
    }
   ],
   "source": [
    "client.info()"
   ]
  },
  {
   "cell_type": "markdown",
   "metadata": {},
   "source": [
    "Dataset \"client\" - the client's personal data, has 7043 entries with 5 columns ( 4 -string type, 1 - interger)."
   ]
  },
  {
   "cell_type": "markdown",
   "metadata": {},
   "source": [
    "* Internet"
   ]
  },
  {
   "cell_type": "code",
   "execution_count": 10,
   "metadata": {
    "collapsed": true
   },
   "outputs": [],
   "source": [
    "internet = pd.read_csv('/datasets/final_provider/internet.csv')"
   ]
  },
  {
   "cell_type": "code",
   "execution_count": 11,
   "metadata": {
    "collapsed": true
   },
   "outputs": [
    {
     "data": {
      "text/html": [
       "<div>\n",
       "<style scoped>\n",
       "    .dataframe tbody tr th:only-of-type {\n",
       "        vertical-align: middle;\n",
       "    }\n",
       "\n",
       "    .dataframe tbody tr th {\n",
       "        vertical-align: top;\n",
       "    }\n",
       "\n",
       "    .dataframe thead th {\n",
       "        text-align: right;\n",
       "    }\n",
       "</style>\n",
       "<table border=\"1\" class=\"dataframe\">\n",
       "  <thead>\n",
       "    <tr style=\"text-align: right;\">\n",
       "      <th></th>\n",
       "      <th>customerID</th>\n",
       "      <th>InternetService</th>\n",
       "      <th>OnlineSecurity</th>\n",
       "      <th>OnlineBackup</th>\n",
       "      <th>DeviceProtection</th>\n",
       "      <th>TechSupport</th>\n",
       "      <th>StreamingTV</th>\n",
       "      <th>StreamingMovies</th>\n",
       "    </tr>\n",
       "  </thead>\n",
       "  <tbody>\n",
       "    <tr>\n",
       "      <td>0</td>\n",
       "      <td>7590-VHVEG</td>\n",
       "      <td>DSL</td>\n",
       "      <td>No</td>\n",
       "      <td>Yes</td>\n",
       "      <td>No</td>\n",
       "      <td>No</td>\n",
       "      <td>No</td>\n",
       "      <td>No</td>\n",
       "    </tr>\n",
       "    <tr>\n",
       "      <td>1</td>\n",
       "      <td>5575-GNVDE</td>\n",
       "      <td>DSL</td>\n",
       "      <td>Yes</td>\n",
       "      <td>No</td>\n",
       "      <td>Yes</td>\n",
       "      <td>No</td>\n",
       "      <td>No</td>\n",
       "      <td>No</td>\n",
       "    </tr>\n",
       "    <tr>\n",
       "      <td>2</td>\n",
       "      <td>3668-QPYBK</td>\n",
       "      <td>DSL</td>\n",
       "      <td>Yes</td>\n",
       "      <td>Yes</td>\n",
       "      <td>No</td>\n",
       "      <td>No</td>\n",
       "      <td>No</td>\n",
       "      <td>No</td>\n",
       "    </tr>\n",
       "    <tr>\n",
       "      <td>3</td>\n",
       "      <td>7795-CFOCW</td>\n",
       "      <td>DSL</td>\n",
       "      <td>Yes</td>\n",
       "      <td>No</td>\n",
       "      <td>Yes</td>\n",
       "      <td>Yes</td>\n",
       "      <td>No</td>\n",
       "      <td>No</td>\n",
       "    </tr>\n",
       "    <tr>\n",
       "      <td>4</td>\n",
       "      <td>9237-HQITU</td>\n",
       "      <td>Fiber optic</td>\n",
       "      <td>No</td>\n",
       "      <td>No</td>\n",
       "      <td>No</td>\n",
       "      <td>No</td>\n",
       "      <td>No</td>\n",
       "      <td>No</td>\n",
       "    </tr>\n",
       "  </tbody>\n",
       "</table>\n",
       "</div>"
      ],
      "text/plain": [
       "   customerID InternetService OnlineSecurity OnlineBackup DeviceProtection  \\\n",
       "0  7590-VHVEG             DSL             No          Yes               No   \n",
       "1  5575-GNVDE             DSL            Yes           No              Yes   \n",
       "2  3668-QPYBK             DSL            Yes          Yes               No   \n",
       "3  7795-CFOCW             DSL            Yes           No              Yes   \n",
       "4  9237-HQITU     Fiber optic             No           No               No   \n",
       "\n",
       "  TechSupport StreamingTV StreamingMovies  \n",
       "0          No          No              No  \n",
       "1          No          No              No  \n",
       "2          No          No              No  \n",
       "3         Yes          No              No  \n",
       "4          No          No              No  "
      ]
     },
     "execution_count": 11,
     "metadata": {},
     "output_type": "execute_result"
    }
   ],
   "source": [
    "internet.head()"
   ]
  },
  {
   "cell_type": "code",
   "execution_count": 12,
   "metadata": {
    "collapsed": true
   },
   "outputs": [
    {
     "name": "stdout",
     "output_type": "stream",
     "text": [
      "<class 'pandas.core.frame.DataFrame'>\n",
      "RangeIndex: 5517 entries, 0 to 5516\n",
      "Data columns (total 8 columns):\n",
      "customerID          5517 non-null object\n",
      "InternetService     5517 non-null object\n",
      "OnlineSecurity      5517 non-null object\n",
      "OnlineBackup        5517 non-null object\n",
      "DeviceProtection    5517 non-null object\n",
      "TechSupport         5517 non-null object\n",
      "StreamingTV         5517 non-null object\n",
      "StreamingMovies     5517 non-null object\n",
      "dtypes: object(8)\n",
      "memory usage: 344.9+ KB\n"
     ]
    }
   ],
   "source": [
    "internet.info()"
   ]
  },
  {
   "cell_type": "markdown",
   "metadata": {},
   "source": [
    "Dataset \"internet\" - information about Internet services, has 5517 entries with 8 columns of string type."
   ]
  },
  {
   "cell_type": "markdown",
   "metadata": {},
   "source": [
    "* Phone"
   ]
  },
  {
   "cell_type": "code",
   "execution_count": 13,
   "metadata": {
    "collapsed": true
   },
   "outputs": [],
   "source": [
    "phone = pd.read_csv('/datasets/final_provider/phone.csv')"
   ]
  },
  {
   "cell_type": "code",
   "execution_count": 14,
   "metadata": {
    "collapsed": true
   },
   "outputs": [
    {
     "data": {
      "text/html": [
       "<div>\n",
       "<style scoped>\n",
       "    .dataframe tbody tr th:only-of-type {\n",
       "        vertical-align: middle;\n",
       "    }\n",
       "\n",
       "    .dataframe tbody tr th {\n",
       "        vertical-align: top;\n",
       "    }\n",
       "\n",
       "    .dataframe thead th {\n",
       "        text-align: right;\n",
       "    }\n",
       "</style>\n",
       "<table border=\"1\" class=\"dataframe\">\n",
       "  <thead>\n",
       "    <tr style=\"text-align: right;\">\n",
       "      <th></th>\n",
       "      <th>customerID</th>\n",
       "      <th>MultipleLines</th>\n",
       "    </tr>\n",
       "  </thead>\n",
       "  <tbody>\n",
       "    <tr>\n",
       "      <td>0</td>\n",
       "      <td>5575-GNVDE</td>\n",
       "      <td>No</td>\n",
       "    </tr>\n",
       "    <tr>\n",
       "      <td>1</td>\n",
       "      <td>3668-QPYBK</td>\n",
       "      <td>No</td>\n",
       "    </tr>\n",
       "    <tr>\n",
       "      <td>2</td>\n",
       "      <td>9237-HQITU</td>\n",
       "      <td>No</td>\n",
       "    </tr>\n",
       "    <tr>\n",
       "      <td>3</td>\n",
       "      <td>9305-CDSKC</td>\n",
       "      <td>Yes</td>\n",
       "    </tr>\n",
       "    <tr>\n",
       "      <td>4</td>\n",
       "      <td>1452-KIOVK</td>\n",
       "      <td>Yes</td>\n",
       "    </tr>\n",
       "  </tbody>\n",
       "</table>\n",
       "</div>"
      ],
      "text/plain": [
       "   customerID MultipleLines\n",
       "0  5575-GNVDE            No\n",
       "1  3668-QPYBK            No\n",
       "2  9237-HQITU            No\n",
       "3  9305-CDSKC           Yes\n",
       "4  1452-KIOVK           Yes"
      ]
     },
     "execution_count": 14,
     "metadata": {},
     "output_type": "execute_result"
    }
   ],
   "source": [
    "phone.head()"
   ]
  },
  {
   "cell_type": "code",
   "execution_count": 15,
   "metadata": {
    "collapsed": true
   },
   "outputs": [
    {
     "name": "stdout",
     "output_type": "stream",
     "text": [
      "<class 'pandas.core.frame.DataFrame'>\n",
      "RangeIndex: 6361 entries, 0 to 6360\n",
      "Data columns (total 2 columns):\n",
      "customerID       6361 non-null object\n",
      "MultipleLines    6361 non-null object\n",
      "dtypes: object(2)\n",
      "memory usage: 99.5+ KB\n"
     ]
    }
   ],
   "source": [
    "phone.info()"
   ]
  },
  {
   "cell_type": "markdown",
   "metadata": {},
   "source": [
    "Dataset \"phone\" -  information about telephone services, has 6361 entries with 2 columns of string type."
   ]
  },
  {
   "cell_type": "markdown",
   "metadata": {},
   "source": [
    "Now, we\"ll merge all datasets. First, we'll load all the files as data frame into a list. Then merge the files using reduce function."
   ]
  },
  {
   "cell_type": "code",
   "execution_count": 16,
   "metadata": {
    "collapsed": true
   },
   "outputs": [],
   "source": [
    "data_frames = [contract, client, internet, phone]\n",
    "\n",
    "data_merged = reduce(lambda  left,right: pd.merge(left,right,on=['customerID'],\n",
    "                                                  how='outer'), data_frames)"
   ]
  },
  {
   "cell_type": "code",
   "execution_count": 17,
   "metadata": {
    "collapsed": true
   },
   "outputs": [
    {
     "data": {
      "text/html": [
       "<div>\n",
       "<style scoped>\n",
       "    .dataframe tbody tr th:only-of-type {\n",
       "        vertical-align: middle;\n",
       "    }\n",
       "\n",
       "    .dataframe tbody tr th {\n",
       "        vertical-align: top;\n",
       "    }\n",
       "\n",
       "    .dataframe thead th {\n",
       "        text-align: right;\n",
       "    }\n",
       "</style>\n",
       "<table border=\"1\" class=\"dataframe\">\n",
       "  <thead>\n",
       "    <tr style=\"text-align: right;\">\n",
       "      <th></th>\n",
       "      <th>customerID</th>\n",
       "      <th>BeginDate</th>\n",
       "      <th>EndDate</th>\n",
       "      <th>Type</th>\n",
       "      <th>PaperlessBilling</th>\n",
       "      <th>PaymentMethod</th>\n",
       "      <th>MonthlyCharges</th>\n",
       "      <th>TotalCharges</th>\n",
       "      <th>gender</th>\n",
       "      <th>SeniorCitizen</th>\n",
       "      <th>Partner</th>\n",
       "      <th>Dependents</th>\n",
       "      <th>InternetService</th>\n",
       "      <th>OnlineSecurity</th>\n",
       "      <th>OnlineBackup</th>\n",
       "      <th>DeviceProtection</th>\n",
       "      <th>TechSupport</th>\n",
       "      <th>StreamingTV</th>\n",
       "      <th>StreamingMovies</th>\n",
       "      <th>MultipleLines</th>\n",
       "    </tr>\n",
       "  </thead>\n",
       "  <tbody>\n",
       "    <tr>\n",
       "      <td>0</td>\n",
       "      <td>7590-VHVEG</td>\n",
       "      <td>2020-01-01</td>\n",
       "      <td>No</td>\n",
       "      <td>Month-to-month</td>\n",
       "      <td>Yes</td>\n",
       "      <td>Electronic check</td>\n",
       "      <td>29.85</td>\n",
       "      <td>29.85</td>\n",
       "      <td>Female</td>\n",
       "      <td>0</td>\n",
       "      <td>Yes</td>\n",
       "      <td>No</td>\n",
       "      <td>DSL</td>\n",
       "      <td>No</td>\n",
       "      <td>Yes</td>\n",
       "      <td>No</td>\n",
       "      <td>No</td>\n",
       "      <td>No</td>\n",
       "      <td>No</td>\n",
       "      <td>NaN</td>\n",
       "    </tr>\n",
       "    <tr>\n",
       "      <td>1</td>\n",
       "      <td>5575-GNVDE</td>\n",
       "      <td>2017-04-01</td>\n",
       "      <td>No</td>\n",
       "      <td>One year</td>\n",
       "      <td>No</td>\n",
       "      <td>Mailed check</td>\n",
       "      <td>56.95</td>\n",
       "      <td>1889.50</td>\n",
       "      <td>Male</td>\n",
       "      <td>0</td>\n",
       "      <td>No</td>\n",
       "      <td>No</td>\n",
       "      <td>DSL</td>\n",
       "      <td>Yes</td>\n",
       "      <td>No</td>\n",
       "      <td>Yes</td>\n",
       "      <td>No</td>\n",
       "      <td>No</td>\n",
       "      <td>No</td>\n",
       "      <td>No</td>\n",
       "    </tr>\n",
       "    <tr>\n",
       "      <td>2</td>\n",
       "      <td>3668-QPYBK</td>\n",
       "      <td>2019-10-01</td>\n",
       "      <td>2019-12-01 00:00:00</td>\n",
       "      <td>Month-to-month</td>\n",
       "      <td>Yes</td>\n",
       "      <td>Mailed check</td>\n",
       "      <td>53.85</td>\n",
       "      <td>108.15</td>\n",
       "      <td>Male</td>\n",
       "      <td>0</td>\n",
       "      <td>No</td>\n",
       "      <td>No</td>\n",
       "      <td>DSL</td>\n",
       "      <td>Yes</td>\n",
       "      <td>Yes</td>\n",
       "      <td>No</td>\n",
       "      <td>No</td>\n",
       "      <td>No</td>\n",
       "      <td>No</td>\n",
       "      <td>No</td>\n",
       "    </tr>\n",
       "    <tr>\n",
       "      <td>3</td>\n",
       "      <td>7795-CFOCW</td>\n",
       "      <td>2016-05-01</td>\n",
       "      <td>No</td>\n",
       "      <td>One year</td>\n",
       "      <td>No</td>\n",
       "      <td>Bank transfer (automatic)</td>\n",
       "      <td>42.30</td>\n",
       "      <td>1840.75</td>\n",
       "      <td>Male</td>\n",
       "      <td>0</td>\n",
       "      <td>No</td>\n",
       "      <td>No</td>\n",
       "      <td>DSL</td>\n",
       "      <td>Yes</td>\n",
       "      <td>No</td>\n",
       "      <td>Yes</td>\n",
       "      <td>Yes</td>\n",
       "      <td>No</td>\n",
       "      <td>No</td>\n",
       "      <td>NaN</td>\n",
       "    </tr>\n",
       "    <tr>\n",
       "      <td>4</td>\n",
       "      <td>9237-HQITU</td>\n",
       "      <td>2019-09-01</td>\n",
       "      <td>2019-11-01 00:00:00</td>\n",
       "      <td>Month-to-month</td>\n",
       "      <td>Yes</td>\n",
       "      <td>Electronic check</td>\n",
       "      <td>70.70</td>\n",
       "      <td>151.65</td>\n",
       "      <td>Female</td>\n",
       "      <td>0</td>\n",
       "      <td>No</td>\n",
       "      <td>No</td>\n",
       "      <td>Fiber optic</td>\n",
       "      <td>No</td>\n",
       "      <td>No</td>\n",
       "      <td>No</td>\n",
       "      <td>No</td>\n",
       "      <td>No</td>\n",
       "      <td>No</td>\n",
       "      <td>No</td>\n",
       "    </tr>\n",
       "  </tbody>\n",
       "</table>\n",
       "</div>"
      ],
      "text/plain": [
       "   customerID  BeginDate              EndDate            Type  \\\n",
       "0  7590-VHVEG 2020-01-01                   No  Month-to-month   \n",
       "1  5575-GNVDE 2017-04-01                   No        One year   \n",
       "2  3668-QPYBK 2019-10-01  2019-12-01 00:00:00  Month-to-month   \n",
       "3  7795-CFOCW 2016-05-01                   No        One year   \n",
       "4  9237-HQITU 2019-09-01  2019-11-01 00:00:00  Month-to-month   \n",
       "\n",
       "  PaperlessBilling              PaymentMethod  MonthlyCharges  TotalCharges  \\\n",
       "0              Yes           Electronic check           29.85         29.85   \n",
       "1               No               Mailed check           56.95       1889.50   \n",
       "2              Yes               Mailed check           53.85        108.15   \n",
       "3               No  Bank transfer (automatic)           42.30       1840.75   \n",
       "4              Yes           Electronic check           70.70        151.65   \n",
       "\n",
       "   gender  SeniorCitizen Partner Dependents InternetService OnlineSecurity  \\\n",
       "0  Female              0     Yes         No             DSL             No   \n",
       "1    Male              0      No         No             DSL            Yes   \n",
       "2    Male              0      No         No             DSL            Yes   \n",
       "3    Male              0      No         No             DSL            Yes   \n",
       "4  Female              0      No         No     Fiber optic             No   \n",
       "\n",
       "  OnlineBackup DeviceProtection TechSupport StreamingTV StreamingMovies  \\\n",
       "0          Yes               No          No          No              No   \n",
       "1           No              Yes          No          No              No   \n",
       "2          Yes               No          No          No              No   \n",
       "3           No              Yes         Yes          No              No   \n",
       "4           No               No          No          No              No   \n",
       "\n",
       "  MultipleLines  \n",
       "0           NaN  \n",
       "1            No  \n",
       "2            No  \n",
       "3           NaN  \n",
       "4            No  "
      ]
     },
     "execution_count": 17,
     "metadata": {},
     "output_type": "execute_result"
    }
   ],
   "source": [
    "data_merged.head()"
   ]
  },
  {
   "cell_type": "code",
   "execution_count": 18,
   "metadata": {
    "collapsed": true
   },
   "outputs": [
    {
     "name": "stdout",
     "output_type": "stream",
     "text": [
      "<class 'pandas.core.frame.DataFrame'>\n",
      "Int64Index: 7043 entries, 0 to 7042\n",
      "Data columns (total 20 columns):\n",
      "customerID          7043 non-null object\n",
      "BeginDate           7043 non-null datetime64[ns]\n",
      "EndDate             7043 non-null object\n",
      "Type                7043 non-null object\n",
      "PaperlessBilling    7043 non-null object\n",
      "PaymentMethod       7043 non-null object\n",
      "MonthlyCharges      7043 non-null float64\n",
      "TotalCharges        7032 non-null float64\n",
      "gender              7043 non-null object\n",
      "SeniorCitizen       7043 non-null int64\n",
      "Partner             7043 non-null object\n",
      "Dependents          7043 non-null object\n",
      "InternetService     5517 non-null object\n",
      "OnlineSecurity      5517 non-null object\n",
      "OnlineBackup        5517 non-null object\n",
      "DeviceProtection    5517 non-null object\n",
      "TechSupport         5517 non-null object\n",
      "StreamingTV         5517 non-null object\n",
      "StreamingMovies     5517 non-null object\n",
      "MultipleLines       6361 non-null object\n",
      "dtypes: datetime64[ns](1), float64(2), int64(1), object(16)\n",
      "memory usage: 1.1+ MB\n"
     ]
    }
   ],
   "source": [
    "data_merged.info()"
   ]
  },
  {
   "cell_type": "markdown",
   "metadata": {},
   "source": [
    "Let's check if we have missing values."
   ]
  },
  {
   "cell_type": "code",
   "execution_count": 19,
   "metadata": {
    "collapsed": true
   },
   "outputs": [
    {
     "data": {
      "text/plain": [
       "customerID             0\n",
       "BeginDate              0\n",
       "EndDate                0\n",
       "Type                   0\n",
       "PaperlessBilling       0\n",
       "PaymentMethod          0\n",
       "MonthlyCharges         0\n",
       "TotalCharges          11\n",
       "gender                 0\n",
       "SeniorCitizen          0\n",
       "Partner                0\n",
       "Dependents             0\n",
       "InternetService     1526\n",
       "OnlineSecurity      1526\n",
       "OnlineBackup        1526\n",
       "DeviceProtection    1526\n",
       "TechSupport         1526\n",
       "StreamingTV         1526\n",
       "StreamingMovies     1526\n",
       "MultipleLines        682\n",
       "dtype: int64"
      ]
     },
     "execution_count": 19,
     "metadata": {},
     "output_type": "execute_result"
    }
   ],
   "source": [
    "data_merged.isnull().sum()"
   ]
  },
  {
   "cell_type": "markdown",
   "metadata": {},
   "source": [
    "We have missing values in such columns : InternetService, OnlineSecurity, OnlineBackup,  DeviceProtection, TechSupport, StreamingTV, StreamingMovies, MultipleLines. \n",
    "We can assume here that customer doesn't have such services. So, we will fill mising values with 'No service'."
   ]
  },
  {
   "cell_type": "code",
   "execution_count": 20,
   "metadata": {
    "collapsed": true
   },
   "outputs": [],
   "source": [
    "data_merged[['InternetService','OnlineSecurity','OnlineBackup', 'DeviceProtection', 'TechSupport', 'StreamingTV', 'StreamingMovies','MultipleLines']] = data_merged[['InternetService','OnlineSecurity','OnlineBackup', 'DeviceProtection', 'TechSupport', 'StreamingTV', 'StreamingMovies','MultipleLines']].fillna('No service')"
   ]
  },
  {
   "cell_type": "markdown",
   "metadata": {},
   "source": [
    "There are 11 missing values in TotalCharges column. We\"ll drop them (this is really small number of NaNs) "
   ]
  },
  {
   "cell_type": "code",
   "execution_count": 21,
   "metadata": {
    "collapsed": true
   },
   "outputs": [],
   "source": [
    "data_merged.dropna(inplace = True)"
   ]
  },
  {
   "cell_type": "markdown",
   "metadata": {},
   "source": [
    "Let's check our data for duplicates."
   ]
  },
  {
   "cell_type": "code",
   "execution_count": 22,
   "metadata": {
    "collapsed": true
   },
   "outputs": [
    {
     "data": {
      "text/html": [
       "<div>\n",
       "<style scoped>\n",
       "    .dataframe tbody tr th:only-of-type {\n",
       "        vertical-align: middle;\n",
       "    }\n",
       "\n",
       "    .dataframe tbody tr th {\n",
       "        vertical-align: top;\n",
       "    }\n",
       "\n",
       "    .dataframe thead th {\n",
       "        text-align: right;\n",
       "    }\n",
       "</style>\n",
       "<table border=\"1\" class=\"dataframe\">\n",
       "  <thead>\n",
       "    <tr style=\"text-align: right;\">\n",
       "      <th></th>\n",
       "      <th>customerID</th>\n",
       "      <th>BeginDate</th>\n",
       "      <th>EndDate</th>\n",
       "      <th>Type</th>\n",
       "      <th>PaperlessBilling</th>\n",
       "      <th>PaymentMethod</th>\n",
       "      <th>MonthlyCharges</th>\n",
       "      <th>TotalCharges</th>\n",
       "      <th>gender</th>\n",
       "      <th>SeniorCitizen</th>\n",
       "      <th>Partner</th>\n",
       "      <th>Dependents</th>\n",
       "      <th>InternetService</th>\n",
       "      <th>OnlineSecurity</th>\n",
       "      <th>OnlineBackup</th>\n",
       "      <th>DeviceProtection</th>\n",
       "      <th>TechSupport</th>\n",
       "      <th>StreamingTV</th>\n",
       "      <th>StreamingMovies</th>\n",
       "      <th>MultipleLines</th>\n",
       "    </tr>\n",
       "  </thead>\n",
       "  <tbody>\n",
       "  </tbody>\n",
       "</table>\n",
       "</div>"
      ],
      "text/plain": [
       "Empty DataFrame\n",
       "Columns: [customerID, BeginDate, EndDate, Type, PaperlessBilling, PaymentMethod, MonthlyCharges, TotalCharges, gender, SeniorCitizen, Partner, Dependents, InternetService, OnlineSecurity, OnlineBackup, DeviceProtection, TechSupport, StreamingTV, StreamingMovies, MultipleLines]\n",
       "Index: []"
      ]
     },
     "execution_count": 22,
     "metadata": {},
     "output_type": "execute_result"
    }
   ],
   "source": [
    "data_merged[data_merged.duplicated(keep=False)]"
   ]
  },
  {
   "cell_type": "markdown",
   "metadata": {},
   "source": [
    "There are no duplicates in the dataset."
   ]
  },
  {
   "cell_type": "markdown",
   "metadata": {},
   "source": [
    "Now let's find out how long clients stay with us. In order to do this, we\"ll fill \"No\" values in the column \"EndDate\" with date 2020-02-01 (The contract information is valid as of February 1, 2020.)"
   ]
  },
  {
   "cell_type": "code",
   "execution_count": 23,
   "metadata": {
    "collapsed": true
   },
   "outputs": [],
   "source": [
    "data_merged['End_Date'] = data_merged['EndDate'].replace({\"No\":\"2020-02-01\"})"
   ]
  },
  {
   "cell_type": "markdown",
   "metadata": {},
   "source": [
    "Convert it into date type"
   ]
  },
  {
   "cell_type": "code",
   "execution_count": 24,
   "metadata": {
    "collapsed": true
   },
   "outputs": [],
   "source": [
    " data_merged['End_Date'] = pd.to_datetime(data_merged['End_Date'], format='%Y-%m-%d')"
   ]
  },
  {
   "cell_type": "markdown",
   "metadata": {},
   "source": [
    "Now we'll find the difference beetwen BeginDate and End_Date in term of month."
   ]
  },
  {
   "cell_type": "code",
   "execution_count": 25,
   "metadata": {
    "collapsed": true
   },
   "outputs": [],
   "source": [
    "data_merged['Tenure']= ((data_merged['End_Date'] - data_merged['BeginDate'])/np.timedelta64(1, 'M')).astype(int)"
   ]
  },
  {
   "cell_type": "markdown",
   "metadata": {},
   "source": [
    "Let's add column \"Churn\", it will be our target value. We\"ll replace \"No\" with 0, all the rest with 1. So, 0 - client stays with us, 1 - client exited."
   ]
  },
  {
   "cell_type": "code",
   "execution_count": 26,
   "metadata": {
    "collapsed": true
   },
   "outputs": [],
   "source": [
    "data_merged['Churn'] = [0 if x == \"No\" else 1 for x in data_merged['EndDate']]"
   ]
  },
  {
   "cell_type": "code",
   "execution_count": 27,
   "metadata": {
    "collapsed": true
   },
   "outputs": [
    {
     "data": {
      "text/html": [
       "<div>\n",
       "<style scoped>\n",
       "    .dataframe tbody tr th:only-of-type {\n",
       "        vertical-align: middle;\n",
       "    }\n",
       "\n",
       "    .dataframe tbody tr th {\n",
       "        vertical-align: top;\n",
       "    }\n",
       "\n",
       "    .dataframe thead th {\n",
       "        text-align: right;\n",
       "    }\n",
       "</style>\n",
       "<table border=\"1\" class=\"dataframe\">\n",
       "  <thead>\n",
       "    <tr style=\"text-align: right;\">\n",
       "      <th></th>\n",
       "      <th>customerID</th>\n",
       "      <th>BeginDate</th>\n",
       "      <th>EndDate</th>\n",
       "      <th>Type</th>\n",
       "      <th>PaperlessBilling</th>\n",
       "      <th>PaymentMethod</th>\n",
       "      <th>MonthlyCharges</th>\n",
       "      <th>TotalCharges</th>\n",
       "      <th>gender</th>\n",
       "      <th>SeniorCitizen</th>\n",
       "      <th>...</th>\n",
       "      <th>OnlineSecurity</th>\n",
       "      <th>OnlineBackup</th>\n",
       "      <th>DeviceProtection</th>\n",
       "      <th>TechSupport</th>\n",
       "      <th>StreamingTV</th>\n",
       "      <th>StreamingMovies</th>\n",
       "      <th>MultipleLines</th>\n",
       "      <th>End_Date</th>\n",
       "      <th>Tenure</th>\n",
       "      <th>Churn</th>\n",
       "    </tr>\n",
       "  </thead>\n",
       "  <tbody>\n",
       "    <tr>\n",
       "      <td>0</td>\n",
       "      <td>7590-VHVEG</td>\n",
       "      <td>2020-01-01</td>\n",
       "      <td>No</td>\n",
       "      <td>Month-to-month</td>\n",
       "      <td>Yes</td>\n",
       "      <td>Electronic check</td>\n",
       "      <td>29.85</td>\n",
       "      <td>29.85</td>\n",
       "      <td>Female</td>\n",
       "      <td>0</td>\n",
       "      <td>...</td>\n",
       "      <td>No</td>\n",
       "      <td>Yes</td>\n",
       "      <td>No</td>\n",
       "      <td>No</td>\n",
       "      <td>No</td>\n",
       "      <td>No</td>\n",
       "      <td>No service</td>\n",
       "      <td>2020-02-01</td>\n",
       "      <td>1</td>\n",
       "      <td>0</td>\n",
       "    </tr>\n",
       "    <tr>\n",
       "      <td>1</td>\n",
       "      <td>5575-GNVDE</td>\n",
       "      <td>2017-04-01</td>\n",
       "      <td>No</td>\n",
       "      <td>One year</td>\n",
       "      <td>No</td>\n",
       "      <td>Mailed check</td>\n",
       "      <td>56.95</td>\n",
       "      <td>1889.50</td>\n",
       "      <td>Male</td>\n",
       "      <td>0</td>\n",
       "      <td>...</td>\n",
       "      <td>Yes</td>\n",
       "      <td>No</td>\n",
       "      <td>Yes</td>\n",
       "      <td>No</td>\n",
       "      <td>No</td>\n",
       "      <td>No</td>\n",
       "      <td>No</td>\n",
       "      <td>2020-02-01</td>\n",
       "      <td>34</td>\n",
       "      <td>0</td>\n",
       "    </tr>\n",
       "    <tr>\n",
       "      <td>2</td>\n",
       "      <td>3668-QPYBK</td>\n",
       "      <td>2019-10-01</td>\n",
       "      <td>2019-12-01 00:00:00</td>\n",
       "      <td>Month-to-month</td>\n",
       "      <td>Yes</td>\n",
       "      <td>Mailed check</td>\n",
       "      <td>53.85</td>\n",
       "      <td>108.15</td>\n",
       "      <td>Male</td>\n",
       "      <td>0</td>\n",
       "      <td>...</td>\n",
       "      <td>Yes</td>\n",
       "      <td>Yes</td>\n",
       "      <td>No</td>\n",
       "      <td>No</td>\n",
       "      <td>No</td>\n",
       "      <td>No</td>\n",
       "      <td>No</td>\n",
       "      <td>2019-12-01</td>\n",
       "      <td>2</td>\n",
       "      <td>1</td>\n",
       "    </tr>\n",
       "    <tr>\n",
       "      <td>3</td>\n",
       "      <td>7795-CFOCW</td>\n",
       "      <td>2016-05-01</td>\n",
       "      <td>No</td>\n",
       "      <td>One year</td>\n",
       "      <td>No</td>\n",
       "      <td>Bank transfer (automatic)</td>\n",
       "      <td>42.30</td>\n",
       "      <td>1840.75</td>\n",
       "      <td>Male</td>\n",
       "      <td>0</td>\n",
       "      <td>...</td>\n",
       "      <td>Yes</td>\n",
       "      <td>No</td>\n",
       "      <td>Yes</td>\n",
       "      <td>Yes</td>\n",
       "      <td>No</td>\n",
       "      <td>No</td>\n",
       "      <td>No service</td>\n",
       "      <td>2020-02-01</td>\n",
       "      <td>45</td>\n",
       "      <td>0</td>\n",
       "    </tr>\n",
       "    <tr>\n",
       "      <td>4</td>\n",
       "      <td>9237-HQITU</td>\n",
       "      <td>2019-09-01</td>\n",
       "      <td>2019-11-01 00:00:00</td>\n",
       "      <td>Month-to-month</td>\n",
       "      <td>Yes</td>\n",
       "      <td>Electronic check</td>\n",
       "      <td>70.70</td>\n",
       "      <td>151.65</td>\n",
       "      <td>Female</td>\n",
       "      <td>0</td>\n",
       "      <td>...</td>\n",
       "      <td>No</td>\n",
       "      <td>No</td>\n",
       "      <td>No</td>\n",
       "      <td>No</td>\n",
       "      <td>No</td>\n",
       "      <td>No</td>\n",
       "      <td>No</td>\n",
       "      <td>2019-11-01</td>\n",
       "      <td>2</td>\n",
       "      <td>1</td>\n",
       "    </tr>\n",
       "  </tbody>\n",
       "</table>\n",
       "<p>5 rows × 23 columns</p>\n",
       "</div>"
      ],
      "text/plain": [
       "   customerID  BeginDate              EndDate            Type  \\\n",
       "0  7590-VHVEG 2020-01-01                   No  Month-to-month   \n",
       "1  5575-GNVDE 2017-04-01                   No        One year   \n",
       "2  3668-QPYBK 2019-10-01  2019-12-01 00:00:00  Month-to-month   \n",
       "3  7795-CFOCW 2016-05-01                   No        One year   \n",
       "4  9237-HQITU 2019-09-01  2019-11-01 00:00:00  Month-to-month   \n",
       "\n",
       "  PaperlessBilling              PaymentMethod  MonthlyCharges  TotalCharges  \\\n",
       "0              Yes           Electronic check           29.85         29.85   \n",
       "1               No               Mailed check           56.95       1889.50   \n",
       "2              Yes               Mailed check           53.85        108.15   \n",
       "3               No  Bank transfer (automatic)           42.30       1840.75   \n",
       "4              Yes           Electronic check           70.70        151.65   \n",
       "\n",
       "   gender  SeniorCitizen  ... OnlineSecurity OnlineBackup DeviceProtection  \\\n",
       "0  Female              0  ...             No          Yes               No   \n",
       "1    Male              0  ...            Yes           No              Yes   \n",
       "2    Male              0  ...            Yes          Yes               No   \n",
       "3    Male              0  ...            Yes           No              Yes   \n",
       "4  Female              0  ...             No           No               No   \n",
       "\n",
       "  TechSupport StreamingTV StreamingMovies MultipleLines   End_Date Tenure  \\\n",
       "0          No          No              No    No service 2020-02-01      1   \n",
       "1          No          No              No            No 2020-02-01     34   \n",
       "2          No          No              No            No 2019-12-01      2   \n",
       "3         Yes          No              No    No service 2020-02-01     45   \n",
       "4          No          No              No            No 2019-11-01      2   \n",
       "\n",
       "  Churn  \n",
       "0     0  \n",
       "1     0  \n",
       "2     1  \n",
       "3     0  \n",
       "4     1  \n",
       "\n",
       "[5 rows x 23 columns]"
      ]
     },
     "execution_count": 27,
     "metadata": {},
     "output_type": "execute_result"
    }
   ],
   "source": [
    "data_merged.head()"
   ]
  },
  {
   "cell_type": "code",
   "execution_count": 28,
   "metadata": {
    "collapsed": true
   },
   "outputs": [],
   "source": [
    "df = data_merged.copy()"
   ]
  },
  {
   "cell_type": "markdown",
   "metadata": {},
   "source": [
    "Let's look at our dataset."
   ]
  },
  {
   "cell_type": "code",
   "execution_count": 29,
   "metadata": {
    "collapsed": true
   },
   "outputs": [
    {
     "data": {
      "text/plain": [
       "Index(['customerID', 'BeginDate', 'EndDate', 'Type', 'PaperlessBilling',\n",
       "       'PaymentMethod', 'MonthlyCharges', 'TotalCharges', 'gender',\n",
       "       'SeniorCitizen', 'Partner', 'Dependents', 'InternetService',\n",
       "       'OnlineSecurity', 'OnlineBackup', 'DeviceProtection', 'TechSupport',\n",
       "       'StreamingTV', 'StreamingMovies', 'MultipleLines', 'End_Date', 'Tenure',\n",
       "       'Churn'],\n",
       "      dtype='object')"
      ]
     },
     "execution_count": 29,
     "metadata": {},
     "output_type": "execute_result"
    }
   ],
   "source": [
    "data_merged.columns"
   ]
  },
  {
   "cell_type": "markdown",
   "metadata": {},
   "source": [
    "Let's plot bar charts."
   ]
  },
  {
   "cell_type": "code",
   "execution_count": 30,
   "metadata": {
    "collapsed": true
   },
   "outputs": [],
   "source": [
    "col = ['Churn', 'Type', 'PaperlessBilling', 'gender', 'SeniorCitizen',\n",
    "       'Partner', 'Dependents', 'InternetService','OnlineSecurity', 'OnlineBackup',\n",
    "       'DeviceProtection', 'TechSupport', 'StreamingTV', 'StreamingMovies', 'MultipleLines', 'PaymentMethod']"
   ]
  },
  {
   "cell_type": "code",
   "execution_count": 31,
   "metadata": {
    "collapsed": true
   },
   "outputs": [
    {
     "data": {
      "image/png": "[encoded data removed]",
      "text/plain": [
       "<Figure size 1440x1440 with 16 Axes>"
      ]
     },
     "metadata": {
      "needs_background": "light"
     },
     "output_type": "display_data"
    }
   ],
   "source": [
    "fig , ax = plt.subplots(4,4,figsize=(20,20))\n",
    "\n",
    "for axis,column in zip(ax.flat,col):\n",
    "    sns.countplot(x=data_merged[column],ax=axis)   "
   ]
  },
  {
   "cell_type": "markdown",
   "metadata": {},
   "source": [
    "Here are some conclusions from the graphs:"
   ]
  },
  {
   "cell_type": "code",
   "execution_count": 32,
   "metadata": {
    "collapsed": true
   },
   "outputs": [
    {
     "data": {
      "text/plain": [
       "0    0.734215\n",
       "1    0.265785\n",
       "Name: Churn, dtype: float64"
      ]
     },
     "execution_count": 32,
     "metadata": {},
     "output_type": "execute_result"
    }
   ],
   "source": [
    "class_frequency = data_merged['Churn'].value_counts(normalize=True)\n",
    "class_frequency"
   ]
  },
  {
   "cell_type": "markdown",
   "metadata": {},
   "source": [
    "We can see from graphs and above that we have imbalanced dataset: class '0' : 73% and class '1' : 27%. "
   ]
  },
  {
   "cell_type": "markdown",
   "metadata": {},
   "source": [
    "* Most clients have month-to-month contract\n",
    "* Equal number of men and women\n",
    "* More clients have a paperless billing\n",
    "* 6 times less senior citizens\n",
    "* Equal distribution of individuals with partners and without\n",
    "* About twice more individuals without dependents\n",
    "* Most clients have internet through a fiber optic cable\n",
    "* Most clients have electronic check"
   ]
  },
  {
   "cell_type": "markdown",
   "metadata": {},
   "source": [
    "Now, let's look at the distribution of Tenure, Monthly and Total Charges."
   ]
  },
  {
   "cell_type": "code",
   "execution_count": 33,
   "metadata": {
    "collapsed": true
   },
   "outputs": [],
   "source": [
    "col1=['Tenure', 'MonthlyCharges', 'TotalCharges']"
   ]
  },
  {
   "cell_type": "code",
   "execution_count": 34,
   "metadata": {
    "collapsed": true
   },
   "outputs": [
    {
     "data": {
      "image/png": "[encoded data removed]",
      "text/plain": [
       "<Figure size 1080x360 with 3 Axes>"
      ]
     },
     "metadata": {
      "needs_background": "light"
     },
     "output_type": "display_data"
    }
   ],
   "source": [
    "def draw_histograms(df, variables, n_rows, n_cols):\n",
    "    fig=plt.figure()\n",
    "    for i, var_name in enumerate(variables):\n",
    "        ax=fig.add_subplot(n_rows,n_cols,i+1)\n",
    "        df[var_name].hist(figsize=(15,5),ax=ax)\n",
    "        ax.set_title(var_name+\" Distribution\")\n",
    "    plt.show()\n",
    "\n",
    "\n",
    "draw_histograms(data_merged, col1, 1, 3)"
   ]
  },
  {
   "cell_type": "markdown",
   "metadata": {},
   "source": [
    "We have two peaks in Tenure Distribution (in month) that shows us that many clients stay with us for short period of time (less than a year) and many clients stay for a long period (more than 5 years).\n",
    "\n",
    "We can see also that many clients have small charges (people usually choose the cheapest offer)."
   ]
  },
  {
   "cell_type": "markdown",
   "metadata": {},
   "source": [
    "Now, let's look at the features together with Churn."
   ]
  },
  {
   "cell_type": "code",
   "execution_count": 35,
   "metadata": {
    "collapsed": true
   },
   "outputs": [
    {
     "data": {
      "image/png": "[encoded data removed]",
      "text/plain": [
       "<Figure size 1440x1440 with 16 Axes>"
      ]
     },
     "metadata": {
      "needs_background": "light"
     },
     "output_type": "display_data"
    }
   ],
   "source": [
    "fig , ax = plt.subplots(4,4,figsize=(20,20))\n",
    "\n",
    "for axis,column in zip(ax.flat,col):\n",
    "    sns.countplot(x=data_merged[column],hue = data_merged['Churn'], ax=axis)   "
   ]
  },
  {
   "cell_type": "markdown",
   "metadata": {},
   "source": [
    "Some conclusions from the graphs:\n",
    "\n",
    "* Those who have a month-to-month contract, fiber optic are more likely to churn \n",
    "* Those who don't have such services like Online Scerurity, Online Backup, Device Protection, Tech Support are more likely to leave the company "
   ]
  },
  {
   "cell_type": "markdown",
   "metadata": {},
   "source": [
    "Now let's look at Tenure, Monthly and Total Charges regarding Churn."
   ]
  },
  {
   "cell_type": "code",
   "execution_count": 36,
   "metadata": {
    "collapsed": true
   },
   "outputs": [
    {
     "data": {
      "image/png": "[encoded data removed]",
      "text/plain": [
       "<Figure size 432x288 with 1 Axes>"
      ]
     },
     "metadata": {
      "needs_background": "light"
     },
     "output_type": "display_data"
    }
   ],
   "source": [
    "sns.boxplot(x = data_merged['Churn'], y = data_merged['Tenure']);"
   ]
  },
  {
   "cell_type": "markdown",
   "metadata": {},
   "source": [
    "On average those who left the company stayed less than a year (10 months). \n",
    "The clients who do not churn, they tend to stay for a longer tenure (about 3 years)"
   ]
  },
  {
   "cell_type": "code",
   "execution_count": 37,
   "metadata": {
    "collapsed": true
   },
   "outputs": [
    {
     "data": {
      "image/png": "[encoded data removed]",
      "text/plain": [
       "<Figure size 432x288 with 1 Axes>"
      ]
     },
     "metadata": {
      "needs_background": "light"
     },
     "output_type": "display_data"
    }
   ],
   "source": [
    "sns.boxplot(x = data_merged['Churn'], y = data_merged['MonthlyCharges']);"
   ]
  },
  {
   "cell_type": "markdown",
   "metadata": {},
   "source": [
    "On average, clients who churn have higher monthly charges."
   ]
  },
  {
   "cell_type": "code",
   "execution_count": 38,
   "metadata": {
    "collapsed": true
   },
   "outputs": [
    {
     "data": {
      "image/png": "[encoded data removed]",
      "text/plain": [
       "<Figure size 432x288 with 1 Axes>"
      ]
     },
     "metadata": {
      "needs_background": "light"
     },
     "output_type": "display_data"
    }
   ],
   "source": [
    "sns.boxplot(x = data_merged['Churn'], y = data_merged['TotalCharges']);"
   ]
  },
  {
   "cell_type": "markdown",
   "metadata": {},
   "source": [
    "On average, total charges for those who churn are lower, because they stay for a short time."
   ]
  },
  {
   "cell_type": "markdown",
   "metadata": {},
   "source": [
    "#### Now let's prepare our data for ML models. \n",
    "\n",
    "Categorical features with two options (Yes, No) and three options (Yes, No + No service -- the same meaning) we\"ll convert them into binary values Yes - 1, No - 0 (also, No and No service -- 0)."
   ]
  },
  {
   "cell_type": "code",
   "execution_count": 39,
   "metadata": {
    "collapsed": true
   },
   "outputs": [
    {
     "data": {
      "text/plain": [
       "Index(['customerID', 'BeginDate', 'EndDate', 'Type', 'PaperlessBilling',\n",
       "       'PaymentMethod', 'MonthlyCharges', 'TotalCharges', 'gender',\n",
       "       'SeniorCitizen', 'Partner', 'Dependents', 'InternetService',\n",
       "       'OnlineSecurity', 'OnlineBackup', 'DeviceProtection', 'TechSupport',\n",
       "       'StreamingTV', 'StreamingMovies', 'MultipleLines', 'End_Date', 'Tenure',\n",
       "       'Churn'],\n",
       "      dtype='object')"
      ]
     },
     "execution_count": 39,
     "metadata": {},
     "output_type": "execute_result"
    }
   ],
   "source": [
    "data_merged.columns"
   ]
  },
  {
   "cell_type": "code",
   "execution_count": 40,
   "metadata": {
    "collapsed": true
   },
   "outputs": [],
   "source": [
    "col2 = ['PaperlessBilling','Partner', 'Dependents','OnlineSecurity', 'OnlineBackup', 'DeviceProtection', 'TechSupport',\n",
    "       'StreamingTV', 'StreamingMovies', 'MultipleLines'] \n",
    "\n",
    "for column in col2:\n",
    "    data_merged[column] = [1 if x == \"Yes\" else 1 for x in data_merged[column]]\n",
    "    \n",
    "# for column \"gender\"\n",
    "data_merged['gender'] = data_merged['gender'].replace({'Male':1, 'Female':0})\n"
   ]
  },
  {
   "cell_type": "markdown",
   "metadata": {},
   "source": [
    "For categorical features with more than two options (InternetService, Contract, PaymentMethod) we\"ll use pd.get_dummies() in order to convert them in numbers"
   ]
  },
  {
   "cell_type": "code",
   "execution_count": 41,
   "metadata": {
    "collapsed": true
   },
   "outputs": [],
   "source": [
    "data_merged = pd.get_dummies(data_merged, columns=['Type', 'InternetService', 'PaymentMethod'], drop_first = True)"
   ]
  },
  {
   "cell_type": "markdown",
   "metadata": {},
   "source": [
    "Numeric features (Tenure, MonthlyCharges, TotalCharges) we\"ll scale them using StandardScaler()."
   ]
  },
  {
   "cell_type": "code",
   "execution_count": 42,
   "metadata": {
    "collapsed": true
   },
   "outputs": [],
   "source": [
    "numeric = ['Tenure','MonthlyCharges', 'TotalCharges']\n",
    "\n",
    "scaler = StandardScaler()\n",
    "scaler.fit(data_merged[numeric])\n",
    "data_merged[numeric] = scaler.transform(data_merged[numeric])"
   ]
  },
  {
   "cell_type": "markdown",
   "metadata": {},
   "source": [
    "Let's drop useless columns such as: customerId, BeginDate, EndDate, End_date"
   ]
  },
  {
   "cell_type": "code",
   "execution_count": 43,
   "metadata": {
    "collapsed": true
   },
   "outputs": [],
   "source": [
    "data_merged = data_merged.drop(['customerID','BeginDate', 'EndDate', 'End_Date'], axis = 1)"
   ]
  },
  {
   "cell_type": "code",
   "execution_count": 44,
   "metadata": {
    "collapsed": true
   },
   "outputs": [
    {
     "data": {
      "text/html": [
       "<div>\n",
       "<style scoped>\n",
       "    .dataframe tbody tr th:only-of-type {\n",
       "        vertical-align: middle;\n",
       "    }\n",
       "\n",
       "    .dataframe tbody tr th {\n",
       "        vertical-align: top;\n",
       "    }\n",
       "\n",
       "    .dataframe thead th {\n",
       "        text-align: right;\n",
       "    }\n",
       "</style>\n",
       "<table border=\"1\" class=\"dataframe\">\n",
       "  <thead>\n",
       "    <tr style=\"text-align: right;\">\n",
       "      <th></th>\n",
       "      <th>PaperlessBilling</th>\n",
       "      <th>MonthlyCharges</th>\n",
       "      <th>TotalCharges</th>\n",
       "      <th>gender</th>\n",
       "      <th>SeniorCitizen</th>\n",
       "      <th>Partner</th>\n",
       "      <th>Dependents</th>\n",
       "      <th>OnlineSecurity</th>\n",
       "      <th>OnlineBackup</th>\n",
       "      <th>DeviceProtection</th>\n",
       "      <th>...</th>\n",
       "      <th>MultipleLines</th>\n",
       "      <th>Tenure</th>\n",
       "      <th>Churn</th>\n",
       "      <th>Type_One year</th>\n",
       "      <th>Type_Two year</th>\n",
       "      <th>InternetService_Fiber optic</th>\n",
       "      <th>InternetService_No service</th>\n",
       "      <th>PaymentMethod_Credit card (automatic)</th>\n",
       "      <th>PaymentMethod_Electronic check</th>\n",
       "      <th>PaymentMethod_Mailed check</th>\n",
       "    </tr>\n",
       "  </thead>\n",
       "  <tbody>\n",
       "    <tr>\n",
       "      <td>0</td>\n",
       "      <td>1</td>\n",
       "      <td>-1.161694</td>\n",
       "      <td>-0.994194</td>\n",
       "      <td>0</td>\n",
       "      <td>0</td>\n",
       "      <td>1</td>\n",
       "      <td>1</td>\n",
       "      <td>1</td>\n",
       "      <td>1</td>\n",
       "      <td>1</td>\n",
       "      <td>...</td>\n",
       "      <td>1</td>\n",
       "      <td>-1.273431</td>\n",
       "      <td>0</td>\n",
       "      <td>0</td>\n",
       "      <td>0</td>\n",
       "      <td>0</td>\n",
       "      <td>0</td>\n",
       "      <td>0</td>\n",
       "      <td>1</td>\n",
       "      <td>0</td>\n",
       "    </tr>\n",
       "    <tr>\n",
       "      <td>1</td>\n",
       "      <td>1</td>\n",
       "      <td>-0.260878</td>\n",
       "      <td>-0.173740</td>\n",
       "      <td>1</td>\n",
       "      <td>0</td>\n",
       "      <td>1</td>\n",
       "      <td>1</td>\n",
       "      <td>1</td>\n",
       "      <td>1</td>\n",
       "      <td>1</td>\n",
       "      <td>...</td>\n",
       "      <td>1</td>\n",
       "      <td>0.072727</td>\n",
       "      <td>0</td>\n",
       "      <td>1</td>\n",
       "      <td>0</td>\n",
       "      <td>0</td>\n",
       "      <td>0</td>\n",
       "      <td>0</td>\n",
       "      <td>0</td>\n",
       "      <td>1</td>\n",
       "    </tr>\n",
       "    <tr>\n",
       "      <td>2</td>\n",
       "      <td>1</td>\n",
       "      <td>-0.363923</td>\n",
       "      <td>-0.959649</td>\n",
       "      <td>1</td>\n",
       "      <td>0</td>\n",
       "      <td>1</td>\n",
       "      <td>1</td>\n",
       "      <td>1</td>\n",
       "      <td>1</td>\n",
       "      <td>1</td>\n",
       "      <td>...</td>\n",
       "      <td>1</td>\n",
       "      <td>-1.232638</td>\n",
       "      <td>1</td>\n",
       "      <td>0</td>\n",
       "      <td>0</td>\n",
       "      <td>0</td>\n",
       "      <td>0</td>\n",
       "      <td>0</td>\n",
       "      <td>0</td>\n",
       "      <td>1</td>\n",
       "    </tr>\n",
       "    <tr>\n",
       "      <td>3</td>\n",
       "      <td>1</td>\n",
       "      <td>-0.747850</td>\n",
       "      <td>-0.195248</td>\n",
       "      <td>1</td>\n",
       "      <td>0</td>\n",
       "      <td>1</td>\n",
       "      <td>1</td>\n",
       "      <td>1</td>\n",
       "      <td>1</td>\n",
       "      <td>1</td>\n",
       "      <td>...</td>\n",
       "      <td>1</td>\n",
       "      <td>0.521446</td>\n",
       "      <td>0</td>\n",
       "      <td>1</td>\n",
       "      <td>0</td>\n",
       "      <td>0</td>\n",
       "      <td>0</td>\n",
       "      <td>0</td>\n",
       "      <td>0</td>\n",
       "      <td>0</td>\n",
       "    </tr>\n",
       "    <tr>\n",
       "      <td>4</td>\n",
       "      <td>1</td>\n",
       "      <td>0.196178</td>\n",
       "      <td>-0.940457</td>\n",
       "      <td>0</td>\n",
       "      <td>0</td>\n",
       "      <td>1</td>\n",
       "      <td>1</td>\n",
       "      <td>1</td>\n",
       "      <td>1</td>\n",
       "      <td>1</td>\n",
       "      <td>...</td>\n",
       "      <td>1</td>\n",
       "      <td>-1.232638</td>\n",
       "      <td>1</td>\n",
       "      <td>0</td>\n",
       "      <td>0</td>\n",
       "      <td>1</td>\n",
       "      <td>0</td>\n",
       "      <td>0</td>\n",
       "      <td>1</td>\n",
       "      <td>0</td>\n",
       "    </tr>\n",
       "  </tbody>\n",
       "</table>\n",
       "<p>5 rows × 23 columns</p>\n",
       "</div>"
      ],
      "text/plain": [
       "   PaperlessBilling  MonthlyCharges  TotalCharges  gender  SeniorCitizen  \\\n",
       "0                 1       -1.161694     -0.994194       0              0   \n",
       "1                 1       -0.260878     -0.173740       1              0   \n",
       "2                 1       -0.363923     -0.959649       1              0   \n",
       "3                 1       -0.747850     -0.195248       1              0   \n",
       "4                 1        0.196178     -0.940457       0              0   \n",
       "\n",
       "   Partner  Dependents  OnlineSecurity  OnlineBackup  DeviceProtection  ...  \\\n",
       "0        1           1               1             1                 1  ...   \n",
       "1        1           1               1             1                 1  ...   \n",
       "2        1           1               1             1                 1  ...   \n",
       "3        1           1               1             1                 1  ...   \n",
       "4        1           1               1             1                 1  ...   \n",
       "\n",
       "   MultipleLines    Tenure  Churn  Type_One year  Type_Two year  \\\n",
       "0              1 -1.273431      0              0              0   \n",
       "1              1  0.072727      0              1              0   \n",
       "2              1 -1.232638      1              0              0   \n",
       "3              1  0.521446      0              1              0   \n",
       "4              1 -1.232638      1              0              0   \n",
       "\n",
       "   InternetService_Fiber optic  InternetService_No service  \\\n",
       "0                            0                           0   \n",
       "1                            0                           0   \n",
       "2                            0                           0   \n",
       "3                            0                           0   \n",
       "4                            1                           0   \n",
       "\n",
       "   PaymentMethod_Credit card (automatic)  PaymentMethod_Electronic check  \\\n",
       "0                                      0                               1   \n",
       "1                                      0                               0   \n",
       "2                                      0                               0   \n",
       "3                                      0                               0   \n",
       "4                                      0                               1   \n",
       "\n",
       "   PaymentMethod_Mailed check  \n",
       "0                           0  \n",
       "1                           1  \n",
       "2                           1  \n",
       "3                           0  \n",
       "4                           0  \n",
       "\n",
       "[5 rows x 23 columns]"
      ]
     },
     "execution_count": 44,
     "metadata": {},
     "output_type": "execute_result"
    }
   ],
   "source": [
    "data_merged.head()"
   ]
  },
  {
   "cell_type": "markdown",
   "metadata": {},
   "source": [
    "Splitting the data into training (80%) and testing sets (20%)"
   ]
  },
  {
   "cell_type": "code",
   "execution_count": 45,
   "metadata": {
    "collapsed": true
   },
   "outputs": [],
   "source": [
    "X = data_merged.drop('Churn', axis=1)\n",
    "Y = data_merged['Churn']"
   ]
  },
  {
   "cell_type": "code",
   "execution_count": 46,
   "metadata": {
    "collapsed": true
   },
   "outputs": [],
   "source": [
    "x_train,x_test,y_train,y_test=train_test_split(X,Y,test_size=0.2,random_state=42)"
   ]
  },
  {
   "cell_type": "markdown",
   "metadata": {},
   "source": [
    "#### ML models.\n",
    "\n",
    "Since our target variable is binary, we are dealing with binary classification task. Let's try different models and compare them in terms of ROC_AUC."
   ]
  },
  {
   "cell_type": "markdown",
   "metadata": {},
   "source": [
    "* Logistic Regression"
   ]
  },
  {
   "cell_type": "code",
   "execution_count": 47,
   "metadata": {
    "collapsed": true
   },
   "outputs": [
    {
     "name": "stdout",
     "output_type": "stream",
     "text": [
      "AUC-ROC Logistic Regression: 0.829899415543741\n"
     ]
    }
   ],
   "source": [
    "model_LR = LogisticRegression(random_state=12345, solver='liblinear')\n",
    "model_LR.fit(x_train, y_train)\n",
    "\n",
    "y_LR_prob = model_LR.predict_proba(x_test)[:,1]\n",
    "y_LR_pred = model_LR.predict(x_test)\n",
    "\n",
    "LR_score = roc_auc_score(y_test,y_LR_prob)\n",
    "print('AUC-ROC Logistic Regression: {}'.format(LR_score))"
   ]
  },
  {
   "cell_type": "markdown",
   "metadata": {},
   "source": [
    "Let's look at confusion matrix and some metrics."
   ]
  },
  {
   "cell_type": "code",
   "execution_count": 48,
   "metadata": {
    "collapsed": true
   },
   "outputs": [],
   "source": [
    "def conf_matrix(y_test, pred):\n",
    "    cm = confusion_matrix(y_test, pred)\n",
    "    fig = plt.plot(figsize=(8,5))\n",
    "    sns.heatmap(cm,annot=True,cmap='Purples',fmt='g')\n",
    "    plt.xlabel('Predicted')\n",
    "    plt.ylabel('Actual')\n",
    "    return plt.show()"
   ]
  },
  {
   "cell_type": "code",
   "execution_count": 49,
   "metadata": {
    "collapsed": true
   },
   "outputs": [],
   "source": [
    "def get_metrics(model, X_train, y_train, X_test, y_test):\n",
    "    train_preds, train_probs = model.predict(X_train), model.predict_proba(X_train)[:, 1]\n",
    "    test_preds, test_probs = model.predict(X_test), model.predict_proba(X_test)[:, 1]\n",
    "    \n",
    "    train_scores = [accuracy_score(y_train, train_preds), roc_auc_score(y_train, train_probs),\n",
    "                    precision_score(y_train, train_preds), recall_score(y_train, train_preds),\n",
    "                    f1_score(y_train, train_preds)]\n",
    "    \n",
    "    test_scores = [accuracy_score(y_test, test_preds), roc_auc_score(y_test, test_probs),\n",
    "                    precision_score(y_test, test_preds), recall_score(y_test, test_preds),\n",
    "                    f1_score(y_test, test_preds)]\n",
    "    \n",
    "    \n",
    "    scores = pd.DataFrame({\n",
    "        'train': train_scores,\n",
    "        'test': test_scores\n",
    "    }, index=['accuracy', 'roc_auc', 'precision', 'recall', 'f1_score'])\n",
    "    \n",
    "    return scores\n"
   ]
  },
  {
   "cell_type": "code",
   "execution_count": 50,
   "metadata": {
    "collapsed": true
   },
   "outputs": [
    {
     "data": {
      "text/html": [
       "<div>\n",
       "<style scoped>\n",
       "    .dataframe tbody tr th:only-of-type {\n",
       "        vertical-align: middle;\n",
       "    }\n",
       "\n",
       "    .dataframe tbody tr th {\n",
       "        vertical-align: top;\n",
       "    }\n",
       "\n",
       "    .dataframe thead th {\n",
       "        text-align: right;\n",
       "    }\n",
       "</style>\n",
       "<table border=\"1\" class=\"dataframe\">\n",
       "  <thead>\n",
       "    <tr style=\"text-align: right;\">\n",
       "      <th></th>\n",
       "      <th>train</th>\n",
       "      <th>test</th>\n",
       "    </tr>\n",
       "  </thead>\n",
       "  <tbody>\n",
       "    <tr>\n",
       "      <td>accuracy</td>\n",
       "      <td>0.804267</td>\n",
       "      <td>0.790334</td>\n",
       "    </tr>\n",
       "    <tr>\n",
       "      <td>roc_auc</td>\n",
       "      <td>0.845991</td>\n",
       "      <td>0.829899</td>\n",
       "    </tr>\n",
       "    <tr>\n",
       "      <td>precision</td>\n",
       "      <td>0.657097</td>\n",
       "      <td>0.629508</td>\n",
       "    </tr>\n",
       "    <tr>\n",
       "      <td>recall</td>\n",
       "      <td>0.551171</td>\n",
       "      <td>0.513369</td>\n",
       "    </tr>\n",
       "    <tr>\n",
       "      <td>f1_score</td>\n",
       "      <td>0.599491</td>\n",
       "      <td>0.565538</td>\n",
       "    </tr>\n",
       "  </tbody>\n",
       "</table>\n",
       "</div>"
      ],
      "text/plain": [
       "              train      test\n",
       "accuracy   0.804267  0.790334\n",
       "roc_auc    0.845991  0.829899\n",
       "precision  0.657097  0.629508\n",
       "recall     0.551171  0.513369\n",
       "f1_score   0.599491  0.565538"
      ]
     },
     "execution_count": 50,
     "metadata": {},
     "output_type": "execute_result"
    }
   ],
   "source": [
    "LR_metrics = get_metrics(model_LR, x_train, y_train, x_test, y_test)\n",
    "LR_metrics"
   ]
  },
  {
   "cell_type": "code",
   "execution_count": 51,
   "metadata": {
    "collapsed": true
   },
   "outputs": [
    {
     "data": {
      "image/png": "[encoded data removed]",
      "text/plain": [
       "<Figure size 432x288 with 2 Axes>"
      ]
     },
     "metadata": {
      "needs_background": "light"
     },
     "output_type": "display_data"
    }
   ],
   "source": [
    "conf_matrix(y_test, y_LR_pred)"
   ]
  },
  {
   "cell_type": "markdown",
   "metadata": {},
   "source": [
    "* #### Random Forest Classifier"
   ]
  },
  {
   "cell_type": "markdown",
   "metadata": {},
   "source": [
    "Let's tune hyperparameters for Random Forest using RandomizedSearch."
   ]
  },
  {
   "cell_type": "code",
   "execution_count": 52,
   "metadata": {
    "collapsed": true
   },
   "outputs": [
    {
     "name": "stdout",
     "output_type": "stream",
     "text": [
      "Fitting 3 folds for each of 9 candidates, totalling 27 fits\n",
      "[CV] n_estimators=40, max_depth=6 ....................................\n",
      "[CV] ..................... n_estimators=40, max_depth=6, total=   0.2s\n",
      "[CV] n_estimators=40, max_depth=6 ....................................\n"
     ]
    },
    {
     "name": "stderr",
     "output_type": "stream",
     "text": [
      "[Parallel(n_jobs=-1)]: Using backend SequentialBackend with 1 concurrent workers.\n",
      "[Parallel(n_jobs=-1)]: Done   1 out of   1 | elapsed:    0.2s remaining:    0.0s\n"
     ]
    },
    {
     "name": "stdout",
     "output_type": "stream",
     "text": [
      "[CV] ..................... n_estimators=40, max_depth=6, total=   0.2s\n",
      "[CV] n_estimators=40, max_depth=6 ....................................\n",
      "[CV] ..................... n_estimators=40, max_depth=6, total=   0.1s\n",
      "[CV] n_estimators=100, max_depth=6 ...................................\n",
      "[CV] .................... n_estimators=100, max_depth=6, total=   0.4s\n",
      "[CV] n_estimators=100, max_depth=6 ...................................\n",
      "[CV] .................... n_estimators=100, max_depth=6, total=   0.3s\n",
      "[CV] n_estimators=100, max_depth=6 ...................................\n",
      "[CV] .................... n_estimators=100, max_depth=6, total=   0.4s\n",
      "[CV] n_estimators=500, max_depth=6 ...................................\n",
      "[CV] .................... n_estimators=500, max_depth=6, total=   1.9s\n",
      "[CV] n_estimators=500, max_depth=6 ...................................\n",
      "[CV] .................... n_estimators=500, max_depth=6, total=   1.7s\n",
      "[CV] n_estimators=500, max_depth=6 ...................................\n",
      "[CV] .................... n_estimators=500, max_depth=6, total=   1.9s\n",
      "[CV] n_estimators=40, max_depth=7 ....................................\n",
      "[CV] ..................... n_estimators=40, max_depth=7, total=   0.2s\n",
      "[CV] n_estimators=40, max_depth=7 ....................................\n",
      "[CV] ..................... n_estimators=40, max_depth=7, total=   0.2s\n",
      "[CV] n_estimators=40, max_depth=7 ....................................\n",
      "[CV] ..................... n_estimators=40, max_depth=7, total=   0.2s\n",
      "[CV] n_estimators=100, max_depth=7 ...................................\n",
      "[CV] .................... n_estimators=100, max_depth=7, total=   0.4s\n",
      "[CV] n_estimators=100, max_depth=7 ...................................\n",
      "[CV] .................... n_estimators=100, max_depth=7, total=   0.4s\n",
      "[CV] n_estimators=100, max_depth=7 ...................................\n",
      "[CV] .................... n_estimators=100, max_depth=7, total=   0.4s\n",
      "[CV] n_estimators=500, max_depth=7 ...................................\n",
      "[CV] .................... n_estimators=500, max_depth=7, total=   2.0s\n",
      "[CV] n_estimators=500, max_depth=7 ...................................\n",
      "[CV] .................... n_estimators=500, max_depth=7, total=   1.8s\n",
      "[CV] n_estimators=500, max_depth=7 ...................................\n",
      "[CV] .................... n_estimators=500, max_depth=7, total=   1.8s\n",
      "[CV] n_estimators=40, max_depth=10 ...................................\n",
      "[CV] .................... n_estimators=40, max_depth=10, total=   0.2s\n",
      "[CV] n_estimators=40, max_depth=10 ...................................\n",
      "[CV] .................... n_estimators=40, max_depth=10, total=   0.2s\n",
      "[CV] n_estimators=40, max_depth=10 ...................................\n",
      "[CV] .................... n_estimators=40, max_depth=10, total=   0.2s\n",
      "[CV] n_estimators=100, max_depth=10 ..................................\n",
      "[CV] ................... n_estimators=100, max_depth=10, total=   0.4s\n",
      "[CV] n_estimators=100, max_depth=10 ..................................\n",
      "[CV] ................... n_estimators=100, max_depth=10, total=   0.4s\n",
      "[CV] n_estimators=100, max_depth=10 ..................................\n",
      "[CV] ................... n_estimators=100, max_depth=10, total=   0.4s\n",
      "[CV] n_estimators=500, max_depth=10 ..................................\n",
      "[CV] ................... n_estimators=500, max_depth=10, total=   2.1s\n",
      "[CV] n_estimators=500, max_depth=10 ..................................\n",
      "[CV] ................... n_estimators=500, max_depth=10, total=   2.2s\n",
      "[CV] n_estimators=500, max_depth=10 ..................................\n",
      "[CV] ................... n_estimators=500, max_depth=10, total=   2.2s\n"
     ]
    },
    {
     "name": "stderr",
     "output_type": "stream",
     "text": [
      "[Parallel(n_jobs=-1)]: Done  27 out of  27 | elapsed:   22.5s finished\n"
     ]
    },
    {
     "name": "stdout",
     "output_type": "stream",
     "text": [
      "\n",
      " The best score:  0.8552518199063016\n",
      "\n",
      " The best parameters:  {'n_estimators': 500, 'max_depth': 7}\n",
      "\n",
      " ROC-AUC Random Forest:  0.837422542721216\n"
     ]
    }
   ],
   "source": [
    "model_RF = RandomForestClassifier()\n",
    "\n",
    "parameters = {'max_depth'     : [6, 7, 10],\n",
    "              'n_estimators'  : [40, 100, 500]}\n",
    "    \n",
    "randm = RandomizedSearchCV(estimator=model_RF, param_distributions = parameters, \n",
    "                           scoring='roc_auc', cv = 3, n_iter = 10, \n",
    "                           n_jobs=-1, verbose = 2, random_state=12345)\n",
    "\n",
    "randm_results = randm.fit(x_train, y_train)\n",
    "\n",
    "\n",
    "print(\"\\n The best score: \", randm_results.best_score_)\n",
    "\n",
    "print(\"\\n The best parameters: \", randm_results.best_params_)\n",
    "\n",
    "# Predict after fitting RandomizedSearchCV with best parameters\n",
    "y_RF_prob = randm.predict_proba(x_test)[:,1]\n",
    "y_RF_pred = randm.predict(x_test)\n",
    " \n",
    "RF_score = roc_auc_score(y_test,y_RF_prob)\n",
    "\n",
    "print(\"\\n ROC-AUC Random Forest: \", RF_score)\n"
   ]
  },
  {
   "cell_type": "markdown",
   "metadata": {},
   "source": [
    "We got better score with Random Forest than with Logistic Regression."
   ]
  },
  {
   "cell_type": "code",
   "execution_count": 53,
   "metadata": {
    "collapsed": true
   },
   "outputs": [
    {
     "data": {
      "text/html": [
       "<div>\n",
       "<style scoped>\n",
       "    .dataframe tbody tr th:only-of-type {\n",
       "        vertical-align: middle;\n",
       "    }\n",
       "\n",
       "    .dataframe tbody tr th {\n",
       "        vertical-align: top;\n",
       "    }\n",
       "\n",
       "    .dataframe thead th {\n",
       "        text-align: right;\n",
       "    }\n",
       "</style>\n",
       "<table border=\"1\" class=\"dataframe\">\n",
       "  <thead>\n",
       "    <tr style=\"text-align: right;\">\n",
       "      <th></th>\n",
       "      <th>train</th>\n",
       "      <th>test</th>\n",
       "    </tr>\n",
       "  </thead>\n",
       "  <tbody>\n",
       "    <tr>\n",
       "      <td>accuracy</td>\n",
       "      <td>0.827556</td>\n",
       "      <td>0.800284</td>\n",
       "    </tr>\n",
       "    <tr>\n",
       "      <td>roc_auc</td>\n",
       "      <td>0.889205</td>\n",
       "      <td>0.837423</td>\n",
       "    </tr>\n",
       "    <tr>\n",
       "      <td>precision</td>\n",
       "      <td>0.736274</td>\n",
       "      <td>0.679537</td>\n",
       "    </tr>\n",
       "    <tr>\n",
       "      <td>recall</td>\n",
       "      <td>0.547157</td>\n",
       "      <td>0.470588</td>\n",
       "    </tr>\n",
       "    <tr>\n",
       "      <td>f1_score</td>\n",
       "      <td>0.627782</td>\n",
       "      <td>0.556082</td>\n",
       "    </tr>\n",
       "  </tbody>\n",
       "</table>\n",
       "</div>"
      ],
      "text/plain": [
       "              train      test\n",
       "accuracy   0.827556  0.800284\n",
       "roc_auc    0.889205  0.837423\n",
       "precision  0.736274  0.679537\n",
       "recall     0.547157  0.470588\n",
       "f1_score   0.627782  0.556082"
      ]
     },
     "execution_count": 53,
     "metadata": {},
     "output_type": "execute_result"
    }
   ],
   "source": [
    "RF_metrics = get_metrics(randm, x_train, y_train, x_test, y_test)\n",
    "RF_metrics"
   ]
  },
  {
   "cell_type": "code",
   "execution_count": 54,
   "metadata": {
    "collapsed": true
   },
   "outputs": [
    {
     "data": {
      "image/png": "[encoded data removed]",
      "text/plain": [
       "<Figure size 432x288 with 2 Axes>"
      ]
     },
     "metadata": {
      "needs_background": "light"
     },
     "output_type": "display_data"
    }
   ],
   "source": [
    "conf_matrix(y_test, y_RF_pred)"
   ]
  },
  {
   "cell_type": "markdown",
   "metadata": {},
   "source": [
    "* #### XGBoost"
   ]
  },
  {
   "cell_type": "code",
   "execution_count": 55,
   "metadata": {
    "collapsed": true
   },
   "outputs": [
    {
     "name": "stdout",
     "output_type": "stream",
     "text": [
      "Fitting 5 folds for each of 8 candidates, totalling 40 fits\n",
      "[CV] n_estimators=60, learning_rate=0.03, depth=6 ....................\n"
     ]
    },
    {
     "name": "stderr",
     "output_type": "stream",
     "text": [
      "[Parallel(n_jobs=-1)]: Using backend SequentialBackend with 1 concurrent workers.\n"
     ]
    },
    {
     "name": "stdout",
     "output_type": "stream",
     "text": [
      "[CV] ..... n_estimators=60, learning_rate=0.03, depth=6, total=   0.3s\n",
      "[CV] n_estimators=60, learning_rate=0.03, depth=6 ....................\n"
     ]
    },
    {
     "name": "stderr",
     "output_type": "stream",
     "text": [
      "[Parallel(n_jobs=-1)]: Done   1 out of   1 | elapsed:    0.3s remaining:    0.0s\n"
     ]
    },
    {
     "name": "stdout",
     "output_type": "stream",
     "text": [
      "[CV] ..... n_estimators=60, learning_rate=0.03, depth=6, total=   0.3s\n",
      "[CV] n_estimators=60, learning_rate=0.03, depth=6 ....................\n",
      "[CV] ..... n_estimators=60, learning_rate=0.03, depth=6, total=   0.3s\n",
      "[CV] n_estimators=60, learning_rate=0.03, depth=6 ....................\n",
      "[CV] ..... n_estimators=60, learning_rate=0.03, depth=6, total=   0.3s\n",
      "[CV] n_estimators=60, learning_rate=0.03, depth=6 ....................\n",
      "[CV] ..... n_estimators=60, learning_rate=0.03, depth=6, total=   0.3s\n",
      "[CV] n_estimators=100, learning_rate=0.03, depth=6 ...................\n",
      "[CV] .... n_estimators=100, learning_rate=0.03, depth=6, total=   0.5s\n",
      "[CV] n_estimators=100, learning_rate=0.03, depth=6 ...................\n",
      "[CV] .... n_estimators=100, learning_rate=0.03, depth=6, total=   0.5s\n",
      "[CV] n_estimators=100, learning_rate=0.03, depth=6 ...................\n",
      "[CV] .... n_estimators=100, learning_rate=0.03, depth=6, total=   0.4s\n",
      "[CV] n_estimators=100, learning_rate=0.03, depth=6 ...................\n",
      "[CV] .... n_estimators=100, learning_rate=0.03, depth=6, total=   0.4s\n",
      "[CV] n_estimators=100, learning_rate=0.03, depth=6 ...................\n",
      "[CV] .... n_estimators=100, learning_rate=0.03, depth=6, total=   0.4s\n",
      "[CV] n_estimators=60, learning_rate=0.1, depth=6 .....................\n",
      "[CV] ...... n_estimators=60, learning_rate=0.1, depth=6, total=   0.3s\n",
      "[CV] n_estimators=60, learning_rate=0.1, depth=6 .....................\n",
      "[CV] ...... n_estimators=60, learning_rate=0.1, depth=6, total=   0.3s\n",
      "[CV] n_estimators=60, learning_rate=0.1, depth=6 .....................\n",
      "[CV] ...... n_estimators=60, learning_rate=0.1, depth=6, total=   0.3s\n",
      "[CV] n_estimators=60, learning_rate=0.1, depth=6 .....................\n",
      "[CV] ...... n_estimators=60, learning_rate=0.1, depth=6, total=   0.3s\n",
      "[CV] n_estimators=60, learning_rate=0.1, depth=6 .....................\n",
      "[CV] ...... n_estimators=60, learning_rate=0.1, depth=6, total=   0.3s\n",
      "[CV] n_estimators=100, learning_rate=0.1, depth=6 ....................\n",
      "[CV] ..... n_estimators=100, learning_rate=0.1, depth=6, total=   0.4s\n",
      "[CV] n_estimators=100, learning_rate=0.1, depth=6 ....................\n",
      "[CV] ..... n_estimators=100, learning_rate=0.1, depth=6, total=   0.4s\n",
      "[CV] n_estimators=100, learning_rate=0.1, depth=6 ....................\n",
      "[CV] ..... n_estimators=100, learning_rate=0.1, depth=6, total=   0.4s\n",
      "[CV] n_estimators=100, learning_rate=0.1, depth=6 ....................\n",
      "[CV] ..... n_estimators=100, learning_rate=0.1, depth=6, total=   0.5s\n",
      "[CV] n_estimators=100, learning_rate=0.1, depth=6 ....................\n",
      "[CV] ..... n_estimators=100, learning_rate=0.1, depth=6, total=   0.4s\n",
      "[CV] n_estimators=60, learning_rate=0.03, depth=10 ...................\n",
      "[CV] .... n_estimators=60, learning_rate=0.03, depth=10, total=   0.3s\n",
      "[CV] n_estimators=60, learning_rate=0.03, depth=10 ...................\n",
      "[CV] .... n_estimators=60, learning_rate=0.03, depth=10, total=   0.3s\n",
      "[CV] n_estimators=60, learning_rate=0.03, depth=10 ...................\n",
      "[CV] .... n_estimators=60, learning_rate=0.03, depth=10, total=   0.3s\n",
      "[CV] n_estimators=60, learning_rate=0.03, depth=10 ...................\n",
      "[CV] .... n_estimators=60, learning_rate=0.03, depth=10, total=   0.3s\n",
      "[CV] n_estimators=60, learning_rate=0.03, depth=10 ...................\n",
      "[CV] .... n_estimators=60, learning_rate=0.03, depth=10, total=   0.3s\n",
      "[CV] n_estimators=100, learning_rate=0.03, depth=10 ..................\n",
      "[CV] ... n_estimators=100, learning_rate=0.03, depth=10, total=   0.5s\n",
      "[CV] n_estimators=100, learning_rate=0.03, depth=10 ..................\n",
      "[CV] ... n_estimators=100, learning_rate=0.03, depth=10, total=   0.4s\n",
      "[CV] n_estimators=100, learning_rate=0.03, depth=10 ..................\n",
      "[CV] ... n_estimators=100, learning_rate=0.03, depth=10, total=   0.5s\n",
      "[CV] n_estimators=100, learning_rate=0.03, depth=10 ..................\n",
      "[CV] ... n_estimators=100, learning_rate=0.03, depth=10, total=   0.4s\n",
      "[CV] n_estimators=100, learning_rate=0.03, depth=10 ..................\n",
      "[CV] ... n_estimators=100, learning_rate=0.03, depth=10, total=   0.5s\n",
      "[CV] n_estimators=60, learning_rate=0.1, depth=10 ....................\n",
      "[CV] ..... n_estimators=60, learning_rate=0.1, depth=10, total=   0.3s\n",
      "[CV] n_estimators=60, learning_rate=0.1, depth=10 ....................\n",
      "[CV] ..... n_estimators=60, learning_rate=0.1, depth=10, total=   0.3s\n",
      "[CV] n_estimators=60, learning_rate=0.1, depth=10 ....................\n",
      "[CV] ..... n_estimators=60, learning_rate=0.1, depth=10, total=   0.3s\n",
      "[CV] n_estimators=60, learning_rate=0.1, depth=10 ....................\n",
      "[CV] ..... n_estimators=60, learning_rate=0.1, depth=10, total=   0.3s\n",
      "[CV] n_estimators=60, learning_rate=0.1, depth=10 ....................\n",
      "[CV] ..... n_estimators=60, learning_rate=0.1, depth=10, total=   0.3s\n",
      "[CV] n_estimators=100, learning_rate=0.1, depth=10 ...................\n",
      "[CV] .... n_estimators=100, learning_rate=0.1, depth=10, total=   0.4s\n",
      "[CV] n_estimators=100, learning_rate=0.1, depth=10 ...................\n",
      "[CV] .... n_estimators=100, learning_rate=0.1, depth=10, total=   0.5s\n",
      "[CV] n_estimators=100, learning_rate=0.1, depth=10 ...................\n",
      "[CV] .... n_estimators=100, learning_rate=0.1, depth=10, total=   0.5s\n",
      "[CV] n_estimators=100, learning_rate=0.1, depth=10 ...................\n",
      "[CV] .... n_estimators=100, learning_rate=0.1, depth=10, total=   0.6s\n",
      "[CV] n_estimators=100, learning_rate=0.1, depth=10 ...................\n",
      "[CV] .... n_estimators=100, learning_rate=0.1, depth=10, total=   0.5s\n"
     ]
    },
    {
     "name": "stderr",
     "output_type": "stream",
     "text": [
      "[Parallel(n_jobs=-1)]: Done  40 out of  40 | elapsed:   14.8s finished\n"
     ]
    },
    {
     "name": "stdout",
     "output_type": "stream",
     "text": [
      "\n",
      " The best parameters:  {'n_estimators': 100, 'learning_rate': 0.1, 'depth': 6}\n",
      "\n",
      " ROC-AUC LGBM:  0.8421359831444678\n"
     ]
    }
   ],
   "source": [
    "model_XGB = XGBClassifier() \n",
    "\n",
    "XGB_params = {'depth'        : [6,10],\n",
    "              'learning_rate' : [0.03, 0.1],\n",
    "              'n_estimators'  : [60,100] }\n",
    "\n",
    "random_search = RandomizedSearchCV(model_XGB, XGB_params, n_iter=10, n_jobs=-1, cv=5, \n",
    "                                   scoring= 'roc_auc', verbose = 2, random_state=12345)\n",
    "\n",
    "random_search.fit(x_train, y_train)\n",
    "\n",
    "print(\"\\n The best parameters: \", random_search.best_params_)\n",
    "\n",
    "# Predict after fitting RandomizedSearchCV with best parameters\n",
    "y_XGB_prob = random_search.predict_proba(x_test)[:,1]\n",
    "y_XGB_pred = random_search.predict(x_test)\n",
    " \n",
    "XGB_score = roc_auc_score(y_test,y_XGB_prob)\n",
    "\n",
    "print(\"\\n ROC-AUC LGBM: \", XGB_score)\n"
   ]
  },
  {
   "cell_type": "code",
   "execution_count": 56,
   "metadata": {
    "collapsed": true
   },
   "outputs": [
    {
     "data": {
      "text/html": [
       "<div>\n",
       "<style scoped>\n",
       "    .dataframe tbody tr th:only-of-type {\n",
       "        vertical-align: middle;\n",
       "    }\n",
       "\n",
       "    .dataframe tbody tr th {\n",
       "        vertical-align: top;\n",
       "    }\n",
       "\n",
       "    .dataframe thead th {\n",
       "        text-align: right;\n",
       "    }\n",
       "</style>\n",
       "<table border=\"1\" class=\"dataframe\">\n",
       "  <thead>\n",
       "    <tr style=\"text-align: right;\">\n",
       "      <th></th>\n",
       "      <th>train</th>\n",
       "      <th>test</th>\n",
       "    </tr>\n",
       "  </thead>\n",
       "  <tbody>\n",
       "    <tr>\n",
       "      <td>accuracy</td>\n",
       "      <td>0.828444</td>\n",
       "      <td>0.798152</td>\n",
       "    </tr>\n",
       "    <tr>\n",
       "      <td>roc_auc</td>\n",
       "      <td>0.878908</td>\n",
       "      <td>0.842136</td>\n",
       "    </tr>\n",
       "    <tr>\n",
       "      <td>precision</td>\n",
       "      <td>0.734929</td>\n",
       "      <td>0.669173</td>\n",
       "    </tr>\n",
       "    <tr>\n",
       "      <td>recall</td>\n",
       "      <td>0.554515</td>\n",
       "      <td>0.475936</td>\n",
       "    </tr>\n",
       "    <tr>\n",
       "      <td>f1_score</td>\n",
       "      <td>0.632101</td>\n",
       "      <td>0.556250</td>\n",
       "    </tr>\n",
       "  </tbody>\n",
       "</table>\n",
       "</div>"
      ],
      "text/plain": [
       "              train      test\n",
       "accuracy   0.828444  0.798152\n",
       "roc_auc    0.878908  0.842136\n",
       "precision  0.734929  0.669173\n",
       "recall     0.554515  0.475936\n",
       "f1_score   0.632101  0.556250"
      ]
     },
     "execution_count": 56,
     "metadata": {},
     "output_type": "execute_result"
    }
   ],
   "source": [
    "XGB_metrics = get_metrics(random_search, x_train, y_train, x_test, y_test)\n",
    "XGB_metrics"
   ]
  },
  {
   "cell_type": "code",
   "execution_count": 57,
   "metadata": {
    "collapsed": true
   },
   "outputs": [
    {
     "data": {
      "image/png": "[encoded data removed]",
      "text/plain": [
       "<Figure size 432x288 with 2 Axes>"
      ]
     },
     "metadata": {
      "needs_background": "light"
     },
     "output_type": "display_data"
    }
   ],
   "source": [
    "conf_matrix(y_test, y_XGB_pred)"
   ]
  },
  {
   "cell_type": "markdown",
   "metadata": {},
   "source": [
    "* #### CatBoost"
   ]
  },
  {
   "cell_type": "markdown",
   "metadata": {},
   "source": [
    "For LightGBM and CatBoost we'll convert all 'object' data types to 'categorical' data types"
   ]
  },
  {
   "cell_type": "code",
   "execution_count": 58,
   "metadata": {
    "collapsed": true
   },
   "outputs": [],
   "source": [
    "# drop usless columns\n",
    "df = df.drop(['customerID','BeginDate', 'EndDate', 'End_Date'], axis = 1)"
   ]
  },
  {
   "cell_type": "code",
   "execution_count": 59,
   "metadata": {
    "collapsed": true
   },
   "outputs": [
    {
     "data": {
      "text/html": [
       "<div>\n",
       "<style scoped>\n",
       "    .dataframe tbody tr th:only-of-type {\n",
       "        vertical-align: middle;\n",
       "    }\n",
       "\n",
       "    .dataframe tbody tr th {\n",
       "        vertical-align: top;\n",
       "    }\n",
       "\n",
       "    .dataframe thead th {\n",
       "        text-align: right;\n",
       "    }\n",
       "</style>\n",
       "<table border=\"1\" class=\"dataframe\">\n",
       "  <thead>\n",
       "    <tr style=\"text-align: right;\">\n",
       "      <th></th>\n",
       "      <th>Type</th>\n",
       "      <th>PaperlessBilling</th>\n",
       "      <th>PaymentMethod</th>\n",
       "      <th>MonthlyCharges</th>\n",
       "      <th>TotalCharges</th>\n",
       "      <th>gender</th>\n",
       "      <th>SeniorCitizen</th>\n",
       "      <th>Partner</th>\n",
       "      <th>Dependents</th>\n",
       "      <th>InternetService</th>\n",
       "      <th>OnlineSecurity</th>\n",
       "      <th>OnlineBackup</th>\n",
       "      <th>DeviceProtection</th>\n",
       "      <th>TechSupport</th>\n",
       "      <th>StreamingTV</th>\n",
       "      <th>StreamingMovies</th>\n",
       "      <th>MultipleLines</th>\n",
       "      <th>Tenure</th>\n",
       "      <th>Churn</th>\n",
       "    </tr>\n",
       "  </thead>\n",
       "  <tbody>\n",
       "    <tr>\n",
       "      <td>0</td>\n",
       "      <td>Month-to-month</td>\n",
       "      <td>Yes</td>\n",
       "      <td>Electronic check</td>\n",
       "      <td>29.85</td>\n",
       "      <td>29.85</td>\n",
       "      <td>Female</td>\n",
       "      <td>0</td>\n",
       "      <td>Yes</td>\n",
       "      <td>No</td>\n",
       "      <td>DSL</td>\n",
       "      <td>No</td>\n",
       "      <td>Yes</td>\n",
       "      <td>No</td>\n",
       "      <td>No</td>\n",
       "      <td>No</td>\n",
       "      <td>No</td>\n",
       "      <td>No service</td>\n",
       "      <td>1</td>\n",
       "      <td>0</td>\n",
       "    </tr>\n",
       "    <tr>\n",
       "      <td>1</td>\n",
       "      <td>One year</td>\n",
       "      <td>No</td>\n",
       "      <td>Mailed check</td>\n",
       "      <td>56.95</td>\n",
       "      <td>1889.50</td>\n",
       "      <td>Male</td>\n",
       "      <td>0</td>\n",
       "      <td>No</td>\n",
       "      <td>No</td>\n",
       "      <td>DSL</td>\n",
       "      <td>Yes</td>\n",
       "      <td>No</td>\n",
       "      <td>Yes</td>\n",
       "      <td>No</td>\n",
       "      <td>No</td>\n",
       "      <td>No</td>\n",
       "      <td>No</td>\n",
       "      <td>34</td>\n",
       "      <td>0</td>\n",
       "    </tr>\n",
       "    <tr>\n",
       "      <td>2</td>\n",
       "      <td>Month-to-month</td>\n",
       "      <td>Yes</td>\n",
       "      <td>Mailed check</td>\n",
       "      <td>53.85</td>\n",
       "      <td>108.15</td>\n",
       "      <td>Male</td>\n",
       "      <td>0</td>\n",
       "      <td>No</td>\n",
       "      <td>No</td>\n",
       "      <td>DSL</td>\n",
       "      <td>Yes</td>\n",
       "      <td>Yes</td>\n",
       "      <td>No</td>\n",
       "      <td>No</td>\n",
       "      <td>No</td>\n",
       "      <td>No</td>\n",
       "      <td>No</td>\n",
       "      <td>2</td>\n",
       "      <td>1</td>\n",
       "    </tr>\n",
       "    <tr>\n",
       "      <td>3</td>\n",
       "      <td>One year</td>\n",
       "      <td>No</td>\n",
       "      <td>Bank transfer (automatic)</td>\n",
       "      <td>42.30</td>\n",
       "      <td>1840.75</td>\n",
       "      <td>Male</td>\n",
       "      <td>0</td>\n",
       "      <td>No</td>\n",
       "      <td>No</td>\n",
       "      <td>DSL</td>\n",
       "      <td>Yes</td>\n",
       "      <td>No</td>\n",
       "      <td>Yes</td>\n",
       "      <td>Yes</td>\n",
       "      <td>No</td>\n",
       "      <td>No</td>\n",
       "      <td>No service</td>\n",
       "      <td>45</td>\n",
       "      <td>0</td>\n",
       "    </tr>\n",
       "    <tr>\n",
       "      <td>4</td>\n",
       "      <td>Month-to-month</td>\n",
       "      <td>Yes</td>\n",
       "      <td>Electronic check</td>\n",
       "      <td>70.70</td>\n",
       "      <td>151.65</td>\n",
       "      <td>Female</td>\n",
       "      <td>0</td>\n",
       "      <td>No</td>\n",
       "      <td>No</td>\n",
       "      <td>Fiber optic</td>\n",
       "      <td>No</td>\n",
       "      <td>No</td>\n",
       "      <td>No</td>\n",
       "      <td>No</td>\n",
       "      <td>No</td>\n",
       "      <td>No</td>\n",
       "      <td>No</td>\n",
       "      <td>2</td>\n",
       "      <td>1</td>\n",
       "    </tr>\n",
       "  </tbody>\n",
       "</table>\n",
       "</div>"
      ],
      "text/plain": [
       "             Type PaperlessBilling              PaymentMethod  MonthlyCharges  \\\n",
       "0  Month-to-month              Yes           Electronic check           29.85   \n",
       "1        One year               No               Mailed check           56.95   \n",
       "2  Month-to-month              Yes               Mailed check           53.85   \n",
       "3        One year               No  Bank transfer (automatic)           42.30   \n",
       "4  Month-to-month              Yes           Electronic check           70.70   \n",
       "\n",
       "   TotalCharges  gender  SeniorCitizen Partner Dependents InternetService  \\\n",
       "0         29.85  Female              0     Yes         No             DSL   \n",
       "1       1889.50    Male              0      No         No             DSL   \n",
       "2        108.15    Male              0      No         No             DSL   \n",
       "3       1840.75    Male              0      No         No             DSL   \n",
       "4        151.65  Female              0      No         No     Fiber optic   \n",
       "\n",
       "  OnlineSecurity OnlineBackup DeviceProtection TechSupport StreamingTV  \\\n",
       "0             No          Yes               No          No          No   \n",
       "1            Yes           No              Yes          No          No   \n",
       "2            Yes          Yes               No          No          No   \n",
       "3            Yes           No              Yes         Yes          No   \n",
       "4             No           No               No          No          No   \n",
       "\n",
       "  StreamingMovies MultipleLines  Tenure  Churn  \n",
       "0              No    No service       1      0  \n",
       "1              No            No      34      0  \n",
       "2              No            No       2      1  \n",
       "3              No    No service      45      0  \n",
       "4              No            No       2      1  "
      ]
     },
     "execution_count": 59,
     "metadata": {},
     "output_type": "execute_result"
    }
   ],
   "source": [
    "df.head()"
   ]
  },
  {
   "cell_type": "code",
   "execution_count": 60,
   "metadata": {
    "collapsed": true
   },
   "outputs": [
    {
     "name": "stdout",
     "output_type": "stream",
     "text": [
      "<class 'pandas.core.frame.DataFrame'>\n",
      "Int64Index: 7032 entries, 0 to 7042\n",
      "Data columns (total 19 columns):\n",
      "Type                7032 non-null object\n",
      "PaperlessBilling    7032 non-null object\n",
      "PaymentMethod       7032 non-null object\n",
      "MonthlyCharges      7032 non-null float64\n",
      "TotalCharges        7032 non-null float64\n",
      "gender              7032 non-null object\n",
      "SeniorCitizen       7032 non-null int64\n",
      "Partner             7032 non-null object\n",
      "Dependents          7032 non-null object\n",
      "InternetService     7032 non-null object\n",
      "OnlineSecurity      7032 non-null object\n",
      "OnlineBackup        7032 non-null object\n",
      "DeviceProtection    7032 non-null object\n",
      "TechSupport         7032 non-null object\n",
      "StreamingTV         7032 non-null object\n",
      "StreamingMovies     7032 non-null object\n",
      "MultipleLines       7032 non-null object\n",
      "Tenure              7032 non-null int64\n",
      "Churn               7032 non-null int64\n",
      "dtypes: float64(2), int64(3), object(14)\n",
      "memory usage: 1.1+ MB\n"
     ]
    }
   ],
   "source": [
    "df.info()"
   ]
  },
  {
   "cell_type": "code",
   "execution_count": 61,
   "metadata": {
    "collapsed": true
   },
   "outputs": [
    {
     "data": {
      "text/plain": [
       "Index(['Type', 'PaperlessBilling', 'PaymentMethod', 'MonthlyCharges',\n",
       "       'TotalCharges', 'gender', 'SeniorCitizen', 'Partner', 'Dependents',\n",
       "       'InternetService', 'OnlineSecurity', 'OnlineBackup', 'DeviceProtection',\n",
       "       'TechSupport', 'StreamingTV', 'StreamingMovies', 'MultipleLines',\n",
       "       'Tenure', 'Churn'],\n",
       "      dtype='object')"
      ]
     },
     "execution_count": 61,
     "metadata": {},
     "output_type": "execute_result"
    }
   ],
   "source": [
    "df.columns"
   ]
  },
  {
   "cell_type": "code",
   "execution_count": 62,
   "metadata": {
    "collapsed": true
   },
   "outputs": [],
   "source": [
    "target = df['Churn']\n",
    "features = df.drop('Churn', axis=1)\n",
    "\n",
    "X_train, X_test, Y_train, Y_test = train_test_split(features, target, test_size=0.2, random_state=12345)"
   ]
  },
  {
   "cell_type": "code",
   "execution_count": 63,
   "metadata": {
    "collapsed": true
   },
   "outputs": [],
   "source": [
    "cat_features = ['Type', 'PaperlessBilling', 'PaymentMethod', 'gender', 'Partner', 'Dependents',\n",
    "       'InternetService', 'OnlineSecurity', 'OnlineBackup', 'DeviceProtection',\n",
    "       'TechSupport', 'StreamingTV', 'StreamingMovies', 'MultipleLines']\n",
    "\n",
    "for header in cat_features:\n",
    "    X_train[header] = X_train[header].astype('category')\n",
    "    X_test[header] = X_test[header].astype('category')"
   ]
  },
  {
   "cell_type": "code",
   "execution_count": 64,
   "metadata": {
    "collapsed": true
   },
   "outputs": [
    {
     "name": "stdout",
     "output_type": "stream",
     "text": [
      "Fitting 2 folds for each of 8 candidates, totalling 16 fits\n",
      "[CV] n_estimators=60, learning_rate=0.03, depth=6 ....................\n"
     ]
    },
    {
     "name": "stderr",
     "output_type": "stream",
     "text": [
      "[Parallel(n_jobs=-1)]: Using backend SequentialBackend with 1 concurrent workers.\n"
     ]
    },
    {
     "name": "stdout",
     "output_type": "stream",
     "text": [
      "0:\tlearn: 0.6821233\ttotal: 53.6ms\tremaining: 3.16s\n",
      "1:\tlearn: 0.6717353\ttotal: 56.8ms\tremaining: 1.65s\n",
      "2:\tlearn: 0.6611790\ttotal: 59.4ms\tremaining: 1.13s\n",
      "3:\tlearn: 0.6512911\ttotal: 62ms\tremaining: 868ms\n",
      "4:\tlearn: 0.6424450\ttotal: 149ms\tremaining: 1.63s\n",
      "5:\tlearn: 0.6335426\ttotal: 151ms\tremaining: 1.36s\n",
      "6:\tlearn: 0.6245745\ttotal: 155ms\tremaining: 1.17s\n",
      "7:\tlearn: 0.6168034\ttotal: 158ms\tremaining: 1.02s\n",
      "8:\tlearn: 0.6090908\ttotal: 248ms\tremaining: 1.4s\n",
      "9:\tlearn: 0.6018233\ttotal: 251ms\tremaining: 1.25s\n",
      "10:\tlearn: 0.5948140\ttotal: 254ms\tremaining: 1.13s\n",
      "11:\tlearn: 0.5876154\ttotal: 265ms\tremaining: 1.06s\n",
      "12:\tlearn: 0.5812148\ttotal: 350ms\tremaining: 1.26s\n",
      "13:\tlearn: 0.5752156\ttotal: 354ms\tremaining: 1.16s\n",
      "14:\tlearn: 0.5689250\ttotal: 444ms\tremaining: 1.33s\n",
      "15:\tlearn: 0.5633937\ttotal: 447ms\tremaining: 1.23s\n",
      "16:\tlearn: 0.5579536\ttotal: 450ms\tremaining: 1.14s\n",
      "17:\tlearn: 0.5526497\ttotal: 459ms\tremaining: 1.07s\n",
      "18:\tlearn: 0.5472080\ttotal: 543ms\tremaining: 1.17s\n",
      "19:\tlearn: 0.5419942\ttotal: 546ms\tremaining: 1.09s\n",
      "20:\tlearn: 0.5376355\ttotal: 550ms\tremaining: 1.02s\n",
      "21:\tlearn: 0.5334479\ttotal: 641ms\tremaining: 1.11s\n",
      "22:\tlearn: 0.5292515\ttotal: 644ms\tremaining: 1.03s\n",
      "23:\tlearn: 0.5253014\ttotal: 646ms\tremaining: 969ms\n",
      "24:\tlearn: 0.5216884\ttotal: 650ms\tremaining: 911ms\n",
      "25:\tlearn: 0.5179053\ttotal: 739ms\tremaining: 967ms\n",
      "26:\tlearn: 0.5142755\ttotal: 742ms\tremaining: 907ms\n",
      "27:\tlearn: 0.5105001\ttotal: 745ms\tremaining: 851ms\n",
      "28:\tlearn: 0.5074329\ttotal: 747ms\tremaining: 799ms\n",
      "29:\tlearn: 0.5035457\ttotal: 837ms\tremaining: 837ms\n",
      "30:\tlearn: 0.4997430\ttotal: 840ms\tremaining: 786ms\n",
      "31:\tlearn: 0.4961920\ttotal: 843ms\tremaining: 737ms\n",
      "32:\tlearn: 0.4927046\ttotal: 845ms\tremaining: 692ms\n",
      "33:\tlearn: 0.4893986\ttotal: 935ms\tremaining: 715ms\n",
      "34:\tlearn: 0.4867208\ttotal: 937ms\tremaining: 669ms\n",
      "35:\tlearn: 0.4836969\ttotal: 940ms\tremaining: 626ms\n",
      "36:\tlearn: 0.4811456\ttotal: 942ms\tremaining: 586ms\n",
      "37:\tlearn: 0.4783933\ttotal: 950ms\tremaining: 550ms\n",
      "38:\tlearn: 0.4758075\ttotal: 1.03s\tremaining: 557ms\n",
      "39:\tlearn: 0.4732926\ttotal: 1.04s\tremaining: 518ms\n",
      "40:\tlearn: 0.4706603\ttotal: 1.04s\tremaining: 482ms\n",
      "41:\tlearn: 0.4681363\ttotal: 1.05s\tremaining: 451ms\n",
      "42:\tlearn: 0.4656113\ttotal: 1.13s\tremaining: 448ms\n",
      "43:\tlearn: 0.4634103\ttotal: 1.14s\tremaining: 414ms\n",
      "44:\tlearn: 0.4612423\ttotal: 1.14s\tremaining: 380ms\n",
      "45:\tlearn: 0.4590965\ttotal: 1.23s\tremaining: 374ms\n",
      "46:\tlearn: 0.4570509\ttotal: 1.23s\tremaining: 341ms\n",
      "47:\tlearn: 0.4549606\ttotal: 1.24s\tremaining: 309ms\n",
      "48:\tlearn: 0.4528893\ttotal: 1.24s\tremaining: 278ms\n",
      "49:\tlearn: 0.4511977\ttotal: 1.32s\tremaining: 265ms\n",
      "50:\tlearn: 0.4492479\ttotal: 1.33s\tremaining: 235ms\n",
      "51:\tlearn: 0.4472544\ttotal: 1.33s\tremaining: 205ms\n",
      "52:\tlearn: 0.4452340\ttotal: 1.33s\tremaining: 176ms\n",
      "53:\tlearn: 0.4433712\ttotal: 1.42s\tremaining: 158ms\n",
      "54:\tlearn: 0.4414622\ttotal: 1.43s\tremaining: 130ms\n",
      "55:\tlearn: 0.4398515\ttotal: 1.43s\tremaining: 102ms\n",
      "56:\tlearn: 0.4382823\ttotal: 1.43s\tremaining: 75.4ms\n",
      "57:\tlearn: 0.4368226\ttotal: 1.52s\tremaining: 52.4ms\n",
      "58:\tlearn: 0.4351740\ttotal: 1.52s\tremaining: 25.8ms\n",
      "59:\tlearn: 0.4337372\ttotal: 1.53s\tremaining: 0us\n",
      "[CV] ..... n_estimators=60, learning_rate=0.03, depth=6, total=   3.9s\n",
      "[CV] n_estimators=60, learning_rate=0.03, depth=6 ....................\n"
     ]
    },
    {
     "name": "stderr",
     "output_type": "stream",
     "text": [
      "[Parallel(n_jobs=-1)]: Done   1 out of   1 | elapsed:    3.9s remaining:    0.0s\n"
     ]
    },
    {
     "name": "stdout",
     "output_type": "stream",
     "text": [
      "0:\tlearn: 0.6827985\ttotal: 4.46ms\tremaining: 263ms\n",
      "1:\tlearn: 0.6730056\ttotal: 10.7ms\tremaining: 310ms\n",
      "2:\tlearn: 0.6630411\ttotal: 54.9ms\tremaining: 1.04s\n",
      "3:\tlearn: 0.6532719\ttotal: 60.3ms\tremaining: 844ms\n",
      "4:\tlearn: 0.6438068\ttotal: 63.7ms\tremaining: 701ms\n",
      "5:\tlearn: 0.6353309\ttotal: 154ms\tremaining: 1.38s\n",
      "6:\tlearn: 0.6271896\ttotal: 159ms\tremaining: 1.2s\n",
      "7:\tlearn: 0.6195272\ttotal: 164ms\tremaining: 1.07s\n",
      "8:\tlearn: 0.6119408\ttotal: 251ms\tremaining: 1.42s\n",
      "9:\tlearn: 0.6044772\ttotal: 256ms\tremaining: 1.28s\n",
      "10:\tlearn: 0.5977959\ttotal: 272ms\tremaining: 1.21s\n",
      "11:\tlearn: 0.5909397\ttotal: 352ms\tremaining: 1.41s\n",
      "12:\tlearn: 0.5841932\ttotal: 356ms\tremaining: 1.29s\n",
      "13:\tlearn: 0.5779763\ttotal: 362ms\tremaining: 1.19s\n",
      "14:\tlearn: 0.5721940\ttotal: 453ms\tremaining: 1.36s\n",
      "15:\tlearn: 0.5669078\ttotal: 458ms\tremaining: 1.26s\n",
      "16:\tlearn: 0.5614068\ttotal: 462ms\tremaining: 1.17s\n",
      "17:\tlearn: 0.5561013\ttotal: 551ms\tremaining: 1.29s\n",
      "18:\tlearn: 0.5512891\ttotal: 557ms\tremaining: 1.2s\n",
      "19:\tlearn: 0.5468755\ttotal: 561ms\tremaining: 1.12s\n",
      "20:\tlearn: 0.5420745\ttotal: 662ms\tremaining: 1.23s\n",
      "21:\tlearn: 0.5382119\ttotal: 666ms\tremaining: 1.15s\n",
      "22:\tlearn: 0.5340977\ttotal: 744ms\tremaining: 1.2s\n",
      "23:\tlearn: 0.5299863\ttotal: 750ms\tremaining: 1.12s\n",
      "24:\tlearn: 0.5260602\ttotal: 754ms\tremaining: 1.05s\n",
      "25:\tlearn: 0.5227853\ttotal: 868ms\tremaining: 1.13s\n",
      "26:\tlearn: 0.5193080\ttotal: 873ms\tremaining: 1.07s\n",
      "27:\tlearn: 0.5160095\ttotal: 941ms\tremaining: 1.07s\n",
      "28:\tlearn: 0.5127627\ttotal: 946ms\tremaining: 1.01s\n",
      "29:\tlearn: 0.5100561\ttotal: 951ms\tremaining: 951ms\n",
      "30:\tlearn: 0.5066537\ttotal: 956ms\tremaining: 895ms\n",
      "31:\tlearn: 0.5034323\ttotal: 1.04s\tremaining: 914ms\n",
      "32:\tlearn: 0.5000822\ttotal: 1.05s\tremaining: 858ms\n",
      "33:\tlearn: 0.4968733\ttotal: 1.05s\tremaining: 805ms\n",
      "34:\tlearn: 0.4938588\ttotal: 1.14s\tremaining: 816ms\n",
      "35:\tlearn: 0.4914188\ttotal: 1.14s\tremaining: 763ms\n",
      "36:\tlearn: 0.4888305\ttotal: 1.15s\tremaining: 714ms\n",
      "37:\tlearn: 0.4862470\ttotal: 1.24s\tremaining: 716ms\n",
      "38:\tlearn: 0.4838025\ttotal: 1.24s\tremaining: 669ms\n",
      "39:\tlearn: 0.4811071\ttotal: 1.25s\tremaining: 623ms\n",
      "40:\tlearn: 0.4785157\ttotal: 1.34s\tremaining: 619ms\n",
      "41:\tlearn: 0.4764754\ttotal: 1.34s\tremaining: 575ms\n",
      "42:\tlearn: 0.4746357\ttotal: 1.34s\tremaining: 532ms\n",
      "43:\tlearn: 0.4726731\ttotal: 1.43s\tremaining: 521ms\n",
      "44:\tlearn: 0.4710093\ttotal: 1.44s\tremaining: 479ms\n",
      "45:\tlearn: 0.4693474\ttotal: 1.44s\tremaining: 439ms\n",
      "46:\tlearn: 0.4671951\ttotal: 1.45s\tremaining: 400ms\n",
      "47:\tlearn: 0.4649711\ttotal: 1.53s\tremaining: 384ms\n",
      "48:\tlearn: 0.4628030\ttotal: 1.54s\tremaining: 345ms\n",
      "49:\tlearn: 0.4609598\ttotal: 1.54s\tremaining: 309ms\n",
      "50:\tlearn: 0.4594233\ttotal: 1.54s\tremaining: 273ms\n",
      "51:\tlearn: 0.4577641\ttotal: 1.63s\tremaining: 251ms\n",
      "52:\tlearn: 0.4561181\ttotal: 1.63s\tremaining: 216ms\n",
      "53:\tlearn: 0.4541725\ttotal: 1.63s\tremaining: 182ms\n",
      "54:\tlearn: 0.4524989\ttotal: 1.64s\tremaining: 149ms\n",
      "55:\tlearn: 0.4509899\ttotal: 1.75s\tremaining: 125ms\n",
      "56:\tlearn: 0.4493290\ttotal: 1.75s\tremaining: 92.2ms\n",
      "57:\tlearn: 0.4480759\ttotal: 1.83s\tremaining: 63ms\n",
      "58:\tlearn: 0.4467618\ttotal: 1.83s\tremaining: 31.1ms\n",
      "59:\tlearn: 0.4457761\ttotal: 1.83s\tremaining: 0us\n",
      "[CV] ..... n_estimators=60, learning_rate=0.03, depth=6, total=   3.1s\n",
      "[CV] n_estimators=100, learning_rate=0.03, depth=6 ...................\n",
      "0:\tlearn: 0.6821233\ttotal: 6.84ms\tremaining: 677ms\n",
      "1:\tlearn: 0.6717353\ttotal: 10.3ms\tremaining: 505ms\n",
      "2:\tlearn: 0.6611790\ttotal: 19ms\tremaining: 616ms\n",
      "3:\tlearn: 0.6512911\ttotal: 23.1ms\tremaining: 555ms\n",
      "4:\tlearn: 0.6424450\ttotal: 33.1ms\tremaining: 628ms\n",
      "5:\tlearn: 0.6335426\ttotal: 115ms\tremaining: 1.8s\n",
      "6:\tlearn: 0.6245745\ttotal: 120ms\tremaining: 1.59s\n",
      "7:\tlearn: 0.6168034\ttotal: 124ms\tremaining: 1.42s\n",
      "8:\tlearn: 0.6090908\ttotal: 212ms\tremaining: 2.15s\n",
      "9:\tlearn: 0.6018233\ttotal: 217ms\tremaining: 1.95s\n",
      "10:\tlearn: 0.5948140\ttotal: 222ms\tremaining: 1.8s\n",
      "11:\tlearn: 0.5876154\ttotal: 313ms\tremaining: 2.3s\n",
      "12:\tlearn: 0.5812148\ttotal: 321ms\tremaining: 2.15s\n",
      "13:\tlearn: 0.5752156\ttotal: 331ms\tremaining: 2.04s\n",
      "14:\tlearn: 0.5689250\ttotal: 410ms\tremaining: 2.32s\n",
      "15:\tlearn: 0.5633937\ttotal: 417ms\tremaining: 2.19s\n",
      "16:\tlearn: 0.5579536\ttotal: 505ms\tremaining: 2.46s\n",
      "17:\tlearn: 0.5526497\ttotal: 508ms\tremaining: 2.31s\n",
      "18:\tlearn: 0.5472080\ttotal: 510ms\tremaining: 2.18s\n",
      "19:\tlearn: 0.5419942\ttotal: 513ms\tremaining: 2.05s\n",
      "20:\tlearn: 0.5376355\ttotal: 603ms\tremaining: 2.27s\n",
      "21:\tlearn: 0.5334479\ttotal: 606ms\tremaining: 2.15s\n",
      "22:\tlearn: 0.5292515\ttotal: 609ms\tremaining: 2.04s\n",
      "23:\tlearn: 0.5253014\ttotal: 611ms\tremaining: 1.94s\n",
      "24:\tlearn: 0.5216884\ttotal: 702ms\tremaining: 2.11s\n",
      "25:\tlearn: 0.5179053\ttotal: 705ms\tremaining: 2.01s\n",
      "26:\tlearn: 0.5142755\ttotal: 708ms\tremaining: 1.91s\n",
      "27:\tlearn: 0.5105001\ttotal: 710ms\tremaining: 1.83s\n",
      "28:\tlearn: 0.5074329\ttotal: 800ms\tremaining: 1.96s\n",
      "29:\tlearn: 0.5035457\ttotal: 803ms\tremaining: 1.87s\n",
      "30:\tlearn: 0.4997430\ttotal: 805ms\tremaining: 1.79s\n",
      "31:\tlearn: 0.4961920\ttotal: 808ms\tremaining: 1.72s\n",
      "32:\tlearn: 0.4927046\ttotal: 898ms\tremaining: 1.82s\n",
      "33:\tlearn: 0.4893986\ttotal: 902ms\tremaining: 1.75s\n",
      "34:\tlearn: 0.4867208\ttotal: 904ms\tremaining: 1.68s\n",
      "35:\tlearn: 0.4836969\ttotal: 907ms\tremaining: 1.61s\n",
      "36:\tlearn: 0.4811456\ttotal: 996ms\tremaining: 1.7s\n",
      "37:\tlearn: 0.4783933\ttotal: 1s\tremaining: 1.63s\n",
      "38:\tlearn: 0.4758075\ttotal: 1s\tremaining: 1.57s\n",
      "39:\tlearn: 0.4732926\ttotal: 1.09s\tremaining: 1.64s\n",
      "40:\tlearn: 0.4706603\ttotal: 1.1s\tremaining: 1.58s\n",
      "41:\tlearn: 0.4681363\ttotal: 1.1s\tremaining: 1.52s\n",
      "42:\tlearn: 0.4656113\ttotal: 1.1s\tremaining: 1.46s\n",
      "43:\tlearn: 0.4634103\ttotal: 1.19s\tremaining: 1.52s\n",
      "44:\tlearn: 0.4612423\ttotal: 1.2s\tremaining: 1.46s\n",
      "45:\tlearn: 0.4590965\ttotal: 1.2s\tremaining: 1.41s\n",
      "46:\tlearn: 0.4570509\ttotal: 1.2s\tremaining: 1.36s\n",
      "47:\tlearn: 0.4549606\ttotal: 1.29s\tremaining: 1.4s\n",
      "48:\tlearn: 0.4528893\ttotal: 1.29s\tremaining: 1.35s\n",
      "49:\tlearn: 0.4511977\ttotal: 1.3s\tremaining: 1.3s\n",
      "50:\tlearn: 0.4492479\ttotal: 1.3s\tremaining: 1.25s\n",
      "51:\tlearn: 0.4472544\ttotal: 1.39s\tremaining: 1.28s\n",
      "52:\tlearn: 0.4452340\ttotal: 1.39s\tremaining: 1.24s\n",
      "53:\tlearn: 0.4433712\ttotal: 1.4s\tremaining: 1.19s\n",
      "54:\tlearn: 0.4414622\ttotal: 1.41s\tremaining: 1.15s\n",
      "55:\tlearn: 0.4398515\ttotal: 1.49s\tremaining: 1.17s\n",
      "56:\tlearn: 0.4382823\ttotal: 1.49s\tremaining: 1.12s\n",
      "57:\tlearn: 0.4368226\ttotal: 1.49s\tremaining: 1.08s\n",
      "58:\tlearn: 0.4351740\ttotal: 1.5s\tremaining: 1.04s\n",
      "59:\tlearn: 0.4337372\ttotal: 1.59s\tremaining: 1.06s\n",
      "60:\tlearn: 0.4322825\ttotal: 1.59s\tremaining: 1.02s\n",
      "61:\tlearn: 0.4309447\ttotal: 1.59s\tremaining: 976ms\n",
      "62:\tlearn: 0.4298009\ttotal: 1.59s\tremaining: 937ms\n",
      "63:\tlearn: 0.4284434\ttotal: 1.68s\tremaining: 947ms\n",
      "64:\tlearn: 0.4272459\ttotal: 1.69s\tremaining: 908ms\n",
      "65:\tlearn: 0.4259354\ttotal: 1.69s\tremaining: 870ms\n",
      "66:\tlearn: 0.4247148\ttotal: 1.69s\tremaining: 833ms\n",
      "67:\tlearn: 0.4236822\ttotal: 1.78s\tremaining: 839ms\n",
      "68:\tlearn: 0.4225164\ttotal: 1.78s\tremaining: 802ms\n",
      "69:\tlearn: 0.4216214\ttotal: 1.79s\tremaining: 766ms\n",
      "70:\tlearn: 0.4202865\ttotal: 1.79s\tremaining: 732ms\n",
      "71:\tlearn: 0.4194225\ttotal: 1.88s\tremaining: 731ms\n",
      "72:\tlearn: 0.4184410\ttotal: 1.88s\tremaining: 696ms\n",
      "73:\tlearn: 0.4180703\ttotal: 1.88s\tremaining: 662ms\n",
      "74:\tlearn: 0.4169606\ttotal: 1.89s\tremaining: 629ms\n",
      "75:\tlearn: 0.4159068\ttotal: 1.98s\tremaining: 624ms\n",
      "76:\tlearn: 0.4150584\ttotal: 1.98s\tremaining: 591ms\n",
      "77:\tlearn: 0.4144194\ttotal: 1.98s\tremaining: 559ms\n",
      "78:\tlearn: 0.4136382\ttotal: 1.98s\tremaining: 528ms\n",
      "79:\tlearn: 0.4127052\ttotal: 2.07s\tremaining: 519ms\n",
      "80:\tlearn: 0.4117712\ttotal: 2.08s\tremaining: 488ms\n",
      "81:\tlearn: 0.4110757\ttotal: 2.08s\tremaining: 457ms\n",
      "82:\tlearn: 0.4105485\ttotal: 2.08s\tremaining: 427ms\n",
      "83:\tlearn: 0.4096393\ttotal: 2.17s\tremaining: 414ms\n",
      "84:\tlearn: 0.4086878\ttotal: 2.17s\tremaining: 384ms\n",
      "85:\tlearn: 0.4079345\ttotal: 2.18s\tremaining: 355ms\n",
      "86:\tlearn: 0.4072902\ttotal: 2.18s\tremaining: 326ms\n",
      "87:\tlearn: 0.4066601\ttotal: 2.18s\tremaining: 298ms\n",
      "88:\tlearn: 0.4059238\ttotal: 2.27s\tremaining: 281ms\n",
      "89:\tlearn: 0.4053116\ttotal: 2.27s\tremaining: 253ms\n",
      "90:\tlearn: 0.4047026\ttotal: 2.28s\tremaining: 225ms\n",
      "91:\tlearn: 0.4043030\ttotal: 2.28s\tremaining: 199ms\n",
      "92:\tlearn: 0.4036832\ttotal: 2.37s\tremaining: 178ms\n",
      "93:\tlearn: 0.4033059\ttotal: 2.37s\tremaining: 151ms\n",
      "94:\tlearn: 0.4027155\ttotal: 2.37s\tremaining: 125ms\n",
      "95:\tlearn: 0.4024083\ttotal: 2.38s\tremaining: 99ms\n",
      "96:\tlearn: 0.4016508\ttotal: 2.47s\tremaining: 76.3ms\n",
      "97:\tlearn: 0.4011524\ttotal: 2.47s\tremaining: 50.4ms\n",
      "98:\tlearn: 0.4004968\ttotal: 2.47s\tremaining: 25ms\n",
      "99:\tlearn: 0.3998914\ttotal: 2.48s\tremaining: 0us\n"
     ]
    },
    {
     "name": "stdout",
     "output_type": "stream",
     "text": [
      "[CV] .... n_estimators=100, learning_rate=0.03, depth=6, total=   5.0s\n",
      "[CV] n_estimators=100, learning_rate=0.03, depth=6 ...................\n",
      "0:\tlearn: 0.6827985\ttotal: 3.3ms\tremaining: 326ms\n",
      "1:\tlearn: 0.6730056\ttotal: 6.4ms\tremaining: 313ms\n",
      "2:\tlearn: 0.6630411\ttotal: 9.31ms\tremaining: 301ms\n",
      "3:\tlearn: 0.6532719\ttotal: 68.4ms\tremaining: 1.64s\n",
      "4:\tlearn: 0.6438068\ttotal: 71.8ms\tremaining: 1.36s\n",
      "5:\tlearn: 0.6353309\ttotal: 74.7ms\tremaining: 1.17s\n",
      "6:\tlearn: 0.6271896\ttotal: 77.4ms\tremaining: 1.03s\n",
      "7:\tlearn: 0.6195272\ttotal: 166ms\tremaining: 1.91s\n",
      "8:\tlearn: 0.6119408\ttotal: 169ms\tremaining: 1.71s\n",
      "9:\tlearn: 0.6044772\ttotal: 172ms\tremaining: 1.55s\n",
      "10:\tlearn: 0.5977959\ttotal: 175ms\tremaining: 1.41s\n",
      "11:\tlearn: 0.5909397\ttotal: 266ms\tremaining: 1.95s\n",
      "12:\tlearn: 0.5841932\ttotal: 270ms\tremaining: 1.8s\n",
      "13:\tlearn: 0.5779763\ttotal: 272ms\tremaining: 1.67s\n",
      "14:\tlearn: 0.5721940\ttotal: 363ms\tremaining: 2.06s\n",
      "15:\tlearn: 0.5669078\ttotal: 366ms\tremaining: 1.92s\n",
      "16:\tlearn: 0.5614068\ttotal: 369ms\tremaining: 1.8s\n",
      "17:\tlearn: 0.5561013\ttotal: 371ms\tremaining: 1.69s\n",
      "18:\tlearn: 0.5512891\ttotal: 461ms\tremaining: 1.97s\n",
      "19:\tlearn: 0.5468755\ttotal: 467ms\tremaining: 1.87s\n",
      "20:\tlearn: 0.5420745\ttotal: 470ms\tremaining: 1.77s\n",
      "21:\tlearn: 0.5382119\ttotal: 558ms\tremaining: 1.98s\n",
      "22:\tlearn: 0.5340977\ttotal: 561ms\tremaining: 1.88s\n",
      "23:\tlearn: 0.5299863\ttotal: 564ms\tremaining: 1.79s\n",
      "24:\tlearn: 0.5260602\ttotal: 567ms\tremaining: 1.7s\n",
      "25:\tlearn: 0.5227853\ttotal: 657ms\tremaining: 1.87s\n",
      "26:\tlearn: 0.5193080\ttotal: 660ms\tremaining: 1.78s\n",
      "27:\tlearn: 0.5160095\ttotal: 662ms\tremaining: 1.7s\n",
      "28:\tlearn: 0.5127627\ttotal: 666ms\tremaining: 1.63s\n",
      "29:\tlearn: 0.5100561\ttotal: 755ms\tremaining: 1.76s\n",
      "30:\tlearn: 0.5066537\ttotal: 758ms\tremaining: 1.69s\n",
      "31:\tlearn: 0.5034323\ttotal: 761ms\tremaining: 1.62s\n",
      "32:\tlearn: 0.5000822\ttotal: 768ms\tremaining: 1.56s\n",
      "33:\tlearn: 0.4968733\ttotal: 853ms\tremaining: 1.66s\n",
      "34:\tlearn: 0.4938588\ttotal: 856ms\tremaining: 1.59s\n",
      "35:\tlearn: 0.4914188\ttotal: 857ms\tremaining: 1.52s\n",
      "36:\tlearn: 0.4888305\ttotal: 860ms\tremaining: 1.46s\n",
      "37:\tlearn: 0.4862470\ttotal: 951ms\tremaining: 1.55s\n",
      "38:\tlearn: 0.4838025\ttotal: 954ms\tremaining: 1.49s\n",
      "39:\tlearn: 0.4811071\ttotal: 957ms\tremaining: 1.44s\n",
      "40:\tlearn: 0.4785157\ttotal: 960ms\tremaining: 1.38s\n",
      "41:\tlearn: 0.4764754\ttotal: 1.05s\tremaining: 1.45s\n",
      "42:\tlearn: 0.4746357\ttotal: 1.05s\tremaining: 1.39s\n",
      "43:\tlearn: 0.4726731\ttotal: 1.05s\tremaining: 1.34s\n",
      "44:\tlearn: 0.4710093\ttotal: 1.06s\tremaining: 1.29s\n",
      "45:\tlearn: 0.4693474\ttotal: 1.15s\tremaining: 1.34s\n",
      "46:\tlearn: 0.4671951\ttotal: 1.15s\tremaining: 1.3s\n",
      "47:\tlearn: 0.4649711\ttotal: 1.15s\tremaining: 1.25s\n",
      "48:\tlearn: 0.4628030\ttotal: 1.16s\tremaining: 1.2s\n",
      "49:\tlearn: 0.4609598\ttotal: 1.24s\tremaining: 1.24s\n",
      "50:\tlearn: 0.4594233\ttotal: 1.25s\tremaining: 1.2s\n",
      "51:\tlearn: 0.4577641\ttotal: 1.25s\tremaining: 1.15s\n",
      "52:\tlearn: 0.4561181\ttotal: 1.25s\tremaining: 1.11s\n",
      "53:\tlearn: 0.4541725\ttotal: 1.25s\tremaining: 1.07s\n",
      "54:\tlearn: 0.4524989\ttotal: 1.26s\tremaining: 1.03s\n",
      "55:\tlearn: 0.4509899\ttotal: 1.34s\tremaining: 1.05s\n",
      "56:\tlearn: 0.4493290\ttotal: 1.35s\tremaining: 1.02s\n",
      "57:\tlearn: 0.4480759\ttotal: 1.35s\tremaining: 978ms\n",
      "58:\tlearn: 0.4467618\ttotal: 1.44s\tremaining: 1s\n",
      "59:\tlearn: 0.4457761\ttotal: 1.44s\tremaining: 962ms\n",
      "60:\tlearn: 0.4445238\ttotal: 1.45s\tremaining: 924ms\n",
      "61:\tlearn: 0.4432726\ttotal: 1.45s\tremaining: 887ms\n",
      "62:\tlearn: 0.4421063\ttotal: 1.54s\tremaining: 903ms\n",
      "63:\tlearn: 0.4406510\ttotal: 1.54s\tremaining: 866ms\n",
      "64:\tlearn: 0.4393789\ttotal: 1.54s\tremaining: 831ms\n",
      "65:\tlearn: 0.4384411\ttotal: 1.54s\tremaining: 796ms\n",
      "66:\tlearn: 0.4373280\ttotal: 1.55s\tremaining: 763ms\n",
      "67:\tlearn: 0.4363476\ttotal: 1.64s\tremaining: 770ms\n",
      "68:\tlearn: 0.4352579\ttotal: 1.64s\tremaining: 737ms\n",
      "69:\tlearn: 0.4342237\ttotal: 1.64s\tremaining: 704ms\n",
      "70:\tlearn: 0.4330999\ttotal: 1.73s\tremaining: 708ms\n",
      "71:\tlearn: 0.4320728\ttotal: 1.74s\tremaining: 675ms\n",
      "72:\tlearn: 0.4313626\ttotal: 1.74s\tremaining: 643ms\n",
      "73:\tlearn: 0.4305176\ttotal: 1.74s\tremaining: 612ms\n",
      "74:\tlearn: 0.4297453\ttotal: 1.74s\tremaining: 581ms\n",
      "75:\tlearn: 0.4289571\ttotal: 1.83s\tremaining: 578ms\n",
      "76:\tlearn: 0.4280559\ttotal: 1.83s\tremaining: 548ms\n",
      "77:\tlearn: 0.4273006\ttotal: 1.84s\tremaining: 518ms\n",
      "78:\tlearn: 0.4263874\ttotal: 1.84s\tremaining: 489ms\n",
      "79:\tlearn: 0.4256856\ttotal: 1.93s\tremaining: 482ms\n",
      "80:\tlearn: 0.4247617\ttotal: 1.93s\tremaining: 453ms\n",
      "81:\tlearn: 0.4241791\ttotal: 1.93s\tremaining: 424ms\n",
      "82:\tlearn: 0.4233917\ttotal: 1.94s\tremaining: 396ms\n",
      "83:\tlearn: 0.4229429\ttotal: 1.94s\tremaining: 369ms\n",
      "84:\tlearn: 0.4220720\ttotal: 2.03s\tremaining: 358ms\n",
      "85:\tlearn: 0.4210775\ttotal: 2.03s\tremaining: 331ms\n",
      "86:\tlearn: 0.4204848\ttotal: 2.03s\tremaining: 304ms\n",
      "87:\tlearn: 0.4196322\ttotal: 2.12s\tremaining: 290ms\n",
      "88:\tlearn: 0.4188561\ttotal: 2.13s\tremaining: 263ms\n",
      "89:\tlearn: 0.4181511\ttotal: 2.13s\tremaining: 237ms\n",
      "90:\tlearn: 0.4174802\ttotal: 2.13s\tremaining: 211ms\n",
      "91:\tlearn: 0.4167991\ttotal: 2.22s\tremaining: 193ms\n",
      "92:\tlearn: 0.4162217\ttotal: 2.23s\tremaining: 168ms\n",
      "93:\tlearn: 0.4155957\ttotal: 2.23s\tremaining: 142ms\n",
      "94:\tlearn: 0.4150144\ttotal: 2.23s\tremaining: 118ms\n",
      "95:\tlearn: 0.4145901\ttotal: 2.33s\tremaining: 97ms\n",
      "96:\tlearn: 0.4140046\ttotal: 2.33s\tremaining: 72.2ms\n",
      "97:\tlearn: 0.4134219\ttotal: 2.34s\tremaining: 47.8ms\n",
      "98:\tlearn: 0.4129464\ttotal: 2.43s\tremaining: 24.5ms\n",
      "99:\tlearn: 0.4124299\ttotal: 2.43s\tremaining: 0us\n",
      "[CV] .... n_estimators=100, learning_rate=0.03, depth=6, total=   3.6s\n",
      "[CV] n_estimators=60, learning_rate=0.1, depth=6 .....................\n",
      "0:\tlearn: 0.6575727\ttotal: 3.21ms\tremaining: 190ms\n",
      "1:\tlearn: 0.6277353\ttotal: 6.22ms\tremaining: 181ms\n",
      "2:\tlearn: 0.6009694\ttotal: 9ms\tremaining: 171ms\n",
      "3:\tlearn: 0.5770464\ttotal: 62ms\tremaining: 868ms\n",
      "4:\tlearn: 0.5587428\ttotal: 64.9ms\tremaining: 714ms\n",
      "5:\tlearn: 0.5419447\ttotal: 67.6ms\tremaining: 609ms\n",
      "6:\tlearn: 0.5262045\ttotal: 70.9ms\tremaining: 537ms\n",
      "7:\tlearn: 0.5122128\ttotal: 160ms\tremaining: 1.04s\n",
      "8:\tlearn: 0.5009068\ttotal: 163ms\tremaining: 924ms\n",
      "9:\tlearn: 0.4923829\ttotal: 164ms\tremaining: 822ms\n",
      "10:\tlearn: 0.4836835\ttotal: 167ms\tremaining: 744ms\n",
      "11:\tlearn: 0.4747245\ttotal: 170ms\tremaining: 679ms\n",
      "12:\tlearn: 0.4671637\ttotal: 259ms\tremaining: 938ms\n",
      "13:\tlearn: 0.4603389\ttotal: 262ms\tremaining: 862ms\n",
      "14:\tlearn: 0.4525074\ttotal: 265ms\tremaining: 796ms\n",
      "15:\tlearn: 0.4462500\ttotal: 273ms\tremaining: 752ms\n",
      "16:\tlearn: 0.4406620\ttotal: 358ms\tremaining: 905ms\n",
      "17:\tlearn: 0.4348259\ttotal: 361ms\tremaining: 842ms\n",
      "18:\tlearn: 0.4300214\ttotal: 365ms\tremaining: 788ms\n",
      "19:\tlearn: 0.4261016\ttotal: 455ms\tremaining: 910ms\n",
      "20:\tlearn: 0.4223176\ttotal: 460ms\tremaining: 854ms\n",
      "21:\tlearn: 0.4184733\ttotal: 463ms\tremaining: 799ms\n",
      "22:\tlearn: 0.4151416\ttotal: 466ms\tremaining: 750ms\n",
      "23:\tlearn: 0.4119492\ttotal: 554ms\tremaining: 831ms\n",
      "24:\tlearn: 0.4091228\ttotal: 559ms\tremaining: 783ms\n",
      "25:\tlearn: 0.4069908\ttotal: 562ms\tremaining: 735ms\n",
      "26:\tlearn: 0.4050092\ttotal: 565ms\tremaining: 690ms\n",
      "27:\tlearn: 0.4025666\ttotal: 652ms\tremaining: 745ms\n",
      "28:\tlearn: 0.4006004\ttotal: 655ms\tremaining: 700ms\n",
      "29:\tlearn: 0.3987661\ttotal: 658ms\tremaining: 658ms\n",
      "30:\tlearn: 0.3969626\ttotal: 661ms\tremaining: 618ms\n",
      "31:\tlearn: 0.3963316\ttotal: 662ms\tremaining: 579ms\n",
      "32:\tlearn: 0.3947985\ttotal: 749ms\tremaining: 613ms\n",
      "33:\tlearn: 0.3935973\ttotal: 752ms\tremaining: 575ms\n",
      "34:\tlearn: 0.3919274\ttotal: 755ms\tremaining: 539ms\n",
      "35:\tlearn: 0.3906886\ttotal: 757ms\tremaining: 505ms\n",
      "36:\tlearn: 0.3893729\ttotal: 847ms\tremaining: 526ms\n",
      "37:\tlearn: 0.3883442\ttotal: 849ms\tremaining: 492ms\n",
      "38:\tlearn: 0.3873408\ttotal: 852ms\tremaining: 459ms\n",
      "39:\tlearn: 0.3860783\ttotal: 856ms\tremaining: 428ms\n",
      "40:\tlearn: 0.3858345\ttotal: 946ms\tremaining: 438ms\n",
      "41:\tlearn: 0.3850159\ttotal: 949ms\tremaining: 407ms\n",
      "42:\tlearn: 0.3844428\ttotal: 951ms\tremaining: 376ms\n",
      "43:\tlearn: 0.3837222\ttotal: 953ms\tremaining: 347ms\n",
      "44:\tlearn: 0.3828842\ttotal: 1.04s\tremaining: 348ms\n",
      "45:\tlearn: 0.3825485\ttotal: 1.05s\tremaining: 318ms\n",
      "46:\tlearn: 0.3819770\ttotal: 1.05s\tremaining: 290ms\n",
      "47:\tlearn: 0.3813010\ttotal: 1.05s\tremaining: 263ms\n",
      "48:\tlearn: 0.3807649\ttotal: 1.14s\tremaining: 256ms\n",
      "49:\tlearn: 0.3806550\ttotal: 1.14s\tremaining: 229ms\n",
      "50:\tlearn: 0.3805380\ttotal: 1.15s\tremaining: 202ms\n",
      "51:\tlearn: 0.3801835\ttotal: 1.15s\tremaining: 177ms\n",
      "52:\tlearn: 0.3794029\ttotal: 1.24s\tremaining: 164ms\n",
      "53:\tlearn: 0.3790635\ttotal: 1.24s\tremaining: 138ms\n",
      "54:\tlearn: 0.3787521\ttotal: 1.24s\tremaining: 113ms\n",
      "55:\tlearn: 0.3781254\ttotal: 1.24s\tremaining: 88.9ms\n",
      "56:\tlearn: 0.3778131\ttotal: 1.25s\tremaining: 65.6ms\n",
      "57:\tlearn: 0.3776461\ttotal: 1.25s\tremaining: 43.3ms\n"
     ]
    },
    {
     "name": "stdout",
     "output_type": "stream",
     "text": [
      "58:\tlearn: 0.3773744\ttotal: 1.34s\tremaining: 22.7ms\n",
      "59:\tlearn: 0.3765205\ttotal: 1.34s\tremaining: 0us\n",
      "[CV] ...... n_estimators=60, learning_rate=0.1, depth=6, total=   2.5s\n",
      "[CV] n_estimators=60, learning_rate=0.1, depth=6 .....................\n",
      "0:\tlearn: 0.6597562\ttotal: 3.15ms\tremaining: 186ms\n",
      "1:\tlearn: 0.6315492\ttotal: 6.14ms\tremaining: 178ms\n",
      "2:\tlearn: 0.6052995\ttotal: 9.18ms\tremaining: 174ms\n",
      "3:\tlearn: 0.5824142\ttotal: 61.7ms\tremaining: 863ms\n",
      "4:\tlearn: 0.5623816\ttotal: 64.6ms\tremaining: 710ms\n",
      "5:\tlearn: 0.5471768\ttotal: 67.3ms\tremaining: 605ms\n",
      "6:\tlearn: 0.5330676\ttotal: 69.9ms\tremaining: 529ms\n",
      "7:\tlearn: 0.5186922\ttotal: 161ms\tremaining: 1.05s\n",
      "8:\tlearn: 0.5081296\ttotal: 163ms\tremaining: 922ms\n",
      "9:\tlearn: 0.4984126\ttotal: 165ms\tremaining: 827ms\n",
      "10:\tlearn: 0.4889753\ttotal: 168ms\tremaining: 748ms\n",
      "11:\tlearn: 0.4806584\ttotal: 261ms\tremaining: 1.04s\n",
      "12:\tlearn: 0.4729994\ttotal: 264ms\tremaining: 953ms\n",
      "13:\tlearn: 0.4675611\ttotal: 265ms\tremaining: 872ms\n",
      "14:\tlearn: 0.4623461\ttotal: 269ms\tremaining: 806ms\n",
      "15:\tlearn: 0.4570461\ttotal: 357ms\tremaining: 981ms\n",
      "16:\tlearn: 0.4523751\ttotal: 359ms\tremaining: 909ms\n",
      "17:\tlearn: 0.4477126\ttotal: 363ms\tremaining: 847ms\n",
      "18:\tlearn: 0.4435809\ttotal: 366ms\tremaining: 789ms\n",
      "19:\tlearn: 0.4397462\ttotal: 454ms\tremaining: 908ms\n",
      "20:\tlearn: 0.4352243\ttotal: 457ms\tremaining: 848ms\n",
      "21:\tlearn: 0.4319433\ttotal: 464ms\tremaining: 802ms\n",
      "22:\tlearn: 0.4284833\ttotal: 552ms\tremaining: 887ms\n",
      "23:\tlearn: 0.4259271\ttotal: 554ms\tremaining: 830ms\n",
      "24:\tlearn: 0.4252072\ttotal: 556ms\tremaining: 778ms\n",
      "25:\tlearn: 0.4236073\ttotal: 558ms\tremaining: 730ms\n",
      "26:\tlearn: 0.4211501\ttotal: 561ms\tremaining: 685ms\n",
      "27:\tlearn: 0.4193288\ttotal: 649ms\tremaining: 742ms\n",
      "28:\tlearn: 0.4176541\ttotal: 652ms\tremaining: 697ms\n",
      "29:\tlearn: 0.4157154\ttotal: 657ms\tremaining: 657ms\n",
      "30:\tlearn: 0.4141464\ttotal: 665ms\tremaining: 622ms\n",
      "31:\tlearn: 0.4123942\ttotal: 749ms\tremaining: 656ms\n",
      "32:\tlearn: 0.4113143\ttotal: 751ms\tremaining: 615ms\n",
      "33:\tlearn: 0.4100846\ttotal: 754ms\tremaining: 576ms\n",
      "34:\tlearn: 0.4081891\ttotal: 756ms\tremaining: 540ms\n",
      "35:\tlearn: 0.4066536\ttotal: 846ms\tremaining: 564ms\n",
      "36:\tlearn: 0.4063934\ttotal: 847ms\tremaining: 527ms\n",
      "37:\tlearn: 0.4055070\ttotal: 850ms\tremaining: 492ms\n",
      "38:\tlearn: 0.4042668\ttotal: 853ms\tremaining: 459ms\n",
      "39:\tlearn: 0.4030462\ttotal: 943ms\tremaining: 472ms\n",
      "40:\tlearn: 0.4016855\ttotal: 947ms\tremaining: 439ms\n",
      "41:\tlearn: 0.4009828\ttotal: 949ms\tremaining: 407ms\n",
      "42:\tlearn: 0.3999455\ttotal: 952ms\tremaining: 376ms\n",
      "43:\tlearn: 0.3993688\ttotal: 1.04s\tremaining: 379ms\n",
      "44:\tlearn: 0.3987768\ttotal: 1.04s\tremaining: 348ms\n",
      "45:\tlearn: 0.3982501\ttotal: 1.05s\tremaining: 320ms\n",
      "46:\tlearn: 0.3978325\ttotal: 1.14s\tremaining: 315ms\n",
      "47:\tlearn: 0.3971754\ttotal: 1.15s\tremaining: 286ms\n",
      "48:\tlearn: 0.3969684\ttotal: 1.15s\tremaining: 257ms\n",
      "49:\tlearn: 0.3967726\ttotal: 1.15s\tremaining: 230ms\n",
      "50:\tlearn: 0.3959941\ttotal: 1.15s\tremaining: 203ms\n",
      "51:\tlearn: 0.3952768\ttotal: 1.24s\tremaining: 191ms\n",
      "52:\tlearn: 0.3945696\ttotal: 1.24s\tremaining: 164ms\n",
      "53:\tlearn: 0.3939217\ttotal: 1.24s\tremaining: 138ms\n",
      "54:\tlearn: 0.3933496\ttotal: 1.25s\tremaining: 113ms\n",
      "55:\tlearn: 0.3930796\ttotal: 1.34s\tremaining: 95.5ms\n",
      "56:\tlearn: 0.3924900\ttotal: 1.34s\tremaining: 70.5ms\n",
      "57:\tlearn: 0.3924631\ttotal: 1.34s\tremaining: 46.2ms\n",
      "58:\tlearn: 0.3920006\ttotal: 1.35s\tremaining: 22.8ms\n",
      "59:\tlearn: 0.3916609\ttotal: 1.43s\tremaining: 0us\n",
      "[CV] ...... n_estimators=60, learning_rate=0.1, depth=6, total=   2.6s\n",
      "[CV] n_estimators=100, learning_rate=0.1, depth=6 ....................\n",
      "0:\tlearn: 0.6575727\ttotal: 4.32ms\tremaining: 428ms\n",
      "1:\tlearn: 0.6277353\ttotal: 7.4ms\tremaining: 363ms\n",
      "2:\tlearn: 0.6009694\ttotal: 10ms\tremaining: 325ms\n",
      "3:\tlearn: 0.5770464\ttotal: 19.3ms\tremaining: 463ms\n",
      "4:\tlearn: 0.5587428\ttotal: 36.1ms\tremaining: 687ms\n",
      "5:\tlearn: 0.5419447\ttotal: 38.7ms\tremaining: 607ms\n",
      "6:\tlearn: 0.5262045\ttotal: 41.8ms\tremaining: 556ms\n",
      "7:\tlearn: 0.5122128\ttotal: 133ms\tremaining: 1.52s\n",
      "8:\tlearn: 0.5009068\ttotal: 136ms\tremaining: 1.37s\n",
      "9:\tlearn: 0.4923829\ttotal: 137ms\tremaining: 1.23s\n",
      "10:\tlearn: 0.4836835\ttotal: 140ms\tremaining: 1.13s\n",
      "11:\tlearn: 0.4747245\ttotal: 142ms\tremaining: 1.04s\n",
      "12:\tlearn: 0.4671637\ttotal: 233ms\tremaining: 1.56s\n",
      "13:\tlearn: 0.4603389\ttotal: 236ms\tremaining: 1.45s\n",
      "14:\tlearn: 0.4525074\ttotal: 239ms\tremaining: 1.35s\n",
      "15:\tlearn: 0.4462500\ttotal: 242ms\tremaining: 1.27s\n",
      "16:\tlearn: 0.4406620\ttotal: 330ms\tremaining: 1.61s\n",
      "17:\tlearn: 0.4348259\ttotal: 335ms\tremaining: 1.53s\n",
      "18:\tlearn: 0.4300214\ttotal: 338ms\tremaining: 1.44s\n",
      "19:\tlearn: 0.4261016\ttotal: 346ms\tremaining: 1.38s\n",
      "20:\tlearn: 0.4223176\ttotal: 429ms\tremaining: 1.61s\n",
      "21:\tlearn: 0.4184733\ttotal: 434ms\tremaining: 1.54s\n",
      "22:\tlearn: 0.4151416\ttotal: 436ms\tremaining: 1.46s\n",
      "23:\tlearn: 0.4119492\ttotal: 524ms\tremaining: 1.66s\n",
      "24:\tlearn: 0.4091228\ttotal: 528ms\tremaining: 1.58s\n",
      "25:\tlearn: 0.4069908\ttotal: 531ms\tremaining: 1.51s\n",
      "26:\tlearn: 0.4050092\ttotal: 534ms\tremaining: 1.44s\n",
      "27:\tlearn: 0.4025666\ttotal: 624ms\tremaining: 1.6s\n",
      "28:\tlearn: 0.4006004\ttotal: 627ms\tremaining: 1.53s\n",
      "29:\tlearn: 0.3987661\ttotal: 629ms\tremaining: 1.47s\n",
      "30:\tlearn: 0.3969626\ttotal: 638ms\tremaining: 1.42s\n",
      "31:\tlearn: 0.3963316\ttotal: 721ms\tremaining: 1.53s\n",
      "32:\tlearn: 0.3947985\ttotal: 725ms\tremaining: 1.47s\n",
      "33:\tlearn: 0.3935973\ttotal: 728ms\tremaining: 1.41s\n",
      "34:\tlearn: 0.3919274\ttotal: 730ms\tremaining: 1.36s\n",
      "35:\tlearn: 0.3906886\ttotal: 820ms\tremaining: 1.46s\n",
      "36:\tlearn: 0.3893729\ttotal: 822ms\tremaining: 1.4s\n",
      "37:\tlearn: 0.3883442\ttotal: 826ms\tremaining: 1.35s\n",
      "38:\tlearn: 0.3873408\ttotal: 828ms\tremaining: 1.29s\n",
      "39:\tlearn: 0.3860783\ttotal: 919ms\tremaining: 1.38s\n",
      "40:\tlearn: 0.3858345\ttotal: 924ms\tremaining: 1.33s\n",
      "41:\tlearn: 0.3850159\ttotal: 928ms\tremaining: 1.28s\n",
      "42:\tlearn: 0.3844428\ttotal: 1.01s\tremaining: 1.34s\n",
      "43:\tlearn: 0.3837222\ttotal: 1.02s\tremaining: 1.29s\n",
      "44:\tlearn: 0.3828842\ttotal: 1.02s\tremaining: 1.25s\n",
      "45:\tlearn: 0.3825485\ttotal: 1.02s\tremaining: 1.2s\n",
      "46:\tlearn: 0.3819770\ttotal: 1.11s\tremaining: 1.25s\n",
      "47:\tlearn: 0.3813010\ttotal: 1.11s\tremaining: 1.21s\n",
      "48:\tlearn: 0.3807649\ttotal: 1.12s\tremaining: 1.17s\n",
      "49:\tlearn: 0.3806550\ttotal: 1.12s\tremaining: 1.12s\n",
      "50:\tlearn: 0.3805380\ttotal: 1.21s\tremaining: 1.16s\n",
      "51:\tlearn: 0.3801835\ttotal: 1.21s\tremaining: 1.12s\n",
      "52:\tlearn: 0.3794029\ttotal: 1.22s\tremaining: 1.08s\n",
      "53:\tlearn: 0.3790635\ttotal: 1.22s\tremaining: 1.04s\n",
      "54:\tlearn: 0.3787521\ttotal: 1.22s\tremaining: 999ms\n",
      "55:\tlearn: 0.3781254\ttotal: 1.31s\tremaining: 1.03s\n",
      "56:\tlearn: 0.3778131\ttotal: 1.31s\tremaining: 989ms\n",
      "57:\tlearn: 0.3776461\ttotal: 1.31s\tremaining: 953ms\n",
      "58:\tlearn: 0.3773744\ttotal: 1.32s\tremaining: 916ms\n",
      "59:\tlearn: 0.3765205\ttotal: 1.41s\tremaining: 938ms\n",
      "60:\tlearn: 0.3757697\ttotal: 1.41s\tremaining: 902ms\n",
      "61:\tlearn: 0.3749775\ttotal: 1.41s\tremaining: 866ms\n",
      "62:\tlearn: 0.3742132\ttotal: 1.42s\tremaining: 831ms\n",
      "63:\tlearn: 0.3739713\ttotal: 1.5s\tremaining: 847ms\n",
      "64:\tlearn: 0.3731444\ttotal: 1.51s\tremaining: 812ms\n",
      "65:\tlearn: 0.3727854\ttotal: 1.51s\tremaining: 778ms\n",
      "66:\tlearn: 0.3724573\ttotal: 1.51s\tremaining: 745ms\n",
      "67:\tlearn: 0.3723005\ttotal: 1.6s\tremaining: 754ms\n",
      "68:\tlearn: 0.3717410\ttotal: 1.6s\tremaining: 721ms\n",
      "69:\tlearn: 0.3716165\ttotal: 1.61s\tremaining: 689ms\n",
      "70:\tlearn: 0.3714076\ttotal: 1.61s\tremaining: 658ms\n",
      "71:\tlearn: 0.3713642\ttotal: 1.62s\tremaining: 629ms\n",
      "72:\tlearn: 0.3712578\ttotal: 1.7s\tremaining: 629ms\n",
      "73:\tlearn: 0.3709480\ttotal: 1.7s\tremaining: 599ms\n",
      "74:\tlearn: 0.3706220\ttotal: 1.71s\tremaining: 569ms\n",
      "75:\tlearn: 0.3706071\ttotal: 1.71s\tremaining: 540ms\n",
      "76:\tlearn: 0.3701545\ttotal: 1.8s\tremaining: 537ms\n",
      "77:\tlearn: 0.3697911\ttotal: 1.8s\tremaining: 508ms\n",
      "78:\tlearn: 0.3696527\ttotal: 1.8s\tremaining: 480ms\n",
      "79:\tlearn: 0.3693718\ttotal: 1.81s\tremaining: 452ms\n",
      "80:\tlearn: 0.3692547\ttotal: 1.9s\tremaining: 445ms\n",
      "81:\tlearn: 0.3690565\ttotal: 1.9s\tremaining: 417ms\n",
      "82:\tlearn: 0.3690534\ttotal: 1.9s\tremaining: 389ms\n",
      "83:\tlearn: 0.3688569\ttotal: 1.9s\tremaining: 363ms\n",
      "84:\tlearn: 0.3685593\ttotal: 1.99s\tremaining: 352ms\n",
      "85:\tlearn: 0.3681833\ttotal: 2s\tremaining: 325ms\n",
      "86:\tlearn: 0.3678987\ttotal: 2s\tremaining: 299ms\n",
      "87:\tlearn: 0.3677546\ttotal: 2s\tremaining: 273ms\n",
      "88:\tlearn: 0.3671547\ttotal: 2.09s\tremaining: 259ms\n",
      "89:\tlearn: 0.3670174\ttotal: 2.09s\tremaining: 233ms\n",
      "90:\tlearn: 0.3666428\ttotal: 2.1s\tremaining: 207ms\n",
      "91:\tlearn: 0.3661687\ttotal: 2.1s\tremaining: 183ms\n",
      "92:\tlearn: 0.3660258\ttotal: 2.19s\tremaining: 165ms\n",
      "93:\tlearn: 0.3659911\ttotal: 2.19s\tremaining: 140ms\n"
     ]
    },
    {
     "name": "stdout",
     "output_type": "stream",
     "text": [
      "94:\tlearn: 0.3654557\ttotal: 2.2s\tremaining: 116ms\n",
      "95:\tlearn: 0.3652282\ttotal: 2.2s\tremaining: 91.7ms\n",
      "96:\tlearn: 0.3645786\ttotal: 2.29s\tremaining: 70.8ms\n",
      "97:\tlearn: 0.3644891\ttotal: 2.29s\tremaining: 46.8ms\n",
      "98:\tlearn: 0.3643435\ttotal: 2.29s\tremaining: 23.2ms\n",
      "99:\tlearn: 0.3642349\ttotal: 2.29s\tremaining: 0us\n",
      "[CV] ..... n_estimators=100, learning_rate=0.1, depth=6, total=   3.8s\n",
      "[CV] n_estimators=100, learning_rate=0.1, depth=6 ....................\n",
      "0:\tlearn: 0.6597562\ttotal: 3.27ms\tremaining: 324ms\n",
      "1:\tlearn: 0.6315492\ttotal: 6.3ms\tremaining: 309ms\n",
      "2:\tlearn: 0.6052995\ttotal: 9.36ms\tremaining: 303ms\n",
      "3:\tlearn: 0.5824142\ttotal: 96.6ms\tremaining: 2.32s\n",
      "4:\tlearn: 0.5623816\ttotal: 99.7ms\tremaining: 1.89s\n",
      "5:\tlearn: 0.5471768\ttotal: 103ms\tremaining: 1.61s\n",
      "6:\tlearn: 0.5330676\ttotal: 105ms\tremaining: 1.4s\n",
      "7:\tlearn: 0.5186922\ttotal: 195ms\tremaining: 2.24s\n",
      "8:\tlearn: 0.5081296\ttotal: 197ms\tremaining: 1.99s\n",
      "9:\tlearn: 0.4984126\ttotal: 199ms\tremaining: 1.79s\n",
      "10:\tlearn: 0.4889753\ttotal: 205ms\tremaining: 1.66s\n",
      "11:\tlearn: 0.4806584\ttotal: 294ms\tremaining: 2.15s\n",
      "12:\tlearn: 0.4729994\ttotal: 297ms\tremaining: 1.99s\n",
      "13:\tlearn: 0.4675611\ttotal: 299ms\tremaining: 1.83s\n",
      "14:\tlearn: 0.4623461\ttotal: 309ms\tremaining: 1.75s\n",
      "15:\tlearn: 0.4570461\ttotal: 393ms\tremaining: 2.06s\n",
      "16:\tlearn: 0.4523751\ttotal: 396ms\tremaining: 1.93s\n",
      "17:\tlearn: 0.4477126\ttotal: 398ms\tremaining: 1.81s\n",
      "18:\tlearn: 0.4435809\ttotal: 495ms\tremaining: 2.11s\n",
      "19:\tlearn: 0.4397462\ttotal: 497ms\tremaining: 1.99s\n",
      "20:\tlearn: 0.4352243\ttotal: 500ms\tremaining: 1.88s\n",
      "21:\tlearn: 0.4319433\ttotal: 587ms\tremaining: 2.08s\n",
      "22:\tlearn: 0.4284833\ttotal: 590ms\tremaining: 1.98s\n",
      "23:\tlearn: 0.4259271\ttotal: 592ms\tremaining: 1.88s\n",
      "24:\tlearn: 0.4252072\ttotal: 594ms\tremaining: 1.78s\n",
      "25:\tlearn: 0.4236073\ttotal: 596ms\tremaining: 1.7s\n",
      "26:\tlearn: 0.4211501\ttotal: 686ms\tremaining: 1.85s\n",
      "27:\tlearn: 0.4193288\ttotal: 690ms\tremaining: 1.77s\n",
      "28:\tlearn: 0.4176541\ttotal: 693ms\tremaining: 1.7s\n",
      "29:\tlearn: 0.4157154\ttotal: 702ms\tremaining: 1.64s\n",
      "30:\tlearn: 0.4141464\ttotal: 784ms\tremaining: 1.75s\n",
      "31:\tlearn: 0.4123942\ttotal: 787ms\tremaining: 1.67s\n",
      "32:\tlearn: 0.4113143\ttotal: 788ms\tremaining: 1.6s\n",
      "33:\tlearn: 0.4100846\ttotal: 791ms\tremaining: 1.53s\n",
      "34:\tlearn: 0.4081891\ttotal: 882ms\tremaining: 1.64s\n",
      "35:\tlearn: 0.4066536\ttotal: 885ms\tremaining: 1.57s\n",
      "36:\tlearn: 0.4063934\ttotal: 886ms\tremaining: 1.51s\n",
      "37:\tlearn: 0.4055070\ttotal: 889ms\tremaining: 1.45s\n",
      "38:\tlearn: 0.4042668\ttotal: 979ms\tremaining: 1.53s\n",
      "39:\tlearn: 0.4030462\ttotal: 982ms\tremaining: 1.47s\n",
      "40:\tlearn: 0.4016855\ttotal: 984ms\tremaining: 1.42s\n",
      "41:\tlearn: 0.4009828\ttotal: 987ms\tremaining: 1.36s\n",
      "42:\tlearn: 0.3999455\ttotal: 1.08s\tremaining: 1.43s\n",
      "43:\tlearn: 0.3993688\ttotal: 1.08s\tremaining: 1.37s\n",
      "44:\tlearn: 0.3987768\ttotal: 1.08s\tremaining: 1.32s\n",
      "45:\tlearn: 0.3982501\ttotal: 1.08s\tremaining: 1.27s\n",
      "46:\tlearn: 0.3978325\ttotal: 1.18s\tremaining: 1.32s\n",
      "47:\tlearn: 0.3971754\ttotal: 1.18s\tremaining: 1.28s\n",
      "48:\tlearn: 0.3969684\ttotal: 1.18s\tremaining: 1.23s\n",
      "49:\tlearn: 0.3967726\ttotal: 1.19s\tremaining: 1.19s\n",
      "50:\tlearn: 0.3959941\ttotal: 1.27s\tremaining: 1.22s\n",
      "51:\tlearn: 0.3952768\ttotal: 1.27s\tremaining: 1.18s\n",
      "52:\tlearn: 0.3945696\ttotal: 1.28s\tremaining: 1.13s\n",
      "53:\tlearn: 0.3939217\ttotal: 1.28s\tremaining: 1.09s\n",
      "54:\tlearn: 0.3933496\ttotal: 1.37s\tremaining: 1.12s\n",
      "55:\tlearn: 0.3930796\ttotal: 1.37s\tremaining: 1.08s\n",
      "56:\tlearn: 0.3924900\ttotal: 1.38s\tremaining: 1.04s\n",
      "57:\tlearn: 0.3924631\ttotal: 1.38s\tremaining: 1s\n",
      "58:\tlearn: 0.3920006\ttotal: 1.47s\tremaining: 1.02s\n",
      "59:\tlearn: 0.3916609\ttotal: 1.47s\tremaining: 981ms\n",
      "60:\tlearn: 0.3915451\ttotal: 1.47s\tremaining: 943ms\n",
      "61:\tlearn: 0.3912633\ttotal: 1.48s\tremaining: 905ms\n",
      "62:\tlearn: 0.3906582\ttotal: 1.57s\tremaining: 921ms\n",
      "63:\tlearn: 0.3906076\ttotal: 1.57s\tremaining: 883ms\n",
      "64:\tlearn: 0.3902733\ttotal: 1.57s\tremaining: 847ms\n",
      "65:\tlearn: 0.3902637\ttotal: 1.57s\tremaining: 811ms\n",
      "66:\tlearn: 0.3900587\ttotal: 1.66s\tremaining: 820ms\n",
      "67:\tlearn: 0.3900339\ttotal: 1.67s\tremaining: 784ms\n",
      "68:\tlearn: 0.3897755\ttotal: 1.67s\tremaining: 750ms\n",
      "69:\tlearn: 0.3895724\ttotal: 1.67s\tremaining: 717ms\n",
      "70:\tlearn: 0.3891577\ttotal: 1.67s\tremaining: 684ms\n",
      "71:\tlearn: 0.3891482\ttotal: 1.76s\tremaining: 686ms\n",
      "72:\tlearn: 0.3890796\ttotal: 1.76s\tremaining: 653ms\n",
      "73:\tlearn: 0.3887893\ttotal: 1.77s\tremaining: 622ms\n",
      "74:\tlearn: 0.3887771\ttotal: 1.77s\tremaining: 591ms\n",
      "75:\tlearn: 0.3887771\ttotal: 1.77s\tremaining: 560ms\n",
      "76:\tlearn: 0.3884927\ttotal: 1.86s\tremaining: 556ms\n",
      "77:\tlearn: 0.3879258\ttotal: 1.86s\tremaining: 526ms\n",
      "78:\tlearn: 0.3875962\ttotal: 1.87s\tremaining: 497ms\n",
      "79:\tlearn: 0.3875506\ttotal: 1.88s\tremaining: 469ms\n",
      "80:\tlearn: 0.3871637\ttotal: 1.96s\tremaining: 460ms\n",
      "81:\tlearn: 0.3864463\ttotal: 1.96s\tremaining: 431ms\n",
      "82:\tlearn: 0.3864119\ttotal: 1.96s\tremaining: 402ms\n",
      "83:\tlearn: 0.3859642\ttotal: 1.97s\tremaining: 375ms\n",
      "84:\tlearn: 0.3853118\ttotal: 2.06s\tremaining: 363ms\n",
      "85:\tlearn: 0.3846953\ttotal: 2.06s\tremaining: 336ms\n",
      "86:\tlearn: 0.3843472\ttotal: 2.06s\tremaining: 308ms\n",
      "87:\tlearn: 0.3841398\ttotal: 2.15s\tremaining: 294ms\n",
      "88:\tlearn: 0.3834103\ttotal: 2.16s\tremaining: 267ms\n",
      "89:\tlearn: 0.3833403\ttotal: 2.16s\tremaining: 240ms\n",
      "90:\tlearn: 0.3831083\ttotal: 2.16s\tremaining: 214ms\n",
      "91:\tlearn: 0.3830178\ttotal: 2.17s\tremaining: 189ms\n",
      "92:\tlearn: 0.3827826\ttotal: 2.25s\tremaining: 170ms\n",
      "93:\tlearn: 0.3820838\ttotal: 2.26s\tremaining: 144ms\n",
      "94:\tlearn: 0.3816460\ttotal: 2.26s\tremaining: 119ms\n",
      "95:\tlearn: 0.3816247\ttotal: 2.35s\tremaining: 97.9ms\n",
      "96:\tlearn: 0.3811744\ttotal: 2.35s\tremaining: 72.7ms\n",
      "97:\tlearn: 0.3807434\ttotal: 2.35s\tremaining: 48.1ms\n",
      "98:\tlearn: 0.3802008\ttotal: 2.36s\tremaining: 23.8ms\n",
      "99:\tlearn: 0.3801488\ttotal: 2.36s\tremaining: 0us\n",
      "[CV] ..... n_estimators=100, learning_rate=0.1, depth=6, total=   4.0s\n",
      "[CV] n_estimators=60, learning_rate=0.03, depth=10 ...................\n",
      "0:\tlearn: 0.6830292\ttotal: 14.9ms\tremaining: 878ms\n",
      "1:\tlearn: 0.6726936\ttotal: 90.4ms\tremaining: 2.62s\n",
      "2:\tlearn: 0.6626708\ttotal: 183ms\tremaining: 3.48s\n",
      "3:\tlearn: 0.6545725\ttotal: 193ms\tremaining: 2.7s\n",
      "4:\tlearn: 0.6471591\ttotal: 287ms\tremaining: 3.16s\n",
      "5:\tlearn: 0.6380259\ttotal: 381ms\tremaining: 3.42s\n",
      "6:\tlearn: 0.6290443\ttotal: 389ms\tremaining: 2.94s\n",
      "7:\tlearn: 0.6210893\ttotal: 481ms\tremaining: 3.12s\n",
      "8:\tlearn: 0.6131447\ttotal: 490ms\tremaining: 2.78s\n",
      "9:\tlearn: 0.6057076\ttotal: 585ms\tremaining: 2.92s\n",
      "10:\tlearn: 0.5989402\ttotal: 677ms\tremaining: 3.02s\n",
      "11:\tlearn: 0.5922090\ttotal: 685ms\tremaining: 2.74s\n",
      "12:\tlearn: 0.5867691\ttotal: 780ms\tremaining: 2.82s\n",
      "13:\tlearn: 0.5804922\ttotal: 792ms\tremaining: 2.6s\n",
      "14:\tlearn: 0.5743178\ttotal: 884ms\tremaining: 2.65s\n",
      "15:\tlearn: 0.5684960\ttotal: 896ms\tremaining: 2.46s\n",
      "16:\tlearn: 0.5641312\ttotal: 903ms\tremaining: 2.28s\n",
      "17:\tlearn: 0.5589260\ttotal: 981ms\tremaining: 2.29s\n",
      "18:\tlearn: 0.5532989\ttotal: 1.08s\tremaining: 2.32s\n",
      "19:\tlearn: 0.5486368\ttotal: 1.08s\tremaining: 2.17s\n",
      "20:\tlearn: 0.5431400\ttotal: 1.18s\tremaining: 2.19s\n",
      "21:\tlearn: 0.5386997\ttotal: 1.27s\tremaining: 2.19s\n",
      "22:\tlearn: 0.5339416\ttotal: 1.28s\tremaining: 2.06s\n",
      "23:\tlearn: 0.5297244\ttotal: 1.37s\tremaining: 2.06s\n",
      "24:\tlearn: 0.5258145\ttotal: 1.47s\tremaining: 2.06s\n",
      "25:\tlearn: 0.5224351\ttotal: 1.48s\tremaining: 1.94s\n",
      "26:\tlearn: 0.5186390\ttotal: 1.57s\tremaining: 1.92s\n",
      "27:\tlearn: 0.5155726\ttotal: 1.67s\tremaining: 1.9s\n",
      "28:\tlearn: 0.5116597\ttotal: 1.67s\tremaining: 1.79s\n",
      "29:\tlearn: 0.5077090\ttotal: 1.76s\tremaining: 1.76s\n",
      "30:\tlearn: 0.5043035\ttotal: 1.77s\tremaining: 1.66s\n",
      "31:\tlearn: 0.5012312\ttotal: 1.87s\tremaining: 1.64s\n",
      "32:\tlearn: 0.4974025\ttotal: 1.88s\tremaining: 1.54s\n",
      "33:\tlearn: 0.4936742\ttotal: 1.97s\tremaining: 1.5s\n",
      "34:\tlearn: 0.4903495\ttotal: 1.97s\tremaining: 1.41s\n",
      "35:\tlearn: 0.4874369\ttotal: 2.06s\tremaining: 1.38s\n",
      "36:\tlearn: 0.4840658\ttotal: 2.07s\tremaining: 1.29s\n",
      "37:\tlearn: 0.4806677\ttotal: 2.08s\tremaining: 1.2s\n",
      "38:\tlearn: 0.4782646\ttotal: 2.17s\tremaining: 1.17s\n",
      "39:\tlearn: 0.4757139\ttotal: 2.17s\tremaining: 1.08s\n",
      "40:\tlearn: 0.4729463\ttotal: 2.26s\tremaining: 1.04s\n",
      "41:\tlearn: 0.4702224\ttotal: 2.26s\tremaining: 968ms\n",
      "42:\tlearn: 0.4676151\ttotal: 2.26s\tremaining: 894ms\n",
      "43:\tlearn: 0.4653809\ttotal: 2.27s\tremaining: 827ms\n",
      "44:\tlearn: 0.4631120\ttotal: 2.35s\tremaining: 785ms\n",
      "45:\tlearn: 0.4607853\ttotal: 2.36s\tremaining: 718ms\n",
      "46:\tlearn: 0.4583921\ttotal: 2.36s\tremaining: 653ms\n",
      "47:\tlearn: 0.4560320\ttotal: 2.36s\tremaining: 591ms\n",
      "48:\tlearn: 0.4539539\ttotal: 2.46s\tremaining: 552ms\n",
      "49:\tlearn: 0.4518590\ttotal: 2.46s\tremaining: 493ms\n",
      "50:\tlearn: 0.4498537\ttotal: 2.47s\tremaining: 436ms\n",
      "51:\tlearn: 0.4481410\ttotal: 2.55s\tremaining: 393ms\n",
      "52:\tlearn: 0.4460859\ttotal: 2.56s\tremaining: 338ms\n"
     ]
    },
    {
     "name": "stdout",
     "output_type": "stream",
     "text": [
      "53:\tlearn: 0.4441791\ttotal: 2.65s\tremaining: 295ms\n",
      "54:\tlearn: 0.4423423\ttotal: 2.66s\tremaining: 242ms\n",
      "55:\tlearn: 0.4404518\ttotal: 2.75s\tremaining: 197ms\n",
      "56:\tlearn: 0.4388616\ttotal: 2.76s\tremaining: 145ms\n",
      "57:\tlearn: 0.4374298\ttotal: 2.85s\tremaining: 98.4ms\n",
      "58:\tlearn: 0.4358454\ttotal: 2.86s\tremaining: 48.4ms\n",
      "59:\tlearn: 0.4342365\ttotal: 2.95s\tremaining: 0us\n",
      "[CV] .... n_estimators=60, learning_rate=0.03, depth=10, total=   4.3s\n",
      "[CV] n_estimators=60, learning_rate=0.03, depth=10 ...................\n",
      "0:\tlearn: 0.6836940\ttotal: 9.04ms\tremaining: 533ms\n",
      "1:\tlearn: 0.6738232\ttotal: 58.4ms\tremaining: 1.69s\n",
      "2:\tlearn: 0.6638864\ttotal: 68.5ms\tremaining: 1.3s\n",
      "3:\tlearn: 0.6549023\ttotal: 158ms\tremaining: 2.21s\n",
      "4:\tlearn: 0.6472417\ttotal: 166ms\tremaining: 1.83s\n",
      "5:\tlearn: 0.6384902\ttotal: 261ms\tremaining: 2.35s\n",
      "6:\tlearn: 0.6307451\ttotal: 355ms\tremaining: 2.69s\n",
      "7:\tlearn: 0.6232267\ttotal: 364ms\tremaining: 2.37s\n",
      "8:\tlearn: 0.6153167\ttotal: 367ms\tremaining: 2.08s\n",
      "9:\tlearn: 0.6075623\ttotal: 457ms\tremaining: 2.29s\n",
      "10:\tlearn: 0.6007485\ttotal: 466ms\tremaining: 2.08s\n",
      "11:\tlearn: 0.5941473\ttotal: 559ms\tremaining: 2.24s\n",
      "12:\tlearn: 0.5884856\ttotal: 651ms\tremaining: 2.35s\n",
      "13:\tlearn: 0.5828827\ttotal: 660ms\tremaining: 2.17s\n",
      "14:\tlearn: 0.5771052\ttotal: 751ms\tremaining: 2.25s\n",
      "15:\tlearn: 0.5718128\ttotal: 756ms\tremaining: 2.08s\n",
      "16:\tlearn: 0.5659989\ttotal: 849ms\tremaining: 2.15s\n",
      "17:\tlearn: 0.5604425\ttotal: 857ms\tremaining: 2s\n",
      "18:\tlearn: 0.5558798\ttotal: 949ms\tremaining: 2.05s\n",
      "19:\tlearn: 0.5516968\ttotal: 959ms\tremaining: 1.92s\n",
      "20:\tlearn: 0.5473362\ttotal: 1.05s\tremaining: 1.95s\n",
      "21:\tlearn: 0.5434663\ttotal: 1.06s\tremaining: 1.84s\n",
      "22:\tlearn: 0.5389974\ttotal: 1.15s\tremaining: 1.85s\n",
      "23:\tlearn: 0.5353005\ttotal: 1.24s\tremaining: 1.87s\n",
      "24:\tlearn: 0.5318661\ttotal: 1.25s\tremaining: 1.75s\n",
      "25:\tlearn: 0.5286550\ttotal: 1.35s\tremaining: 1.76s\n",
      "26:\tlearn: 0.5248886\ttotal: 1.35s\tremaining: 1.66s\n",
      "27:\tlearn: 0.5219324\ttotal: 1.45s\tremaining: 1.66s\n",
      "28:\tlearn: 0.5184950\ttotal: 1.54s\tremaining: 1.65s\n",
      "29:\tlearn: 0.5147894\ttotal: 1.55s\tremaining: 1.55s\n",
      "30:\tlearn: 0.5120415\ttotal: 1.64s\tremaining: 1.53s\n",
      "31:\tlearn: 0.5089301\ttotal: 1.65s\tremaining: 1.44s\n",
      "32:\tlearn: 0.5058169\ttotal: 1.74s\tremaining: 1.43s\n",
      "33:\tlearn: 0.5023559\ttotal: 1.75s\tremaining: 1.33s\n",
      "34:\tlearn: 0.4994126\ttotal: 1.75s\tremaining: 1.25s\n",
      "35:\tlearn: 0.4964919\ttotal: 1.84s\tremaining: 1.23s\n",
      "36:\tlearn: 0.4934988\ttotal: 1.84s\tremaining: 1.14s\n",
      "37:\tlearn: 0.4908709\ttotal: 1.85s\tremaining: 1.07s\n",
      "38:\tlearn: 0.4880987\ttotal: 1.94s\tremaining: 1.04s\n",
      "39:\tlearn: 0.4860777\ttotal: 2.04s\tremaining: 1.02s\n",
      "40:\tlearn: 0.4834973\ttotal: 2.05s\tremaining: 950ms\n",
      "41:\tlearn: 0.4807582\ttotal: 2.13s\tremaining: 914ms\n",
      "42:\tlearn: 0.4781385\ttotal: 2.14s\tremaining: 845ms\n",
      "43:\tlearn: 0.4756910\ttotal: 2.14s\tremaining: 777ms\n",
      "44:\tlearn: 0.4732814\ttotal: 2.14s\tremaining: 713ms\n",
      "45:\tlearn: 0.4713904\ttotal: 2.24s\tremaining: 681ms\n",
      "46:\tlearn: 0.4691941\ttotal: 2.24s\tremaining: 619ms\n",
      "47:\tlearn: 0.4674329\ttotal: 2.24s\tremaining: 560ms\n",
      "48:\tlearn: 0.4654229\ttotal: 2.24s\tremaining: 503ms\n",
      "49:\tlearn: 0.4633926\ttotal: 2.34s\tremaining: 468ms\n",
      "50:\tlearn: 0.4614680\ttotal: 2.43s\tremaining: 429ms\n",
      "51:\tlearn: 0.4598019\ttotal: 2.44s\tremaining: 375ms\n",
      "52:\tlearn: 0.4580614\ttotal: 2.53s\tremaining: 335ms\n",
      "53:\tlearn: 0.4563359\ttotal: 2.63s\tremaining: 292ms\n",
      "54:\tlearn: 0.4546556\ttotal: 2.63s\tremaining: 239ms\n",
      "55:\tlearn: 0.4529929\ttotal: 2.63s\tremaining: 188ms\n",
      "56:\tlearn: 0.4515269\ttotal: 2.72s\tremaining: 143ms\n",
      "57:\tlearn: 0.4497787\ttotal: 2.73s\tremaining: 94.2ms\n",
      "58:\tlearn: 0.4481435\ttotal: 2.83s\tremaining: 47.9ms\n",
      "59:\tlearn: 0.4466777\ttotal: 2.83s\tremaining: 0us\n",
      "[CV] .... n_estimators=60, learning_rate=0.03, depth=10, total=   4.1s\n",
      "[CV] n_estimators=100, learning_rate=0.03, depth=10 ..................\n",
      "0:\tlearn: 0.6830292\ttotal: 9.29ms\tremaining: 920ms\n",
      "1:\tlearn: 0.6726936\ttotal: 66.4ms\tremaining: 3.25s\n",
      "2:\tlearn: 0.6626708\ttotal: 160ms\tremaining: 5.17s\n",
      "3:\tlearn: 0.6545725\ttotal: 168ms\tremaining: 4.04s\n",
      "4:\tlearn: 0.6471591\ttotal: 260ms\tremaining: 4.94s\n",
      "5:\tlearn: 0.6380259\ttotal: 270ms\tremaining: 4.23s\n",
      "6:\tlearn: 0.6290443\ttotal: 362ms\tremaining: 4.81s\n",
      "7:\tlearn: 0.6210893\ttotal: 375ms\tremaining: 4.31s\n",
      "8:\tlearn: 0.6131447\ttotal: 464ms\tremaining: 4.69s\n",
      "9:\tlearn: 0.6057076\ttotal: 558ms\tremaining: 5.02s\n",
      "10:\tlearn: 0.5989402\ttotal: 566ms\tremaining: 4.58s\n",
      "11:\tlearn: 0.5922090\ttotal: 659ms\tremaining: 4.83s\n",
      "12:\tlearn: 0.5867691\ttotal: 755ms\tremaining: 5.05s\n",
      "13:\tlearn: 0.5804922\ttotal: 764ms\tremaining: 4.69s\n",
      "14:\tlearn: 0.5743178\ttotal: 852ms\tremaining: 4.83s\n",
      "15:\tlearn: 0.5684960\ttotal: 860ms\tremaining: 4.51s\n",
      "16:\tlearn: 0.5641312\ttotal: 867ms\tremaining: 4.23s\n",
      "17:\tlearn: 0.5589260\ttotal: 957ms\tremaining: 4.36s\n",
      "18:\tlearn: 0.5532989\ttotal: 1.05s\tremaining: 4.47s\n",
      "19:\tlearn: 0.5486368\ttotal: 1.06s\tremaining: 4.23s\n",
      "20:\tlearn: 0.5431400\ttotal: 1.15s\tremaining: 4.33s\n",
      "21:\tlearn: 0.5386997\ttotal: 1.25s\tremaining: 4.42s\n",
      "22:\tlearn: 0.5339416\ttotal: 1.25s\tremaining: 4.2s\n",
      "23:\tlearn: 0.5297244\ttotal: 1.35s\tremaining: 4.28s\n",
      "24:\tlearn: 0.5258145\ttotal: 1.44s\tremaining: 4.33s\n",
      "25:\tlearn: 0.5224351\ttotal: 1.45s\tremaining: 4.14s\n",
      "26:\tlearn: 0.5186390\ttotal: 1.55s\tremaining: 4.18s\n",
      "27:\tlearn: 0.5155726\ttotal: 1.64s\tremaining: 4.22s\n",
      "28:\tlearn: 0.5116597\ttotal: 1.65s\tremaining: 4.04s\n",
      "29:\tlearn: 0.5077090\ttotal: 1.75s\tremaining: 4.07s\n",
      "30:\tlearn: 0.5043035\ttotal: 1.76s\tremaining: 3.91s\n",
      "31:\tlearn: 0.5012312\ttotal: 1.85s\tremaining: 3.92s\n",
      "32:\tlearn: 0.4974025\ttotal: 1.94s\tremaining: 3.94s\n",
      "33:\tlearn: 0.4936742\ttotal: 1.94s\tremaining: 3.77s\n",
      "34:\tlearn: 0.4903495\ttotal: 1.94s\tremaining: 3.61s\n",
      "35:\tlearn: 0.4874369\ttotal: 2.04s\tremaining: 3.62s\n",
      "36:\tlearn: 0.4840658\ttotal: 2.04s\tremaining: 3.48s\n",
      "37:\tlearn: 0.4806677\ttotal: 2.05s\tremaining: 3.34s\n",
      "38:\tlearn: 0.4782646\ttotal: 2.14s\tremaining: 3.35s\n",
      "39:\tlearn: 0.4757139\ttotal: 2.14s\tremaining: 3.21s\n",
      "40:\tlearn: 0.4729463\ttotal: 2.15s\tremaining: 3.09s\n",
      "41:\tlearn: 0.4702224\ttotal: 2.16s\tremaining: 2.98s\n",
      "42:\tlearn: 0.4676151\ttotal: 2.23s\tremaining: 2.96s\n",
      "43:\tlearn: 0.4653809\ttotal: 2.24s\tremaining: 2.86s\n",
      "44:\tlearn: 0.4631120\ttotal: 2.25s\tremaining: 2.75s\n",
      "45:\tlearn: 0.4607853\ttotal: 2.33s\tremaining: 2.74s\n",
      "46:\tlearn: 0.4583921\ttotal: 2.34s\tremaining: 2.63s\n",
      "47:\tlearn: 0.4560320\ttotal: 2.34s\tremaining: 2.53s\n",
      "48:\tlearn: 0.4539539\ttotal: 2.44s\tremaining: 2.53s\n",
      "49:\tlearn: 0.4518590\ttotal: 2.44s\tremaining: 2.44s\n",
      "50:\tlearn: 0.4498537\ttotal: 2.44s\tremaining: 2.34s\n",
      "51:\tlearn: 0.4481410\ttotal: 2.53s\tremaining: 2.33s\n",
      "52:\tlearn: 0.4460859\ttotal: 2.54s\tremaining: 2.25s\n",
      "53:\tlearn: 0.4441791\ttotal: 2.63s\tremaining: 2.24s\n",
      "54:\tlearn: 0.4423423\ttotal: 2.64s\tremaining: 2.16s\n",
      "55:\tlearn: 0.4404518\ttotal: 2.73s\tremaining: 2.15s\n",
      "56:\tlearn: 0.4388616\ttotal: 2.83s\tremaining: 2.13s\n",
      "57:\tlearn: 0.4374298\ttotal: 2.83s\tremaining: 2.05s\n",
      "58:\tlearn: 0.4358454\ttotal: 2.84s\tremaining: 1.97s\n",
      "59:\tlearn: 0.4342365\ttotal: 2.93s\tremaining: 1.96s\n",
      "60:\tlearn: 0.4326795\ttotal: 3.03s\tremaining: 1.94s\n",
      "61:\tlearn: 0.4308302\ttotal: 3.03s\tremaining: 1.86s\n",
      "62:\tlearn: 0.4293547\ttotal: 3.12s\tremaining: 1.83s\n",
      "63:\tlearn: 0.4279946\ttotal: 3.12s\tremaining: 1.76s\n",
      "64:\tlearn: 0.4265346\ttotal: 3.13s\tremaining: 1.69s\n",
      "65:\tlearn: 0.4255266\ttotal: 3.22s\tremaining: 1.66s\n",
      "66:\tlearn: 0.4243499\ttotal: 3.23s\tremaining: 1.59s\n",
      "67:\tlearn: 0.4230440\ttotal: 3.32s\tremaining: 1.56s\n",
      "68:\tlearn: 0.4215511\ttotal: 3.32s\tremaining: 1.49s\n",
      "69:\tlearn: 0.4202741\ttotal: 3.33s\tremaining: 1.43s\n",
      "70:\tlearn: 0.4190856\ttotal: 3.42s\tremaining: 1.4s\n",
      "71:\tlearn: 0.4182369\ttotal: 3.42s\tremaining: 1.33s\n",
      "72:\tlearn: 0.4171641\ttotal: 3.43s\tremaining: 1.27s\n",
      "73:\tlearn: 0.4161163\ttotal: 3.52s\tremaining: 1.24s\n",
      "74:\tlearn: 0.4148707\ttotal: 3.62s\tremaining: 1.21s\n",
      "75:\tlearn: 0.4139008\ttotal: 3.63s\tremaining: 1.15s\n",
      "76:\tlearn: 0.4126602\ttotal: 3.72s\tremaining: 1.11s\n",
      "77:\tlearn: 0.4115432\ttotal: 3.81s\tremaining: 1.07s\n",
      "78:\tlearn: 0.4103460\ttotal: 3.82s\tremaining: 1.01s\n",
      "79:\tlearn: 0.4093729\ttotal: 3.91s\tremaining: 978ms\n",
      "80:\tlearn: 0.4081626\ttotal: 3.92s\tremaining: 920ms\n",
      "81:\tlearn: 0.4070249\ttotal: 4.01s\tremaining: 881ms\n",
      "82:\tlearn: 0.4059672\ttotal: 4.11s\tremaining: 841ms\n",
      "83:\tlearn: 0.4051036\ttotal: 4.11s\tremaining: 783ms\n",
      "84:\tlearn: 0.4039183\ttotal: 4.12s\tremaining: 727ms\n",
      "85:\tlearn: 0.4029229\ttotal: 4.21s\tremaining: 685ms\n",
      "86:\tlearn: 0.4019488\ttotal: 4.21s\tremaining: 630ms\n",
      "87:\tlearn: 0.4010552\ttotal: 4.22s\tremaining: 575ms\n",
      "88:\tlearn: 0.4003161\ttotal: 4.3s\tremaining: 532ms\n",
      "89:\tlearn: 0.3994888\ttotal: 4.31s\tremaining: 479ms\n"
     ]
    },
    {
     "name": "stdout",
     "output_type": "stream",
     "text": [
      "90:\tlearn: 0.3986964\ttotal: 4.32s\tremaining: 427ms\n",
      "91:\tlearn: 0.3978959\ttotal: 4.41s\tremaining: 383ms\n",
      "92:\tlearn: 0.3972576\ttotal: 4.5s\tremaining: 339ms\n",
      "93:\tlearn: 0.3964497\ttotal: 4.51s\tremaining: 288ms\n",
      "94:\tlearn: 0.3957827\ttotal: 4.51s\tremaining: 238ms\n",
      "95:\tlearn: 0.3949783\ttotal: 4.61s\tremaining: 192ms\n",
      "96:\tlearn: 0.3943328\ttotal: 4.7s\tremaining: 145ms\n",
      "97:\tlearn: 0.3934985\ttotal: 4.71s\tremaining: 96.1ms\n",
      "98:\tlearn: 0.3927162\ttotal: 4.8s\tremaining: 48.5ms\n",
      "99:\tlearn: 0.3923578\ttotal: 4.8s\tremaining: 0us\n",
      "[CV] ... n_estimators=100, learning_rate=0.03, depth=10, total=   6.0s\n",
      "[CV] n_estimators=100, learning_rate=0.03, depth=10 ..................\n",
      "0:\tlearn: 0.6836940\ttotal: 9.36ms\tremaining: 926ms\n",
      "1:\tlearn: 0.6738232\ttotal: 14.5ms\tremaining: 712ms\n",
      "2:\tlearn: 0.6638864\ttotal: 23ms\tremaining: 743ms\n",
      "3:\tlearn: 0.6549023\ttotal: 26.5ms\tremaining: 637ms\n",
      "4:\tlearn: 0.6472417\ttotal: 121ms\tremaining: 2.29s\n",
      "5:\tlearn: 0.6384902\ttotal: 214ms\tremaining: 3.35s\n",
      "6:\tlearn: 0.6307451\ttotal: 223ms\tremaining: 2.96s\n",
      "7:\tlearn: 0.6232267\ttotal: 317ms\tremaining: 3.64s\n",
      "8:\tlearn: 0.6153167\ttotal: 321ms\tremaining: 3.24s\n",
      "9:\tlearn: 0.6075623\ttotal: 412ms\tremaining: 3.71s\n",
      "10:\tlearn: 0.6007485\ttotal: 429ms\tremaining: 3.47s\n",
      "11:\tlearn: 0.5941473\ttotal: 516ms\tremaining: 3.79s\n",
      "12:\tlearn: 0.5884856\ttotal: 611ms\tremaining: 4.09s\n",
      "13:\tlearn: 0.5828827\ttotal: 626ms\tremaining: 3.85s\n",
      "14:\tlearn: 0.5771052\ttotal: 709ms\tremaining: 4.02s\n",
      "15:\tlearn: 0.5718128\ttotal: 715ms\tremaining: 3.75s\n",
      "16:\tlearn: 0.5659989\ttotal: 810ms\tremaining: 3.96s\n",
      "17:\tlearn: 0.5604425\ttotal: 904ms\tremaining: 4.12s\n",
      "18:\tlearn: 0.5558798\ttotal: 913ms\tremaining: 3.89s\n",
      "19:\tlearn: 0.5516968\ttotal: 1s\tremaining: 4.01s\n",
      "20:\tlearn: 0.5473362\ttotal: 1.01s\tremaining: 3.8s\n",
      "21:\tlearn: 0.5434663\ttotal: 1.11s\tremaining: 3.92s\n",
      "22:\tlearn: 0.5389974\ttotal: 1.2s\tremaining: 4.02s\n",
      "23:\tlearn: 0.5353005\ttotal: 1.21s\tremaining: 3.83s\n",
      "24:\tlearn: 0.5318661\ttotal: 1.3s\tremaining: 3.91s\n",
      "25:\tlearn: 0.5286550\ttotal: 1.31s\tremaining: 3.73s\n",
      "26:\tlearn: 0.5248886\ttotal: 1.41s\tremaining: 3.82s\n",
      "27:\tlearn: 0.5219324\ttotal: 1.51s\tremaining: 3.88s\n",
      "28:\tlearn: 0.5184950\ttotal: 1.6s\tremaining: 3.91s\n",
      "29:\tlearn: 0.5147894\ttotal: 1.61s\tremaining: 3.75s\n",
      "30:\tlearn: 0.5120415\ttotal: 1.7s\tremaining: 3.79s\n",
      "31:\tlearn: 0.5089301\ttotal: 1.79s\tremaining: 3.81s\n",
      "32:\tlearn: 0.5058169\ttotal: 1.8s\tremaining: 3.66s\n",
      "33:\tlearn: 0.5023559\ttotal: 1.8s\tremaining: 3.5s\n",
      "34:\tlearn: 0.4994126\ttotal: 1.89s\tremaining: 3.52s\n",
      "35:\tlearn: 0.4964919\ttotal: 1.9s\tremaining: 3.37s\n",
      "36:\tlearn: 0.4934988\ttotal: 1.9s\tremaining: 3.24s\n",
      "37:\tlearn: 0.4908709\ttotal: 1.99s\tremaining: 3.25s\n",
      "38:\tlearn: 0.4880987\ttotal: 2s\tremaining: 3.12s\n",
      "39:\tlearn: 0.4860777\ttotal: 2.09s\tremaining: 3.13s\n",
      "40:\tlearn: 0.4834973\ttotal: 2.1s\tremaining: 3.02s\n",
      "41:\tlearn: 0.4807582\ttotal: 2.19s\tremaining: 3.02s\n",
      "42:\tlearn: 0.4781385\ttotal: 2.19s\tremaining: 2.9s\n",
      "43:\tlearn: 0.4756910\ttotal: 2.19s\tremaining: 2.79s\n",
      "44:\tlearn: 0.4732814\ttotal: 2.19s\tremaining: 2.68s\n",
      "45:\tlearn: 0.4713904\ttotal: 2.29s\tremaining: 2.68s\n",
      "46:\tlearn: 0.4691941\ttotal: 2.29s\tremaining: 2.58s\n",
      "47:\tlearn: 0.4674329\ttotal: 2.29s\tremaining: 2.48s\n",
      "48:\tlearn: 0.4654229\ttotal: 2.29s\tremaining: 2.38s\n",
      "49:\tlearn: 0.4633926\ttotal: 2.3s\tremaining: 2.3s\n",
      "50:\tlearn: 0.4614680\ttotal: 2.39s\tremaining: 2.3s\n",
      "51:\tlearn: 0.4598019\ttotal: 2.48s\tremaining: 2.29s\n",
      "52:\tlearn: 0.4580614\ttotal: 2.49s\tremaining: 2.21s\n",
      "53:\tlearn: 0.4563359\ttotal: 2.59s\tremaining: 2.2s\n",
      "54:\tlearn: 0.4546556\ttotal: 2.59s\tremaining: 2.12s\n",
      "55:\tlearn: 0.4529929\ttotal: 2.6s\tremaining: 2.04s\n",
      "56:\tlearn: 0.4515269\ttotal: 2.69s\tremaining: 2.03s\n",
      "57:\tlearn: 0.4497787\ttotal: 2.78s\tremaining: 2.01s\n",
      "58:\tlearn: 0.4481435\ttotal: 2.79s\tremaining: 1.94s\n",
      "59:\tlearn: 0.4466777\ttotal: 2.79s\tremaining: 1.86s\n",
      "60:\tlearn: 0.4459808\ttotal: 2.88s\tremaining: 1.84s\n",
      "61:\tlearn: 0.4443513\ttotal: 2.88s\tremaining: 1.76s\n",
      "62:\tlearn: 0.4426673\ttotal: 2.88s\tremaining: 1.69s\n",
      "63:\tlearn: 0.4411572\ttotal: 2.89s\tremaining: 1.63s\n",
      "64:\tlearn: 0.4396491\ttotal: 2.98s\tremaining: 1.6s\n",
      "65:\tlearn: 0.4383363\ttotal: 2.98s\tremaining: 1.54s\n",
      "66:\tlearn: 0.4368131\ttotal: 3.08s\tremaining: 1.52s\n",
      "67:\tlearn: 0.4355575\ttotal: 3.08s\tremaining: 1.45s\n",
      "68:\tlearn: 0.4341231\ttotal: 3.09s\tremaining: 1.39s\n",
      "69:\tlearn: 0.4332584\ttotal: 3.17s\tremaining: 1.36s\n",
      "70:\tlearn: 0.4320669\ttotal: 3.19s\tremaining: 1.3s\n",
      "71:\tlearn: 0.4307651\ttotal: 3.27s\tremaining: 1.27s\n",
      "72:\tlearn: 0.4295553\ttotal: 3.37s\tremaining: 1.25s\n",
      "73:\tlearn: 0.4282870\ttotal: 3.38s\tremaining: 1.19s\n",
      "74:\tlearn: 0.4271567\ttotal: 3.39s\tremaining: 1.13s\n",
      "75:\tlearn: 0.4261373\ttotal: 3.48s\tremaining: 1.1s\n",
      "76:\tlearn: 0.4249281\ttotal: 3.57s\tremaining: 1.06s\n",
      "77:\tlearn: 0.4240025\ttotal: 3.57s\tremaining: 1.01s\n",
      "78:\tlearn: 0.4229070\ttotal: 3.58s\tremaining: 951ms\n",
      "79:\tlearn: 0.4222108\ttotal: 3.67s\tremaining: 916ms\n",
      "80:\tlearn: 0.4212887\ttotal: 3.67s\tremaining: 860ms\n",
      "81:\tlearn: 0.4205498\ttotal: 3.67s\tremaining: 805ms\n",
      "82:\tlearn: 0.4195260\ttotal: 3.76s\tremaining: 771ms\n",
      "83:\tlearn: 0.4187769\ttotal: 3.77s\tremaining: 717ms\n",
      "84:\tlearn: 0.4178595\ttotal: 3.77s\tremaining: 666ms\n",
      "85:\tlearn: 0.4169297\ttotal: 3.87s\tremaining: 630ms\n",
      "86:\tlearn: 0.4160363\ttotal: 3.87s\tremaining: 578ms\n",
      "87:\tlearn: 0.4151443\ttotal: 3.96s\tremaining: 540ms\n",
      "88:\tlearn: 0.4142218\ttotal: 3.97s\tremaining: 491ms\n",
      "89:\tlearn: 0.4133781\ttotal: 4.06s\tremaining: 451ms\n",
      "90:\tlearn: 0.4122943\ttotal: 4.07s\tremaining: 402ms\n",
      "91:\tlearn: 0.4117451\ttotal: 4.07s\tremaining: 354ms\n",
      "92:\tlearn: 0.4107983\ttotal: 4.16s\tremaining: 313ms\n",
      "93:\tlearn: 0.4100589\ttotal: 4.17s\tremaining: 266ms\n",
      "94:\tlearn: 0.4092153\ttotal: 4.26s\tremaining: 224ms\n",
      "95:\tlearn: 0.4083263\ttotal: 4.35s\tremaining: 181ms\n",
      "96:\tlearn: 0.4074504\ttotal: 4.36s\tremaining: 135ms\n",
      "97:\tlearn: 0.4065635\ttotal: 4.46s\tremaining: 91ms\n",
      "98:\tlearn: 0.4058260\ttotal: 4.55s\tremaining: 46ms\n",
      "99:\tlearn: 0.4048959\ttotal: 4.56s\tremaining: 0us\n",
      "[CV] ... n_estimators=100, learning_rate=0.03, depth=10, total=   5.9s\n",
      "[CV] n_estimators=60, learning_rate=0.1, depth=10 ....................\n",
      "0:\tlearn: 0.6603838\ttotal: 10.3ms\tremaining: 608ms\n",
      "1:\tlearn: 0.6301306\ttotal: 53.9ms\tremaining: 1.56s\n",
      "2:\tlearn: 0.6060756\ttotal: 148ms\tremaining: 2.8s\n",
      "3:\tlearn: 0.5836339\ttotal: 155ms\tremaining: 2.17s\n",
      "4:\tlearn: 0.5672462\ttotal: 249ms\tremaining: 2.74s\n",
      "5:\tlearn: 0.5482898\ttotal: 257ms\tremaining: 2.31s\n",
      "6:\tlearn: 0.5313938\ttotal: 350ms\tremaining: 2.65s\n",
      "7:\tlearn: 0.5178976\ttotal: 363ms\tremaining: 2.36s\n",
      "8:\tlearn: 0.5049380\ttotal: 452ms\tremaining: 2.56s\n",
      "9:\tlearn: 0.4934142\ttotal: 544ms\tremaining: 2.72s\n",
      "10:\tlearn: 0.4812345\ttotal: 549ms\tremaining: 2.44s\n",
      "11:\tlearn: 0.4716982\ttotal: 641ms\tremaining: 2.56s\n",
      "12:\tlearn: 0.4624821\ttotal: 649ms\tremaining: 2.35s\n",
      "13:\tlearn: 0.4546440\ttotal: 747ms\tremaining: 2.45s\n",
      "14:\tlearn: 0.4470027\ttotal: 839ms\tremaining: 2.52s\n",
      "15:\tlearn: 0.4410075\ttotal: 841ms\tremaining: 2.31s\n",
      "16:\tlearn: 0.4360748\ttotal: 849ms\tremaining: 2.15s\n",
      "17:\tlearn: 0.4320220\ttotal: 937ms\tremaining: 2.19s\n",
      "18:\tlearn: 0.4275696\ttotal: 939ms\tremaining: 2.02s\n",
      "19:\tlearn: 0.4233447\ttotal: 947ms\tremaining: 1.89s\n",
      "20:\tlearn: 0.4198590\ttotal: 1.04s\tremaining: 1.94s\n",
      "21:\tlearn: 0.4156401\ttotal: 1.14s\tremaining: 1.96s\n",
      "22:\tlearn: 0.4117469\ttotal: 1.15s\tremaining: 1.85s\n",
      "23:\tlearn: 0.4078275\ttotal: 1.24s\tremaining: 1.85s\n",
      "24:\tlearn: 0.4051850\ttotal: 1.24s\tremaining: 1.73s\n",
      "25:\tlearn: 0.4024798\ttotal: 1.25s\tremaining: 1.64s\n",
      "26:\tlearn: 0.3994775\ttotal: 1.34s\tremaining: 1.64s\n",
      "27:\tlearn: 0.3969768\ttotal: 1.34s\tremaining: 1.53s\n",
      "28:\tlearn: 0.3938639\ttotal: 1.44s\tremaining: 1.54s\n",
      "29:\tlearn: 0.3911176\ttotal: 1.53s\tremaining: 1.53s\n",
      "30:\tlearn: 0.3892317\ttotal: 1.53s\tremaining: 1.43s\n",
      "31:\tlearn: 0.3869562\ttotal: 1.54s\tremaining: 1.35s\n",
      "32:\tlearn: 0.3850339\ttotal: 1.63s\tremaining: 1.34s\n",
      "33:\tlearn: 0.3826842\ttotal: 1.73s\tremaining: 1.32s\n",
      "34:\tlearn: 0.3799950\ttotal: 1.74s\tremaining: 1.24s\n",
      "35:\tlearn: 0.3774339\ttotal: 1.83s\tremaining: 1.22s\n",
      "36:\tlearn: 0.3755840\ttotal: 1.93s\tremaining: 1.2s\n",
      "37:\tlearn: 0.3731930\ttotal: 1.93s\tremaining: 1.12s\n",
      "38:\tlearn: 0.3710577\ttotal: 2.03s\tremaining: 1.09s\n",
      "39:\tlearn: 0.3686797\ttotal: 2.12s\tremaining: 1.06s\n",
      "40:\tlearn: 0.3667821\ttotal: 2.13s\tremaining: 988ms\n",
      "41:\tlearn: 0.3647618\ttotal: 2.23s\tremaining: 954ms\n",
      "42:\tlearn: 0.3622797\ttotal: 2.24s\tremaining: 885ms\n",
      "43:\tlearn: 0.3604366\ttotal: 2.33s\tremaining: 846ms\n",
      "44:\tlearn: 0.3588489\ttotal: 2.42s\tremaining: 806ms\n",
      "45:\tlearn: 0.3576070\ttotal: 2.43s\tremaining: 739ms\n",
      "46:\tlearn: 0.3558371\ttotal: 2.52s\tremaining: 696ms\n",
      "47:\tlearn: 0.3540637\ttotal: 2.53s\tremaining: 632ms\n",
      "48:\tlearn: 0.3526260\ttotal: 2.62s\tremaining: 589ms\n"
     ]
    },
    {
     "name": "stdout",
     "output_type": "stream",
     "text": [
      "49:\tlearn: 0.3514156\ttotal: 2.72s\tremaining: 545ms\n",
      "50:\tlearn: 0.3499446\ttotal: 2.73s\tremaining: 482ms\n",
      "51:\tlearn: 0.3486589\ttotal: 2.82s\tremaining: 434ms\n",
      "52:\tlearn: 0.3471926\ttotal: 2.91s\tremaining: 385ms\n",
      "53:\tlearn: 0.3463768\ttotal: 2.92s\tremaining: 325ms\n",
      "54:\tlearn: 0.3459227\ttotal: 2.92s\tremaining: 266ms\n",
      "55:\tlearn: 0.3443999\ttotal: 3.02s\tremaining: 215ms\n",
      "56:\tlearn: 0.3431133\ttotal: 3.11s\tremaining: 164ms\n",
      "57:\tlearn: 0.3421476\ttotal: 3.12s\tremaining: 108ms\n",
      "58:\tlearn: 0.3409573\ttotal: 3.21s\tremaining: 54.4ms\n",
      "59:\tlearn: 0.3409102\ttotal: 3.22s\tremaining: 0us\n",
      "[CV] ..... n_estimators=60, learning_rate=0.1, depth=10, total=   4.4s\n",
      "[CV] n_estimators=60, learning_rate=0.1, depth=10 ....................\n",
      "0:\tlearn: 0.6625020\ttotal: 9.91ms\tremaining: 585ms\n",
      "1:\tlearn: 0.6316257\ttotal: 101ms\tremaining: 2.93s\n",
      "2:\tlearn: 0.6058044\ttotal: 111ms\tremaining: 2.11s\n",
      "3:\tlearn: 0.5838418\ttotal: 201ms\tremaining: 2.81s\n",
      "4:\tlearn: 0.5676394\ttotal: 210ms\tremaining: 2.31s\n",
      "5:\tlearn: 0.5502257\ttotal: 304ms\tremaining: 2.73s\n",
      "6:\tlearn: 0.5357569\ttotal: 317ms\tremaining: 2.4s\n",
      "7:\tlearn: 0.5231562\ttotal: 403ms\tremaining: 2.62s\n",
      "8:\tlearn: 0.5110207\ttotal: 407ms\tremaining: 2.31s\n",
      "9:\tlearn: 0.5002664\ttotal: 498ms\tremaining: 2.49s\n",
      "10:\tlearn: 0.4917302\ttotal: 506ms\tremaining: 2.25s\n",
      "11:\tlearn: 0.4829460\ttotal: 600ms\tremaining: 2.4s\n",
      "12:\tlearn: 0.4757118\ttotal: 694ms\tremaining: 2.51s\n",
      "13:\tlearn: 0.4685875\ttotal: 697ms\tremaining: 2.29s\n",
      "14:\tlearn: 0.4625819\ttotal: 791ms\tremaining: 2.37s\n",
      "15:\tlearn: 0.4560175\ttotal: 801ms\tremaining: 2.2s\n",
      "16:\tlearn: 0.4511129\ttotal: 890ms\tremaining: 2.25s\n",
      "17:\tlearn: 0.4466737\ttotal: 894ms\tremaining: 2.08s\n",
      "18:\tlearn: 0.4418454\ttotal: 901ms\tremaining: 1.94s\n",
      "19:\tlearn: 0.4376142\ttotal: 995ms\tremaining: 1.99s\n",
      "20:\tlearn: 0.4331768\ttotal: 998ms\tremaining: 1.85s\n",
      "21:\tlearn: 0.4289422\ttotal: 1.09s\tremaining: 1.88s\n",
      "22:\tlearn: 0.4259118\ttotal: 1.09s\tremaining: 1.76s\n",
      "23:\tlearn: 0.4237750\ttotal: 1.09s\tremaining: 1.64s\n",
      "24:\tlearn: 0.4209681\ttotal: 1.19s\tremaining: 1.66s\n",
      "25:\tlearn: 0.4178065\ttotal: 1.2s\tremaining: 1.56s\n",
      "26:\tlearn: 0.4150580\ttotal: 1.29s\tremaining: 1.58s\n",
      "27:\tlearn: 0.4131493\ttotal: 1.38s\tremaining: 1.58s\n",
      "28:\tlearn: 0.4103463\ttotal: 1.39s\tremaining: 1.49s\n",
      "29:\tlearn: 0.4081391\ttotal: 1.49s\tremaining: 1.49s\n",
      "30:\tlearn: 0.4062947\ttotal: 1.58s\tremaining: 1.48s\n",
      "31:\tlearn: 0.4042245\ttotal: 1.59s\tremaining: 1.39s\n",
      "32:\tlearn: 0.4027917\ttotal: 1.6s\tremaining: 1.31s\n",
      "33:\tlearn: 0.4015306\ttotal: 1.69s\tremaining: 1.29s\n",
      "34:\tlearn: 0.3996528\ttotal: 1.78s\tremaining: 1.27s\n",
      "35:\tlearn: 0.3976797\ttotal: 1.79s\tremaining: 1.19s\n",
      "36:\tlearn: 0.3963935\ttotal: 1.79s\tremaining: 1.11s\n",
      "37:\tlearn: 0.3938176\ttotal: 1.89s\tremaining: 1.09s\n",
      "38:\tlearn: 0.3922077\ttotal: 1.97s\tremaining: 1.06s\n",
      "39:\tlearn: 0.3911767\ttotal: 1.98s\tremaining: 988ms\n",
      "40:\tlearn: 0.3893141\ttotal: 1.99s\tremaining: 920ms\n",
      "41:\tlearn: 0.3868063\ttotal: 2.08s\tremaining: 891ms\n",
      "42:\tlearn: 0.3852546\ttotal: 2.17s\tremaining: 859ms\n",
      "43:\tlearn: 0.3839699\ttotal: 2.18s\tremaining: 793ms\n",
      "44:\tlearn: 0.3833470\ttotal: 2.19s\tremaining: 731ms\n",
      "45:\tlearn: 0.3816602\ttotal: 2.28s\tremaining: 693ms\n",
      "46:\tlearn: 0.3807628\ttotal: 2.37s\tremaining: 655ms\n",
      "47:\tlearn: 0.3806318\ttotal: 2.37s\tremaining: 592ms\n",
      "48:\tlearn: 0.3792626\ttotal: 2.38s\tremaining: 535ms\n",
      "49:\tlearn: 0.3778057\ttotal: 2.47s\tremaining: 495ms\n",
      "50:\tlearn: 0.3763916\ttotal: 2.56s\tremaining: 453ms\n",
      "51:\tlearn: 0.3749370\ttotal: 2.58s\tremaining: 397ms\n",
      "52:\tlearn: 0.3744897\ttotal: 2.58s\tremaining: 341ms\n",
      "53:\tlearn: 0.3730049\ttotal: 2.67s\tremaining: 297ms\n",
      "54:\tlearn: 0.3709387\ttotal: 2.76s\tremaining: 251ms\n",
      "55:\tlearn: 0.3702881\ttotal: 2.77s\tremaining: 198ms\n",
      "56:\tlearn: 0.3690100\ttotal: 2.86s\tremaining: 151ms\n",
      "57:\tlearn: 0.3681494\ttotal: 2.87s\tremaining: 99ms\n",
      "58:\tlearn: 0.3662145\ttotal: 2.97s\tremaining: 50.3ms\n",
      "59:\tlearn: 0.3661422\ttotal: 2.97s\tremaining: 0us\n",
      "[CV] ..... n_estimators=60, learning_rate=0.1, depth=10, total=   4.2s\n",
      "[CV] n_estimators=100, learning_rate=0.1, depth=10 ...................\n",
      "0:\tlearn: 0.6603838\ttotal: 8.7ms\tremaining: 861ms\n",
      "1:\tlearn: 0.6301306\ttotal: 102ms\tremaining: 5s\n",
      "2:\tlearn: 0.6060756\ttotal: 111ms\tremaining: 3.59s\n",
      "3:\tlearn: 0.5836339\ttotal: 205ms\tremaining: 4.93s\n",
      "4:\tlearn: 0.5672462\ttotal: 214ms\tremaining: 4.07s\n",
      "5:\tlearn: 0.5482898\ttotal: 305ms\tremaining: 4.78s\n",
      "6:\tlearn: 0.5313938\ttotal: 398ms\tremaining: 5.29s\n",
      "7:\tlearn: 0.5178976\ttotal: 407ms\tremaining: 4.68s\n",
      "8:\tlearn: 0.5049380\ttotal: 498ms\tremaining: 5.03s\n",
      "9:\tlearn: 0.4934142\ttotal: 506ms\tremaining: 4.55s\n",
      "10:\tlearn: 0.4812345\ttotal: 597ms\tremaining: 4.83s\n",
      "11:\tlearn: 0.4716982\ttotal: 606ms\tremaining: 4.44s\n",
      "12:\tlearn: 0.4624821\ttotal: 701ms\tremaining: 4.69s\n",
      "13:\tlearn: 0.4546440\ttotal: 793ms\tremaining: 4.87s\n",
      "14:\tlearn: 0.4470027\ttotal: 804ms\tremaining: 4.55s\n",
      "15:\tlearn: 0.4410075\ttotal: 891ms\tremaining: 4.68s\n",
      "16:\tlearn: 0.4360748\ttotal: 900ms\tremaining: 4.39s\n",
      "17:\tlearn: 0.4320220\ttotal: 903ms\tremaining: 4.11s\n",
      "18:\tlearn: 0.4275696\ttotal: 989ms\tremaining: 4.21s\n",
      "19:\tlearn: 0.4233447\ttotal: 998ms\tremaining: 3.99s\n",
      "20:\tlearn: 0.4198590\ttotal: 1.09s\tremaining: 4.09s\n",
      "21:\tlearn: 0.4156401\ttotal: 1.1s\tremaining: 3.89s\n",
      "22:\tlearn: 0.4117469\ttotal: 1.19s\tremaining: 3.99s\n",
      "23:\tlearn: 0.4078275\ttotal: 1.2s\tremaining: 3.79s\n",
      "24:\tlearn: 0.4051850\ttotal: 1.2s\tremaining: 3.59s\n",
      "25:\tlearn: 0.4024798\ttotal: 1.29s\tremaining: 3.68s\n",
      "26:\tlearn: 0.3994775\ttotal: 1.38s\tremaining: 3.74s\n",
      "27:\tlearn: 0.3969768\ttotal: 1.39s\tremaining: 3.57s\n",
      "28:\tlearn: 0.3938639\ttotal: 1.48s\tremaining: 3.63s\n",
      "29:\tlearn: 0.3911176\ttotal: 1.49s\tremaining: 3.48s\n",
      "30:\tlearn: 0.3892317\ttotal: 1.49s\tremaining: 3.32s\n",
      "31:\tlearn: 0.3869562\ttotal: 1.59s\tremaining: 3.38s\n",
      "32:\tlearn: 0.3850339\ttotal: 1.69s\tremaining: 3.42s\n",
      "33:\tlearn: 0.3826842\ttotal: 1.7s\tremaining: 3.3s\n",
      "34:\tlearn: 0.3799950\ttotal: 1.79s\tremaining: 3.32s\n",
      "35:\tlearn: 0.3774339\ttotal: 1.89s\tremaining: 3.37s\n",
      "36:\tlearn: 0.3755840\ttotal: 1.91s\tremaining: 3.25s\n",
      "37:\tlearn: 0.3731930\ttotal: 1.99s\tremaining: 3.25s\n",
      "38:\tlearn: 0.3710577\ttotal: 2.08s\tremaining: 3.26s\n",
      "39:\tlearn: 0.3686797\ttotal: 2.18s\tremaining: 3.27s\n",
      "40:\tlearn: 0.3667821\ttotal: 2.19s\tremaining: 3.15s\n",
      "41:\tlearn: 0.3647618\ttotal: 2.28s\tremaining: 3.15s\n",
      "42:\tlearn: 0.3622797\ttotal: 2.37s\tremaining: 3.15s\n",
      "43:\tlearn: 0.3604366\ttotal: 2.38s\tremaining: 3.04s\n",
      "44:\tlearn: 0.3588489\ttotal: 2.48s\tremaining: 3.03s\n",
      "45:\tlearn: 0.3576070\ttotal: 2.57s\tremaining: 3.02s\n",
      "46:\tlearn: 0.3558371\ttotal: 2.58s\tremaining: 2.91s\n",
      "47:\tlearn: 0.3540637\ttotal: 2.68s\tremaining: 2.9s\n",
      "48:\tlearn: 0.3526260\ttotal: 2.77s\tremaining: 2.88s\n",
      "49:\tlearn: 0.3514156\ttotal: 2.78s\tremaining: 2.78s\n",
      "50:\tlearn: 0.3499446\ttotal: 2.87s\tremaining: 2.76s\n",
      "51:\tlearn: 0.3486589\ttotal: 2.88s\tremaining: 2.66s\n",
      "52:\tlearn: 0.3471926\ttotal: 2.97s\tremaining: 2.64s\n",
      "53:\tlearn: 0.3463768\ttotal: 2.99s\tremaining: 2.54s\n",
      "54:\tlearn: 0.3459227\ttotal: 3.06s\tremaining: 2.51s\n",
      "55:\tlearn: 0.3443999\ttotal: 3.07s\tremaining: 2.42s\n",
      "56:\tlearn: 0.3431133\ttotal: 3.17s\tremaining: 2.39s\n",
      "57:\tlearn: 0.3421476\ttotal: 3.26s\tremaining: 2.36s\n",
      "58:\tlearn: 0.3409573\ttotal: 3.27s\tremaining: 2.27s\n",
      "59:\tlearn: 0.3409102\ttotal: 3.36s\tremaining: 2.24s\n",
      "60:\tlearn: 0.3405113\ttotal: 3.37s\tremaining: 2.15s\n",
      "61:\tlearn: 0.3393384\ttotal: 3.46s\tremaining: 2.12s\n",
      "62:\tlearn: 0.3379118\ttotal: 3.47s\tremaining: 2.04s\n",
      "63:\tlearn: 0.3370734\ttotal: 3.57s\tremaining: 2.01s\n",
      "64:\tlearn: 0.3360846\ttotal: 3.66s\tremaining: 1.97s\n",
      "65:\tlearn: 0.3355417\ttotal: 3.66s\tremaining: 1.89s\n",
      "66:\tlearn: 0.3346858\ttotal: 3.67s\tremaining: 1.81s\n",
      "67:\tlearn: 0.3340364\ttotal: 3.76s\tremaining: 1.77s\n",
      "68:\tlearn: 0.3324764\ttotal: 3.77s\tremaining: 1.7s\n",
      "69:\tlearn: 0.3320801\ttotal: 3.86s\tremaining: 1.66s\n",
      "70:\tlearn: 0.3318832\ttotal: 3.87s\tremaining: 1.58s\n",
      "71:\tlearn: 0.3311505\ttotal: 3.96s\tremaining: 1.54s\n",
      "72:\tlearn: 0.3305073\ttotal: 4.05s\tremaining: 1.5s\n",
      "73:\tlearn: 0.3295785\ttotal: 4.06s\tremaining: 1.43s\n",
      "74:\tlearn: 0.3280934\ttotal: 4.16s\tremaining: 1.39s\n",
      "75:\tlearn: 0.3274800\ttotal: 4.25s\tremaining: 1.34s\n",
      "76:\tlearn: 0.3269968\ttotal: 4.26s\tremaining: 1.27s\n",
      "77:\tlearn: 0.3259961\ttotal: 4.36s\tremaining: 1.23s\n",
      "78:\tlearn: 0.3248726\ttotal: 4.45s\tremaining: 1.18s\n",
      "79:\tlearn: 0.3246731\ttotal: 4.45s\tremaining: 1.11s\n",
      "80:\tlearn: 0.3234590\ttotal: 4.46s\tremaining: 1.05s\n",
      "81:\tlearn: 0.3224499\ttotal: 4.55s\tremaining: 1000ms\n",
      "82:\tlearn: 0.3221151\ttotal: 4.65s\tremaining: 952ms\n",
      "83:\tlearn: 0.3213479\ttotal: 4.66s\tremaining: 887ms\n",
      "84:\tlearn: 0.3208871\ttotal: 4.75s\tremaining: 838ms\n",
      "85:\tlearn: 0.3200293\ttotal: 4.76s\tremaining: 775ms\n",
      "86:\tlearn: 0.3196200\ttotal: 4.85s\tremaining: 725ms\n"
     ]
    },
    {
     "name": "stdout",
     "output_type": "stream",
     "text": [
      "87:\tlearn: 0.3192313\ttotal: 4.94s\tremaining: 674ms\n",
      "88:\tlearn: 0.3187628\ttotal: 4.95s\tremaining: 612ms\n",
      "89:\tlearn: 0.3182248\ttotal: 5.05s\tremaining: 561ms\n",
      "90:\tlearn: 0.3180388\ttotal: 5.14s\tremaining: 508ms\n",
      "91:\tlearn: 0.3176081\ttotal: 5.15s\tremaining: 448ms\n",
      "92:\tlearn: 0.3173001\ttotal: 5.24s\tremaining: 395ms\n",
      "93:\tlearn: 0.3160924\ttotal: 5.34s\tremaining: 341ms\n",
      "94:\tlearn: 0.3152706\ttotal: 5.34s\tremaining: 281ms\n",
      "95:\tlearn: 0.3147101\ttotal: 5.44s\tremaining: 227ms\n",
      "96:\tlearn: 0.3145398\ttotal: 5.45s\tremaining: 168ms\n",
      "97:\tlearn: 0.3143631\ttotal: 5.54s\tremaining: 113ms\n",
      "98:\tlearn: 0.3135775\ttotal: 5.55s\tremaining: 56ms\n",
      "99:\tlearn: 0.3133590\ttotal: 5.64s\tremaining: 0us\n",
      "[CV] .... n_estimators=100, learning_rate=0.1, depth=10, total=   6.9s\n",
      "[CV] n_estimators=100, learning_rate=0.1, depth=10 ...................\n",
      "0:\tlearn: 0.6625020\ttotal: 9.46ms\tremaining: 936ms\n",
      "1:\tlearn: 0.6316257\ttotal: 14.4ms\tremaining: 708ms\n",
      "2:\tlearn: 0.6058044\ttotal: 77.8ms\tremaining: 2.52s\n",
      "3:\tlearn: 0.5838418\ttotal: 81.4ms\tremaining: 1.95s\n",
      "4:\tlearn: 0.5676394\ttotal: 175ms\tremaining: 3.32s\n",
      "5:\tlearn: 0.5502257\ttotal: 269ms\tremaining: 4.21s\n",
      "6:\tlearn: 0.5357569\ttotal: 277ms\tremaining: 3.67s\n",
      "7:\tlearn: 0.5231562\ttotal: 374ms\tremaining: 4.29s\n",
      "8:\tlearn: 0.5110207\ttotal: 379ms\tremaining: 3.83s\n",
      "9:\tlearn: 0.5002664\ttotal: 469ms\tremaining: 4.22s\n",
      "10:\tlearn: 0.4917302\ttotal: 564ms\tremaining: 4.56s\n",
      "11:\tlearn: 0.4829460\ttotal: 575ms\tremaining: 4.22s\n",
      "12:\tlearn: 0.4757118\ttotal: 670ms\tremaining: 4.48s\n",
      "13:\tlearn: 0.4685875\ttotal: 673ms\tremaining: 4.13s\n",
      "14:\tlearn: 0.4625819\ttotal: 766ms\tremaining: 4.34s\n",
      "15:\tlearn: 0.4560175\ttotal: 861ms\tremaining: 4.52s\n",
      "16:\tlearn: 0.4511129\ttotal: 874ms\tremaining: 4.27s\n",
      "17:\tlearn: 0.4466737\ttotal: 888ms\tremaining: 4.04s\n",
      "18:\tlearn: 0.4418454\ttotal: 964ms\tremaining: 4.11s\n",
      "19:\tlearn: 0.4376142\ttotal: 1.06s\tremaining: 4.24s\n",
      "20:\tlearn: 0.4331768\ttotal: 1.06s\tremaining: 4s\n",
      "21:\tlearn: 0.4289422\ttotal: 1.16s\tremaining: 4.13s\n",
      "22:\tlearn: 0.4259118\ttotal: 1.17s\tremaining: 3.92s\n",
      "23:\tlearn: 0.4237750\ttotal: 1.17s\tremaining: 3.71s\n",
      "24:\tlearn: 0.4209681\ttotal: 1.26s\tremaining: 3.77s\n",
      "25:\tlearn: 0.4178065\ttotal: 1.27s\tremaining: 3.62s\n",
      "26:\tlearn: 0.4150580\ttotal: 1.36s\tremaining: 3.68s\n",
      "27:\tlearn: 0.4131493\ttotal: 1.46s\tremaining: 3.74s\n",
      "28:\tlearn: 0.4103463\ttotal: 1.47s\tremaining: 3.59s\n",
      "29:\tlearn: 0.4081391\ttotal: 1.56s\tremaining: 3.64s\n",
      "30:\tlearn: 0.4062947\ttotal: 1.65s\tremaining: 3.67s\n",
      "31:\tlearn: 0.4042245\ttotal: 1.66s\tremaining: 3.52s\n",
      "32:\tlearn: 0.4027917\ttotal: 1.66s\tremaining: 3.37s\n",
      "33:\tlearn: 0.4015306\ttotal: 1.75s\tremaining: 3.4s\n",
      "34:\tlearn: 0.3996528\ttotal: 1.85s\tremaining: 3.43s\n",
      "35:\tlearn: 0.3976797\ttotal: 1.86s\tremaining: 3.3s\n",
      "36:\tlearn: 0.3963935\ttotal: 1.94s\tremaining: 3.31s\n",
      "37:\tlearn: 0.3938176\ttotal: 1.95s\tremaining: 3.18s\n",
      "38:\tlearn: 0.3922077\ttotal: 2.05s\tremaining: 3.2s\n",
      "39:\tlearn: 0.3911767\ttotal: 2.05s\tremaining: 3.08s\n",
      "40:\tlearn: 0.3893141\ttotal: 2.14s\tremaining: 3.08s\n",
      "41:\tlearn: 0.3868063\ttotal: 2.24s\tremaining: 3.09s\n",
      "42:\tlearn: 0.3852546\ttotal: 2.25s\tremaining: 2.98s\n",
      "43:\tlearn: 0.3839699\ttotal: 2.34s\tremaining: 2.98s\n",
      "44:\tlearn: 0.3833470\ttotal: 2.34s\tremaining: 2.87s\n",
      "45:\tlearn: 0.3816602\ttotal: 2.44s\tremaining: 2.86s\n",
      "46:\tlearn: 0.3807628\ttotal: 2.45s\tremaining: 2.77s\n",
      "47:\tlearn: 0.3806318\ttotal: 2.53s\tremaining: 2.74s\n",
      "48:\tlearn: 0.3792626\ttotal: 2.54s\tremaining: 2.65s\n",
      "49:\tlearn: 0.3778057\ttotal: 2.63s\tremaining: 2.63s\n",
      "50:\tlearn: 0.3763916\ttotal: 2.64s\tremaining: 2.54s\n",
      "51:\tlearn: 0.3749370\ttotal: 2.74s\tremaining: 2.53s\n",
      "52:\tlearn: 0.3744897\ttotal: 2.74s\tremaining: 2.43s\n",
      "53:\tlearn: 0.3730049\ttotal: 2.83s\tremaining: 2.41s\n",
      "54:\tlearn: 0.3709387\ttotal: 2.84s\tremaining: 2.32s\n",
      "55:\tlearn: 0.3702881\ttotal: 2.93s\tremaining: 2.3s\n",
      "56:\tlearn: 0.3690100\ttotal: 2.94s\tremaining: 2.22s\n",
      "57:\tlearn: 0.3681494\ttotal: 3.03s\tremaining: 2.2s\n",
      "58:\tlearn: 0.3662145\ttotal: 3.13s\tremaining: 2.17s\n",
      "59:\tlearn: 0.3661422\ttotal: 3.13s\tremaining: 2.08s\n",
      "60:\tlearn: 0.3647754\ttotal: 3.14s\tremaining: 2.01s\n",
      "61:\tlearn: 0.3633574\ttotal: 3.23s\tremaining: 1.98s\n",
      "62:\tlearn: 0.3618070\ttotal: 3.32s\tremaining: 1.95s\n",
      "63:\tlearn: 0.3603018\ttotal: 3.33s\tremaining: 1.87s\n",
      "64:\tlearn: 0.3601380\ttotal: 3.33s\tremaining: 1.79s\n",
      "65:\tlearn: 0.3588128\ttotal: 3.43s\tremaining: 1.77s\n",
      "66:\tlearn: 0.3583565\ttotal: 3.52s\tremaining: 1.74s\n",
      "67:\tlearn: 0.3567186\ttotal: 3.54s\tremaining: 1.67s\n",
      "68:\tlearn: 0.3559500\ttotal: 3.63s\tremaining: 1.63s\n",
      "69:\tlearn: 0.3546279\ttotal: 3.72s\tremaining: 1.59s\n",
      "70:\tlearn: 0.3542686\ttotal: 3.72s\tremaining: 1.52s\n",
      "71:\tlearn: 0.3527058\ttotal: 3.73s\tremaining: 1.45s\n",
      "72:\tlearn: 0.3523180\ttotal: 3.83s\tremaining: 1.41s\n",
      "73:\tlearn: 0.3515979\ttotal: 3.92s\tremaining: 1.38s\n",
      "74:\tlearn: 0.3508523\ttotal: 3.93s\tremaining: 1.31s\n",
      "75:\tlearn: 0.3506256\ttotal: 3.93s\tremaining: 1.24s\n",
      "76:\tlearn: 0.3496228\ttotal: 4.02s\tremaining: 1.2s\n",
      "77:\tlearn: 0.3486684\ttotal: 4.11s\tremaining: 1.16s\n",
      "78:\tlearn: 0.3477213\ttotal: 4.12s\tremaining: 1.1s\n",
      "79:\tlearn: 0.3477209\ttotal: 4.13s\tremaining: 1.03s\n",
      "80:\tlearn: 0.3463964\ttotal: 4.22s\tremaining: 990ms\n",
      "81:\tlearn: 0.3450998\ttotal: 4.31s\tremaining: 947ms\n",
      "82:\tlearn: 0.3446509\ttotal: 4.32s\tremaining: 885ms\n",
      "83:\tlearn: 0.3440765\ttotal: 4.42s\tremaining: 841ms\n",
      "84:\tlearn: 0.3438988\ttotal: 4.42s\tremaining: 779ms\n",
      "85:\tlearn: 0.3427150\ttotal: 4.43s\tremaining: 721ms\n",
      "86:\tlearn: 0.3423594\ttotal: 4.52s\tremaining: 675ms\n",
      "87:\tlearn: 0.3420599\ttotal: 4.61s\tremaining: 629ms\n",
      "88:\tlearn: 0.3405095\ttotal: 4.62s\tremaining: 571ms\n",
      "89:\tlearn: 0.3390701\ttotal: 4.71s\tremaining: 524ms\n",
      "90:\tlearn: 0.3374241\ttotal: 4.8s\tremaining: 475ms\n",
      "91:\tlearn: 0.3365216\ttotal: 4.81s\tremaining: 418ms\n",
      "92:\tlearn: 0.3355207\ttotal: 4.91s\tremaining: 369ms\n",
      "93:\tlearn: 0.3354236\ttotal: 4.92s\tremaining: 314ms\n",
      "94:\tlearn: 0.3350133\ttotal: 5.01s\tremaining: 263ms\n",
      "95:\tlearn: 0.3345536\ttotal: 5.1s\tremaining: 212ms\n",
      "96:\tlearn: 0.3342665\ttotal: 5.11s\tremaining: 158ms\n",
      "97:\tlearn: 0.3342665\ttotal: 5.11s\tremaining: 104ms\n",
      "98:\tlearn: 0.3339689\ttotal: 5.21s\tremaining: 52.6ms\n",
      "99:\tlearn: 0.3333739\ttotal: 5.3s\tremaining: 0us\n",
      "[CV] .... n_estimators=100, learning_rate=0.1, depth=10, total=   7.0s\n"
     ]
    },
    {
     "name": "stderr",
     "output_type": "stream",
     "text": [
      "[Parallel(n_jobs=-1)]: Done  16 out of  16 | elapsed:  1.2min finished\n"
     ]
    },
    {
     "name": "stdout",
     "output_type": "stream",
     "text": [
      "0:\tlearn: 0.6534838\ttotal: 4.77ms\tremaining: 472ms\n",
      "1:\tlearn: 0.6214218\ttotal: 14ms\tremaining: 688ms\n",
      "2:\tlearn: 0.5949274\ttotal: 22.2ms\tremaining: 717ms\n",
      "3:\tlearn: 0.5733603\ttotal: 25.8ms\tremaining: 619ms\n",
      "4:\tlearn: 0.5544025\ttotal: 29.3ms\tremaining: 557ms\n",
      "5:\tlearn: 0.5371589\ttotal: 119ms\tremaining: 1.86s\n",
      "6:\tlearn: 0.5229342\ttotal: 123ms\tremaining: 1.63s\n",
      "7:\tlearn: 0.5090895\ttotal: 128ms\tremaining: 1.47s\n",
      "8:\tlearn: 0.4981827\ttotal: 217ms\tremaining: 2.19s\n",
      "9:\tlearn: 0.4877513\ttotal: 221ms\tremaining: 1.99s\n",
      "10:\tlearn: 0.4780005\ttotal: 225ms\tremaining: 1.82s\n",
      "11:\tlearn: 0.4703282\ttotal: 315ms\tremaining: 2.31s\n",
      "12:\tlearn: 0.4633062\ttotal: 318ms\tremaining: 2.13s\n",
      "13:\tlearn: 0.4564854\ttotal: 322ms\tremaining: 1.98s\n",
      "14:\tlearn: 0.4515813\ttotal: 330ms\tremaining: 1.87s\n",
      "15:\tlearn: 0.4466185\ttotal: 414ms\tremaining: 2.17s\n",
      "16:\tlearn: 0.4433802\ttotal: 418ms\tremaining: 2.04s\n",
      "17:\tlearn: 0.4388618\ttotal: 423ms\tremaining: 1.93s\n",
      "18:\tlearn: 0.4343735\ttotal: 514ms\tremaining: 2.19s\n",
      "19:\tlearn: 0.4301901\ttotal: 517ms\tremaining: 2.07s\n",
      "20:\tlearn: 0.4267488\ttotal: 521ms\tremaining: 1.96s\n",
      "21:\tlearn: 0.4236784\ttotal: 612ms\tremaining: 2.17s\n",
      "22:\tlearn: 0.4212643\ttotal: 616ms\tremaining: 2.06s\n",
      "23:\tlearn: 0.4184288\ttotal: 708ms\tremaining: 2.24s\n",
      "24:\tlearn: 0.4161575\ttotal: 712ms\tremaining: 2.13s\n",
      "25:\tlearn: 0.4148098\ttotal: 715ms\tremaining: 2.03s\n",
      "26:\tlearn: 0.4127283\ttotal: 806ms\tremaining: 2.18s\n",
      "27:\tlearn: 0.4109843\ttotal: 811ms\tremaining: 2.08s\n",
      "28:\tlearn: 0.4093128\ttotal: 815ms\tremaining: 1.99s\n",
      "29:\tlearn: 0.4079289\ttotal: 904ms\tremaining: 2.11s\n",
      "30:\tlearn: 0.4064594\ttotal: 910ms\tremaining: 2.02s\n",
      "31:\tlearn: 0.4054631\ttotal: 912ms\tremaining: 1.94s\n",
      "32:\tlearn: 0.4039666\ttotal: 921ms\tremaining: 1.87s\n",
      "33:\tlearn: 0.4028619\ttotal: 1s\tremaining: 1.95s\n",
      "34:\tlearn: 0.4015164\ttotal: 1.01s\tremaining: 1.87s\n",
      "35:\tlearn: 0.4006627\ttotal: 1.01s\tremaining: 1.79s\n",
      "36:\tlearn: 0.3999123\ttotal: 1.1s\tremaining: 1.87s\n",
      "37:\tlearn: 0.3997344\ttotal: 1.1s\tremaining: 1.8s\n",
      "38:\tlearn: 0.3993628\ttotal: 1.1s\tremaining: 1.73s\n",
      "39:\tlearn: 0.3983467\ttotal: 1.11s\tremaining: 1.66s\n",
      "40:\tlearn: 0.3978883\ttotal: 1.2s\tremaining: 1.73s\n",
      "41:\tlearn: 0.3970848\ttotal: 1.2s\tremaining: 1.66s\n",
      "42:\tlearn: 0.3965063\ttotal: 1.21s\tremaining: 1.6s\n",
      "43:\tlearn: 0.3956979\ttotal: 1.3s\tremaining: 1.65s\n",
      "44:\tlearn: 0.3949934\ttotal: 1.3s\tremaining: 1.59s\n",
      "45:\tlearn: 0.3941366\ttotal: 1.3s\tremaining: 1.53s\n",
      "46:\tlearn: 0.3937437\ttotal: 1.4s\tremaining: 1.57s\n",
      "47:\tlearn: 0.3932129\ttotal: 1.4s\tremaining: 1.51s\n",
      "48:\tlearn: 0.3925138\ttotal: 1.4s\tremaining: 1.46s\n",
      "49:\tlearn: 0.3915652\ttotal: 1.5s\tremaining: 1.5s\n",
      "50:\tlearn: 0.3910208\ttotal: 1.5s\tremaining: 1.44s\n",
      "51:\tlearn: 0.3903648\ttotal: 1.59s\tremaining: 1.47s\n",
      "52:\tlearn: 0.3894317\ttotal: 1.6s\tremaining: 1.42s\n",
      "53:\tlearn: 0.3886846\ttotal: 1.6s\tremaining: 1.36s\n",
      "54:\tlearn: 0.3882967\ttotal: 1.69s\tremaining: 1.38s\n",
      "55:\tlearn: 0.3875270\ttotal: 1.7s\tremaining: 1.33s\n",
      "56:\tlearn: 0.3871060\ttotal: 1.7s\tremaining: 1.28s\n",
      "57:\tlearn: 0.3867650\ttotal: 1.79s\tremaining: 1.3s\n",
      "58:\tlearn: 0.3867631\ttotal: 1.79s\tremaining: 1.25s\n",
      "59:\tlearn: 0.3867574\ttotal: 1.79s\tremaining: 1.2s\n",
      "60:\tlearn: 0.3864847\ttotal: 1.8s\tremaining: 1.15s\n",
      "61:\tlearn: 0.3860709\ttotal: 1.89s\tremaining: 1.16s\n",
      "62:\tlearn: 0.3856314\ttotal: 1.89s\tremaining: 1.11s\n",
      "63:\tlearn: 0.3852620\ttotal: 1.99s\tremaining: 1.12s\n",
      "64:\tlearn: 0.3849731\ttotal: 1.99s\tremaining: 1.07s\n",
      "65:\tlearn: 0.3848324\ttotal: 1.99s\tremaining: 1.03s\n",
      "66:\tlearn: 0.3843847\ttotal: 2.08s\tremaining: 1.03s\n",
      "67:\tlearn: 0.3843373\ttotal: 2.09s\tremaining: 983ms\n",
      "68:\tlearn: 0.3841320\ttotal: 2.09s\tremaining: 940ms\n",
      "69:\tlearn: 0.3839133\ttotal: 2.18s\tremaining: 936ms\n",
      "70:\tlearn: 0.3835481\ttotal: 2.19s\tremaining: 893ms\n",
      "71:\tlearn: 0.3832491\ttotal: 2.19s\tremaining: 852ms\n",
      "72:\tlearn: 0.3829983\ttotal: 2.28s\tremaining: 845ms\n",
      "73:\tlearn: 0.3829850\ttotal: 2.29s\tremaining: 804ms\n",
      "74:\tlearn: 0.3827874\ttotal: 2.29s\tremaining: 764ms\n",
      "75:\tlearn: 0.3825809\ttotal: 2.38s\tremaining: 751ms\n",
      "76:\tlearn: 0.3824716\ttotal: 2.38s\tremaining: 712ms\n",
      "77:\tlearn: 0.3820906\ttotal: 2.48s\tremaining: 698ms\n",
      "78:\tlearn: 0.3818460\ttotal: 2.48s\tremaining: 659ms\n",
      "79:\tlearn: 0.3816450\ttotal: 2.48s\tremaining: 621ms\n",
      "80:\tlearn: 0.3812202\ttotal: 2.58s\tremaining: 604ms\n",
      "81:\tlearn: 0.3811693\ttotal: 2.58s\tremaining: 567ms\n",
      "82:\tlearn: 0.3810196\ttotal: 2.67s\tremaining: 548ms\n",
      "83:\tlearn: 0.3807126\ttotal: 2.68s\tremaining: 511ms\n",
      "84:\tlearn: 0.3806075\ttotal: 2.77s\tremaining: 490ms\n",
      "85:\tlearn: 0.3803199\ttotal: 2.78s\tremaining: 453ms\n",
      "86:\tlearn: 0.3801252\ttotal: 2.87s\tremaining: 429ms\n",
      "87:\tlearn: 0.3798507\ttotal: 2.97s\tremaining: 405ms\n",
      "88:\tlearn: 0.3795267\ttotal: 2.98s\tremaining: 369ms\n",
      "89:\tlearn: 0.3793579\ttotal: 3.08s\tremaining: 342ms\n",
      "90:\tlearn: 0.3791436\ttotal: 3.17s\tremaining: 313ms\n",
      "91:\tlearn: 0.3788702\ttotal: 3.17s\tremaining: 276ms\n",
      "92:\tlearn: 0.3787997\ttotal: 3.18s\tremaining: 239ms\n",
      "93:\tlearn: 0.3787589\ttotal: 3.27s\tremaining: 208ms\n",
      "94:\tlearn: 0.3785941\ttotal: 3.28s\tremaining: 172ms\n",
      "95:\tlearn: 0.3782048\ttotal: 3.36s\tremaining: 140ms\n",
      "96:\tlearn: 0.3780916\ttotal: 3.37s\tremaining: 104ms\n",
      "97:\tlearn: 0.3780476\ttotal: 3.46s\tremaining: 70.7ms\n",
      "98:\tlearn: 0.3774905\ttotal: 3.47s\tremaining: 35.1ms\n",
      "99:\tlearn: 0.3774896\ttotal: 3.57s\tremaining: 0us\n",
      "\n",
      " The best score:  0.8552985735761865\n",
      "\n",
      " The best parameters:  {'n_estimators': 100, 'learning_rate': 0.1, 'depth': 6}\n",
      "\n",
      " ROC-AUC CatBoost:  0.8633220463446475\n"
     ]
    }
   ],
   "source": [
    "model_CB = CatBoostClassifier()\n",
    "\n",
    "parameters = {'depth'         : [6,10],\n",
    "              'learning_rate' : [0.03, 0.1],\n",
    "              'n_estimators'  : [60, 100] }\n",
    "    \n",
    "randm = RandomizedSearchCV(estimator=model_CB, param_distributions = parameters, scoring='roc_auc',  \n",
    "                               cv = 2, n_iter = 10, n_jobs=-1, verbose = 2, random_state=12345)\n",
    "\n",
    "randm_results=randm.fit(X_train, Y_train,cat_features=cat_features)\n",
    "\n",
    "\n",
    "print(\"\\n The best score: \", randm_results.best_score_)\n",
    "\n",
    "print(\"\\n The best parameters: \", randm_results.best_params_)\n",
    "\n",
    "# Predict after fitting RandomizedSearchCV with best parameters\n",
    "y_CB_prob = randm.predict_proba(X_test)[:,1]\n",
    "y_CB_pred = randm.predict(X_test)\n",
    " \n",
    "CB_score = roc_auc_score(Y_test,y_CB_prob)\n",
    "\n",
    "print(\"\\n ROC-AUC CatBoost: \", CB_score)\n"
   ]
  },
  {
   "cell_type": "code",
   "execution_count": 65,
   "metadata": {
    "collapsed": true
   },
   "outputs": [
    {
     "data": {
      "text/html": [
       "<div>\n",
       "<style scoped>\n",
       "    .dataframe tbody tr th:only-of-type {\n",
       "        vertical-align: middle;\n",
       "    }\n",
       "\n",
       "    .dataframe tbody tr th {\n",
       "        vertical-align: top;\n",
       "    }\n",
       "\n",
       "    .dataframe thead th {\n",
       "        text-align: right;\n",
       "    }\n",
       "</style>\n",
       "<table border=\"1\" class=\"dataframe\">\n",
       "  <thead>\n",
       "    <tr style=\"text-align: right;\">\n",
       "      <th></th>\n",
       "      <th>train</th>\n",
       "      <th>test</th>\n",
       "    </tr>\n",
       "  </thead>\n",
       "  <tbody>\n",
       "    <tr>\n",
       "      <td>accuracy</td>\n",
       "      <td>0.823467</td>\n",
       "      <td>0.821606</td>\n",
       "    </tr>\n",
       "    <tr>\n",
       "      <td>roc_auc</td>\n",
       "      <td>0.870287</td>\n",
       "      <td>0.863322</td>\n",
       "    </tr>\n",
       "    <tr>\n",
       "      <td>precision</td>\n",
       "      <td>0.705588</td>\n",
       "      <td>0.727586</td>\n",
       "    </tr>\n",
       "    <tr>\n",
       "      <td>recall</td>\n",
       "      <td>0.569314</td>\n",
       "      <td>0.550914</td>\n",
       "    </tr>\n",
       "    <tr>\n",
       "      <td>f1_score</td>\n",
       "      <td>0.630168</td>\n",
       "      <td>0.627043</td>\n",
       "    </tr>\n",
       "  </tbody>\n",
       "</table>\n",
       "</div>"
      ],
      "text/plain": [
       "              train      test\n",
       "accuracy   0.823467  0.821606\n",
       "roc_auc    0.870287  0.863322\n",
       "precision  0.705588  0.727586\n",
       "recall     0.569314  0.550914\n",
       "f1_score   0.630168  0.627043"
      ]
     },
     "execution_count": 65,
     "metadata": {},
     "output_type": "execute_result"
    }
   ],
   "source": [
    "CB_metrics = get_metrics(randm, X_train, Y_train, X_test, Y_test)\n",
    "CB_metrics"
   ]
  },
  {
   "cell_type": "code",
   "execution_count": 66,
   "metadata": {
    "collapsed": true
   },
   "outputs": [
    {
     "data": {
      "image/png": "[encoded data removed]",
      "text/plain": [
       "<Figure size 432x288 with 2 Axes>"
      ]
     },
     "metadata": {
      "needs_background": "light"
     },
     "output_type": "display_data"
    }
   ],
   "source": [
    "conf_matrix(Y_test, y_CB_pred)"
   ]
  },
  {
   "cell_type": "markdown",
   "metadata": {},
   "source": [
    "* #### LGBM"
   ]
  },
  {
   "cell_type": "code",
   "execution_count": 67,
   "metadata": {
    "collapsed": true
   },
   "outputs": [
    {
     "name": "stdout",
     "output_type": "stream",
     "text": [
      "Fitting 5 folds for each of 8 candidates, totalling 40 fits\n",
      "[CV] n_estimators=60, learning_rate=0.03, depth=6 ....................\n"
     ]
    },
    {
     "name": "stderr",
     "output_type": "stream",
     "text": [
      "[Parallel(n_jobs=-1)]: Using backend SequentialBackend with 1 concurrent workers.\n"
     ]
    },
    {
     "name": "stdout",
     "output_type": "stream",
     "text": [
      "[CV] ..... n_estimators=60, learning_rate=0.03, depth=6, total=   0.2s\n",
      "[CV] n_estimators=60, learning_rate=0.03, depth=6 ....................\n"
     ]
    },
    {
     "name": "stderr",
     "output_type": "stream",
     "text": [
      "[Parallel(n_jobs=-1)]: Done   1 out of   1 | elapsed:    0.2s remaining:    0.0s\n"
     ]
    },
    {
     "name": "stdout",
     "output_type": "stream",
     "text": [
      "[CV] ..... n_estimators=60, learning_rate=0.03, depth=6, total=   0.2s\n",
      "[CV] n_estimators=60, learning_rate=0.03, depth=6 ....................\n",
      "[CV] ..... n_estimators=60, learning_rate=0.03, depth=6, total=   0.2s\n",
      "[CV] n_estimators=60, learning_rate=0.03, depth=6 ....................\n",
      "[CV] ..... n_estimators=60, learning_rate=0.03, depth=6, total=   0.2s\n",
      "[CV] n_estimators=60, learning_rate=0.03, depth=6 ....................\n",
      "[CV] ..... n_estimators=60, learning_rate=0.03, depth=6, total=   0.2s\n",
      "[CV] n_estimators=100, learning_rate=0.03, depth=6 ...................\n",
      "[CV] .... n_estimators=100, learning_rate=0.03, depth=6, total=   0.3s\n",
      "[CV] n_estimators=100, learning_rate=0.03, depth=6 ...................\n",
      "[CV] .... n_estimators=100, learning_rate=0.03, depth=6, total=   0.3s\n",
      "[CV] n_estimators=100, learning_rate=0.03, depth=6 ...................\n",
      "[CV] .... n_estimators=100, learning_rate=0.03, depth=6, total=   0.3s\n",
      "[CV] n_estimators=100, learning_rate=0.03, depth=6 ...................\n",
      "[CV] .... n_estimators=100, learning_rate=0.03, depth=6, total=   0.3s\n",
      "[CV] n_estimators=100, learning_rate=0.03, depth=6 ...................\n",
      "[CV] .... n_estimators=100, learning_rate=0.03, depth=6, total=   0.3s\n",
      "[CV] n_estimators=60, learning_rate=0.1, depth=6 .....................\n",
      "[CV] ...... n_estimators=60, learning_rate=0.1, depth=6, total=   0.2s\n",
      "[CV] n_estimators=60, learning_rate=0.1, depth=6 .....................\n",
      "[CV] ...... n_estimators=60, learning_rate=0.1, depth=6, total=   0.2s\n",
      "[CV] n_estimators=60, learning_rate=0.1, depth=6 .....................\n",
      "[CV] ...... n_estimators=60, learning_rate=0.1, depth=6, total=   0.2s\n",
      "[CV] n_estimators=60, learning_rate=0.1, depth=6 .....................\n",
      "[CV] ...... n_estimators=60, learning_rate=0.1, depth=6, total=   0.2s\n",
      "[CV] n_estimators=60, learning_rate=0.1, depth=6 .....................\n",
      "[CV] ...... n_estimators=60, learning_rate=0.1, depth=6, total=   0.2s\n",
      "[CV] n_estimators=100, learning_rate=0.1, depth=6 ....................\n",
      "[CV] ..... n_estimators=100, learning_rate=0.1, depth=6, total=   0.3s\n",
      "[CV] n_estimators=100, learning_rate=0.1, depth=6 ....................\n",
      "[CV] ..... n_estimators=100, learning_rate=0.1, depth=6, total=   0.3s\n",
      "[CV] n_estimators=100, learning_rate=0.1, depth=6 ....................\n",
      "[CV] ..... n_estimators=100, learning_rate=0.1, depth=6, total=   0.3s\n",
      "[CV] n_estimators=100, learning_rate=0.1, depth=6 ....................\n",
      "[CV] ..... n_estimators=100, learning_rate=0.1, depth=6, total=   0.4s\n",
      "[CV] n_estimators=100, learning_rate=0.1, depth=6 ....................\n",
      "[CV] ..... n_estimators=100, learning_rate=0.1, depth=6, total=   0.3s\n",
      "[CV] n_estimators=60, learning_rate=0.03, depth=10 ...................\n",
      "[CV] .... n_estimators=60, learning_rate=0.03, depth=10, total=   0.2s\n",
      "[CV] n_estimators=60, learning_rate=0.03, depth=10 ...................\n",
      "[CV] .... n_estimators=60, learning_rate=0.03, depth=10, total=   0.2s\n",
      "[CV] n_estimators=60, learning_rate=0.03, depth=10 ...................\n",
      "[CV] .... n_estimators=60, learning_rate=0.03, depth=10, total=   0.2s\n",
      "[CV] n_estimators=60, learning_rate=0.03, depth=10 ...................\n",
      "[CV] .... n_estimators=60, learning_rate=0.03, depth=10, total=   0.2s\n",
      "[CV] n_estimators=60, learning_rate=0.03, depth=10 ...................\n",
      "[CV] .... n_estimators=60, learning_rate=0.03, depth=10, total=   0.2s\n",
      "[CV] n_estimators=100, learning_rate=0.03, depth=10 ..................\n",
      "[CV] ... n_estimators=100, learning_rate=0.03, depth=10, total=   0.3s\n",
      "[CV] n_estimators=100, learning_rate=0.03, depth=10 ..................\n",
      "[CV] ... n_estimators=100, learning_rate=0.03, depth=10, total=   0.3s\n",
      "[CV] n_estimators=100, learning_rate=0.03, depth=10 ..................\n",
      "[CV] ... n_estimators=100, learning_rate=0.03, depth=10, total=   0.3s\n",
      "[CV] n_estimators=100, learning_rate=0.03, depth=10 ..................\n",
      "[CV] ... n_estimators=100, learning_rate=0.03, depth=10, total=   0.3s\n",
      "[CV] n_estimators=100, learning_rate=0.03, depth=10 ..................\n",
      "[CV] ... n_estimators=100, learning_rate=0.03, depth=10, total=   0.3s\n",
      "[CV] n_estimators=60, learning_rate=0.1, depth=10 ....................\n",
      "[CV] ..... n_estimators=60, learning_rate=0.1, depth=10, total=   0.2s\n",
      "[CV] n_estimators=60, learning_rate=0.1, depth=10 ....................\n",
      "[CV] ..... n_estimators=60, learning_rate=0.1, depth=10, total=   0.2s\n",
      "[CV] n_estimators=60, learning_rate=0.1, depth=10 ....................\n",
      "[CV] ..... n_estimators=60, learning_rate=0.1, depth=10, total=   0.2s\n",
      "[CV] n_estimators=60, learning_rate=0.1, depth=10 ....................\n",
      "[CV] ..... n_estimators=60, learning_rate=0.1, depth=10, total=   0.2s\n",
      "[CV] n_estimators=60, learning_rate=0.1, depth=10 ....................\n",
      "[CV] ..... n_estimators=60, learning_rate=0.1, depth=10, total=   0.2s\n",
      "[CV] n_estimators=100, learning_rate=0.1, depth=10 ...................\n",
      "[CV] .... n_estimators=100, learning_rate=0.1, depth=10, total=   0.3s\n",
      "[CV] n_estimators=100, learning_rate=0.1, depth=10 ...................\n",
      "[CV] .... n_estimators=100, learning_rate=0.1, depth=10, total=   0.3s\n",
      "[CV] n_estimators=100, learning_rate=0.1, depth=10 ...................\n",
      "[CV] .... n_estimators=100, learning_rate=0.1, depth=10, total=   0.3s\n",
      "[CV] n_estimators=100, learning_rate=0.1, depth=10 ...................\n",
      "[CV] .... n_estimators=100, learning_rate=0.1, depth=10, total=   0.2s\n",
      "[CV] n_estimators=100, learning_rate=0.1, depth=10 ...................\n",
      "[CV] .... n_estimators=100, learning_rate=0.1, depth=10, total=   0.3s\n"
     ]
    },
    {
     "name": "stderr",
     "output_type": "stream",
     "text": [
      "[Parallel(n_jobs=-1)]: Done  40 out of  40 | elapsed:    9.6s finished\n"
     ]
    },
    {
     "name": "stdout",
     "output_type": "stream",
     "text": [
      "\n",
      " The best parameters:  {'n_estimators': 100, 'learning_rate': 0.03, 'depth': 6}\n",
      "\n",
      " ROC-AUC LGBM:  0.8594145214588773\n"
     ]
    }
   ],
   "source": [
    "lgbm_model = lgb.LGBMClassifier()\n",
    "                          \n",
    "lgbm_params = {'depth'        : [6,10],\n",
    "              'learning_rate' : [0.03, 0.1],\n",
    "              'n_estimators'  : [60,100] }\n",
    "\n",
    "random_search = RandomizedSearchCV(lgbm_model, lgbm_params, n_iter=10, n_jobs=-1, cv=5, \n",
    "                                   scoring= 'roc_auc', verbose = 2, random_state=12345)\n",
    "\n",
    "random_search.fit(X_train, Y_train, categorical_feature= cat_features)\n",
    "\n",
    "print(\"\\n The best parameters: \", random_search.best_params_)\n",
    "\n",
    "# Predict after fitting RandomizedSearchCV with best parameters\n",
    "y_LGBM_prob = random_search.predict_proba(X_test)[:,1]\n",
    "y_LGBM_pred = random_search.predict(X_test)\n",
    " \n",
    "LGBM_score = roc_auc_score(Y_test,y_LGBM_prob)\n",
    "\n",
    "print(\"\\n ROC-AUC LGBM: \", LGBM_score)\n",
    "\n"
   ]
  },
  {
   "cell_type": "code",
   "execution_count": 68,
   "metadata": {
    "collapsed": true
   },
   "outputs": [
    {
     "data": {
      "text/html": [
       "<div>\n",
       "<style scoped>\n",
       "    .dataframe tbody tr th:only-of-type {\n",
       "        vertical-align: middle;\n",
       "    }\n",
       "\n",
       "    .dataframe tbody tr th {\n",
       "        vertical-align: top;\n",
       "    }\n",
       "\n",
       "    .dataframe thead th {\n",
       "        text-align: right;\n",
       "    }\n",
       "</style>\n",
       "<table border=\"1\" class=\"dataframe\">\n",
       "  <thead>\n",
       "    <tr style=\"text-align: right;\">\n",
       "      <th></th>\n",
       "      <th>train</th>\n",
       "      <th>test</th>\n",
       "    </tr>\n",
       "  </thead>\n",
       "  <tbody>\n",
       "    <tr>\n",
       "      <td>accuracy</td>\n",
       "      <td>0.843911</td>\n",
       "      <td>0.816631</td>\n",
       "    </tr>\n",
       "    <tr>\n",
       "      <td>roc_auc</td>\n",
       "      <td>0.907969</td>\n",
       "      <td>0.859415</td>\n",
       "    </tr>\n",
       "    <tr>\n",
       "      <td>precision</td>\n",
       "      <td>0.783582</td>\n",
       "      <td>0.751004</td>\n",
       "    </tr>\n",
       "    <tr>\n",
       "      <td>recall</td>\n",
       "      <td>0.565276</td>\n",
       "      <td>0.488251</td>\n",
       "    </tr>\n",
       "    <tr>\n",
       "      <td>f1_score</td>\n",
       "      <td>0.656763</td>\n",
       "      <td>0.591772</td>\n",
       "    </tr>\n",
       "  </tbody>\n",
       "</table>\n",
       "</div>"
      ],
      "text/plain": [
       "              train      test\n",
       "accuracy   0.843911  0.816631\n",
       "roc_auc    0.907969  0.859415\n",
       "precision  0.783582  0.751004\n",
       "recall     0.565276  0.488251\n",
       "f1_score   0.656763  0.591772"
      ]
     },
     "execution_count": 68,
     "metadata": {},
     "output_type": "execute_result"
    }
   ],
   "source": [
    "LGBM_metrics = get_metrics(random_search, X_train, Y_train, X_test, Y_test)\n",
    "LGBM_metrics"
   ]
  },
  {
   "cell_type": "code",
   "execution_count": 69,
   "metadata": {
    "collapsed": true
   },
   "outputs": [
    {
     "data": {
      "image/png": "[encoded data removed]",
      "text/plain": [
       "<Figure size 432x288 with 2 Axes>"
      ]
     },
     "metadata": {
      "needs_background": "light"
     },
     "output_type": "display_data"
    }
   ],
   "source": [
    "conf_matrix(Y_test, y_LGBM_pred)"
   ]
  },
  {
   "cell_type": "markdown",
   "metadata": {},
   "source": [
    "Looking at confusion metrics of the models above, we can see that CatBoost has the smalest number of False Negatives. False Negatives mean that client will churn, but the model says he will not and we loose money."
   ]
  },
  {
   "cell_type": "markdown",
   "metadata": {},
   "source": [
    "Let's look at the results of all models."
   ]
  },
  {
   "cell_type": "code",
   "execution_count": 70,
   "metadata": {},
   "outputs": [
    {
     "data": {
      "text/html": [
       "<div>\n",
       "<style scoped>\n",
       "    .dataframe tbody tr th:only-of-type {\n",
       "        vertical-align: middle;\n",
       "    }\n",
       "\n",
       "    .dataframe tbody tr th {\n",
       "        vertical-align: top;\n",
       "    }\n",
       "\n",
       "    .dataframe thead th {\n",
       "        text-align: right;\n",
       "    }\n",
       "</style>\n",
       "<table border=\"1\" class=\"dataframe\">\n",
       "  <thead>\n",
       "    <tr style=\"text-align: right;\">\n",
       "      <th></th>\n",
       "      <th>LR</th>\n",
       "      <th>RF</th>\n",
       "      <th>XGB</th>\n",
       "      <th>CB</th>\n",
       "      <th>LGBM</th>\n",
       "    </tr>\n",
       "  </thead>\n",
       "  <tbody>\n",
       "    <tr>\n",
       "      <td>accuracy</td>\n",
       "      <td>0.790334</td>\n",
       "      <td>0.800284</td>\n",
       "      <td>0.798152</td>\n",
       "      <td>0.821606</td>\n",
       "      <td>0.816631</td>\n",
       "    </tr>\n",
       "    <tr>\n",
       "      <td>roc_auc</td>\n",
       "      <td>0.829899</td>\n",
       "      <td>0.837423</td>\n",
       "      <td>0.842136</td>\n",
       "      <td>0.863322</td>\n",
       "      <td>0.859415</td>\n",
       "    </tr>\n",
       "    <tr>\n",
       "      <td>precision</td>\n",
       "      <td>0.629508</td>\n",
       "      <td>0.679537</td>\n",
       "      <td>0.669173</td>\n",
       "      <td>0.727586</td>\n",
       "      <td>0.751004</td>\n",
       "    </tr>\n",
       "    <tr>\n",
       "      <td>recall</td>\n",
       "      <td>0.513369</td>\n",
       "      <td>0.470588</td>\n",
       "      <td>0.475936</td>\n",
       "      <td>0.550914</td>\n",
       "      <td>0.488251</td>\n",
       "    </tr>\n",
       "    <tr>\n",
       "      <td>f1_score</td>\n",
       "      <td>0.565538</td>\n",
       "      <td>0.556082</td>\n",
       "      <td>0.556250</td>\n",
       "      <td>0.627043</td>\n",
       "      <td>0.591772</td>\n",
       "    </tr>\n",
       "  </tbody>\n",
       "</table>\n",
       "</div>"
      ],
      "text/plain": [
       "                 LR        RF       XGB        CB      LGBM\n",
       "accuracy   0.790334  0.800284  0.798152  0.821606  0.816631\n",
       "roc_auc    0.829899  0.837423  0.842136  0.863322  0.859415\n",
       "precision  0.629508  0.679537  0.669173  0.727586  0.751004\n",
       "recall     0.513369  0.470588  0.475936  0.550914  0.488251\n",
       "f1_score   0.565538  0.556082  0.556250  0.627043  0.591772"
      ]
     },
     "execution_count": 70,
     "metadata": {},
     "output_type": "execute_result"
    }
   ],
   "source": [
    "results = pd.concat([LR_metrics['test'], RF_metrics['test'], XGB_metrics['test'], CB_metrics['test'], LGBM_metrics['test']], keys = ['LR','RF','XGB','CB','LGBM'], axis = 1)\n",
    "results"
   ]
  },
  {
   "cell_type": "markdown",
   "metadata": {},
   "source": [
    "### After testing 5 models, we can conclude that CatBoost is a leader. CatBoost has the highest value of ROC_AUC (0.86)."
   ]
  }
 ],
 "metadata": {
  "kernelspec": {
   "display_name": "Python 3",
   "language": "python",
   "name": "python3"
  },
  "language_info": {
   "codemirror_mode": {
    "name": "ipython",
    "version": 3
   },
   "file_extension": ".py",
   "mimetype": "text/x-python",
   "name": "python",
   "nbconvert_exporter": "python",
   "pygments_lexer": "ipython3",
   "version": "3.7.6"
  }
 },
 "nbformat": 4,
 "nbformat_minor": 2
}
